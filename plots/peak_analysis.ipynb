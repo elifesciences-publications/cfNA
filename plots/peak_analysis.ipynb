{
 "cells": [
  {
   "cell_type": "code",
   "execution_count": 40,
   "metadata": {
    "collapsed": false
   },
   "outputs": [
    {
     "name": "stdout",
     "output_type": "stream",
     "text": [
      "The autoreload extension is already loaded. To reload it, use:\n",
      "  %reload_ext autoreload\n"
     ]
    }
   ],
   "source": [
    "%matplotlib inline\n",
    "%load_ext autoreload\n",
    "%autoreload 2\n",
    "\n",
    "import pandas as pd\n",
    "import numpy as np\n",
    "import matplotlib.pyplot as plt\n",
    "import matplotlib.lines as mlines\n",
    "import seaborn as sns\n",
    "from sequencing_tools.viz_tools import okabeito_palette, color_encoder, simpsons_palette\n",
    "from sequencing_tools.stats_tools import p_adjust\n",
    "from scipy.special import ndtr\n",
    "from collections import defaultdict\n",
    "from sequencing_tools.fastq_tools import reverse_complement\n",
    "from sequencing_tools.bam_tools import get_strand\n",
    "import RNA\n",
    "from multiprocessing import Pool\n",
    "import random\n",
    "import pysam\n",
    "import glob\n",
    "import re\n",
    "#import genomeview\n",
    "from pybedtools import BedTool\n",
    "import mappy as mp\n",
    "from plotting_utils import figure_path\n",
    "from matplotlib import rcParams\n",
    "from peak_utils import *\n",
    "from tblout_parser import read_tbl\n",
    "\n",
    "plt.rc('axes', labelsize=15)\n",
    "plt.rc('xtick', labelsize = 15)\n",
    "plt.rc('ytick', labelsize = 15)\n",
    "rcParams['font.family'] = 'sans-serif'\n",
    "rcParams['font.sans-serif'] = ['Arial']"
   ]
  },
  {
   "cell_type": "code",
   "execution_count": 41,
   "metadata": {
    "collapsed": false
   },
   "outputs": [
    {
     "name": "stdout",
     "output_type": "stream",
     "text": [
      "/stor/work/Lambowitz/cdw2854/cfNA/tgirt_map/bed_files/merged_bed/MACS2/annotated/unfragmented.tsv\n"
     ]
    },
    {
     "data": {
      "text/html": [
       "<div>\n",
       "<style scoped>\n",
       "    .dataframe tbody tr th:only-of-type {\n",
       "        vertical-align: middle;\n",
       "    }\n",
       "\n",
       "    .dataframe tbody tr th {\n",
       "        vertical-align: top;\n",
       "    }\n",
       "\n",
       "    .dataframe thead th {\n",
       "        text-align: right;\n",
       "    }\n",
       "</style>\n",
       "<table border=\"1\" class=\"dataframe\">\n",
       "  <thead>\n",
       "    <tr style=\"text-align: right;\">\n",
       "      <th></th>\n",
       "      <th>chrom</th>\n",
       "      <th>start</th>\n",
       "      <th>end</th>\n",
       "      <th>peakname</th>\n",
       "      <th>score</th>\n",
       "      <th>fc</th>\n",
       "      <th>log10p</th>\n",
       "      <th>log10q</th>\n",
       "      <th>pileup</th>\n",
       "      <th>sample_count</th>\n",
       "      <th>sense_gname</th>\n",
       "      <th>sense_gtype</th>\n",
       "      <th>strand</th>\n",
       "      <th>antisense_gname</th>\n",
       "      <th>antisense_gtype</th>\n",
       "      <th>pvalue</th>\n",
       "      <th>FDR</th>\n",
       "      <th>is_sense</th>\n",
       "    </tr>\n",
       "  </thead>\n",
       "  <tbody>\n",
       "    <tr>\n",
       "      <th>0</th>\n",
       "      <td>chr6</td>\n",
       "      <td>95156834</td>\n",
       "      <td>95156909</td>\n",
       "      <td>unfragmented.rvs_peak_24150</td>\n",
       "      <td>383034</td>\n",
       "      <td>7597.30273</td>\n",
       "      <td>38312.00781</td>\n",
       "      <td>38303.41406</td>\n",
       "      <td>9013.0</td>\n",
       "      <td>15</td>\n",
       "      <td>MTPAP</td>\n",
       "      <td>RBP</td>\n",
       "      <td>-</td>\n",
       "      <td>.</td>\n",
       "      <td>Unannotated</td>\n",
       "      <td>0.0</td>\n",
       "      <td>0.0</td>\n",
       "      <td>Sense</td>\n",
       "    </tr>\n",
       "    <tr>\n",
       "      <th>1</th>\n",
       "      <td>chr9</td>\n",
       "      <td>35657742</td>\n",
       "      <td>35658019</td>\n",
       "      <td>unfragmented.rvs_peak_28129</td>\n",
       "      <td>70301</td>\n",
       "      <td>1631.62878</td>\n",
       "      <td>7037.52393</td>\n",
       "      <td>7030.15186</td>\n",
       "      <td>1710.0</td>\n",
       "      <td>15</td>\n",
       "      <td>RMRP</td>\n",
       "      <td>Long RNA</td>\n",
       "      <td>-</td>\n",
       "      <td>.</td>\n",
       "      <td>Unannotated</td>\n",
       "      <td>0.0</td>\n",
       "      <td>0.0</td>\n",
       "      <td>Sense</td>\n",
       "    </tr>\n",
       "    <tr>\n",
       "      <th>2</th>\n",
       "      <td>chr14</td>\n",
       "      <td>20811226</td>\n",
       "      <td>20811574</td>\n",
       "      <td>unfragmented.rvs_peak_7948</td>\n",
       "      <td>50630</td>\n",
       "      <td>1162.71960</td>\n",
       "      <td>5070.37598</td>\n",
       "      <td>5063.06152</td>\n",
       "      <td>1190.0</td>\n",
       "      <td>15</td>\n",
       "      <td>RPPH1</td>\n",
       "      <td>Long RNA</td>\n",
       "      <td>-</td>\n",
       "      <td>.</td>\n",
       "      <td>Unannotated</td>\n",
       "      <td>0.0</td>\n",
       "      <td>0.0</td>\n",
       "      <td>Sense</td>\n",
       "    </tr>\n",
       "    <tr>\n",
       "      <th>47886</th>\n",
       "      <td>chr16</td>\n",
       "      <td>223472</td>\n",
       "      <td>223709</td>\n",
       "      <td>unfragmented.rvs_peak_9869</td>\n",
       "      <td>22638</td>\n",
       "      <td>578.88098</td>\n",
       "      <td>2270.57202</td>\n",
       "      <td>2263.81860</td>\n",
       "      <td>775.0</td>\n",
       "      <td>15</td>\n",
       "      <td>.</td>\n",
       "      <td>Unannotated</td>\n",
       "      <td>-</td>\n",
       "      <td>LSM11</td>\n",
       "      <td>RBP</td>\n",
       "      <td>0.0</td>\n",
       "      <td>0.0</td>\n",
       "      <td>Antisense</td>\n",
       "    </tr>\n",
       "    <tr>\n",
       "      <th>47887</th>\n",
       "      <td>chr16</td>\n",
       "      <td>230338</td>\n",
       "      <td>230554</td>\n",
       "      <td>unfragmented.rvs_peak_9872</td>\n",
       "      <td>18786</td>\n",
       "      <td>467.41434</td>\n",
       "      <td>1885.30664</td>\n",
       "      <td>1878.62415</td>\n",
       "      <td>690.0</td>\n",
       "      <td>12</td>\n",
       "      <td>.</td>\n",
       "      <td>Unannotated</td>\n",
       "      <td>-</td>\n",
       "      <td>NCBP2</td>\n",
       "      <td>RBP</td>\n",
       "      <td>0.0</td>\n",
       "      <td>0.0</td>\n",
       "      <td>Antisense</td>\n",
       "    </tr>\n",
       "  </tbody>\n",
       "</table>\n",
       "</div>"
      ],
      "text/plain": [
       "       chrom     start       end                     peakname   score  \\\n",
       "0       chr6  95156834  95156909  unfragmented.rvs_peak_24150  383034   \n",
       "1       chr9  35657742  35658019  unfragmented.rvs_peak_28129   70301   \n",
       "2      chr14  20811226  20811574   unfragmented.rvs_peak_7948   50630   \n",
       "47886  chr16    223472    223709   unfragmented.rvs_peak_9869   22638   \n",
       "47887  chr16    230338    230554   unfragmented.rvs_peak_9872   18786   \n",
       "\n",
       "               fc       log10p       log10q  pileup  sample_count sense_gname  \\\n",
       "0      7597.30273  38312.00781  38303.41406  9013.0            15       MTPAP   \n",
       "1      1631.62878   7037.52393   7030.15186  1710.0            15        RMRP   \n",
       "2      1162.71960   5070.37598   5063.06152  1190.0            15       RPPH1   \n",
       "47886   578.88098   2270.57202   2263.81860   775.0            15           .   \n",
       "47887   467.41434   1885.30664   1878.62415   690.0            12           .   \n",
       "\n",
       "       sense_gtype strand antisense_gname antisense_gtype  pvalue  FDR  \\\n",
       "0              RBP      -               .     Unannotated     0.0  0.0   \n",
       "1         Long RNA      -               .     Unannotated     0.0  0.0   \n",
       "2         Long RNA      -               .     Unannotated     0.0  0.0   \n",
       "47886  Unannotated      -           LSM11             RBP     0.0  0.0   \n",
       "47887  Unannotated      -           NCBP2             RBP     0.0  0.0   \n",
       "\n",
       "        is_sense  \n",
       "0          Sense  \n",
       "1          Sense  \n",
       "2          Sense  \n",
       "47886  Antisense  \n",
       "47887  Antisense  "
      ]
     },
     "execution_count": 41,
     "metadata": {},
     "output_type": "execute_result"
    }
   ],
   "source": [
    "project_path = '/stor/work/Lambowitz/cdw2854/cfNA/tgirt_map'\n",
    "peak_path = project_path + '/bed_files/merged_bed/MACS2/annotated'\n",
    "#peak_path = project_path + '/CLAM//BED_files/peaks/annotation'\n",
    "peak_tsv = peak_path + '/unfragmented.tsv'\n",
    "print(peak_tsv)\n",
    "peak_df = load_peaks(peak_tsv)  \\\n",
    "    .assign(sense_gtype = lambda d: np.where(d.sense_gtype == \".\", 'Unannotated', d.sense_gtype))\\\n",
    "    .assign(antisense_gtype = lambda d: np.where(d.antisense_gtype == \".\", 'Unannotated', d.antisense_gtype)) \\\n",
    "    .sort_values('pileup', ascending=False)\n",
    "peak_df.head()"
   ]
  },
  {
   "cell_type": "code",
   "execution_count": 42,
   "metadata": {
    "collapsed": false
   },
   "outputs": [],
   "source": [
    "ce = color_encoder()\n",
    "colors = simpsons_palette()\n",
    "#colors.extend(['black','white'])\n",
    "random.seed(12)\n",
    "colors = random.sample(colors, k = len(peak_df.sense_gtype.unique()))\n",
    "ce.fit(peak_df.sense_gtype, colors)\n",
    "ce.encoder = {'Long RNA': '#370335',\n",
    "     'RBP': '#91331F',\n",
    "     'Repeats': '#197EC0',\n",
    "     'Unannotated': '#46732E',\n",
    "     'miRNA': '#FD7446',\n",
    "     'misc RNA': '#FD8CC1',\n",
    "     'tRF3':'black',\n",
    "     'tRF5':'black',\n",
    "     'piRNA': '#D5E4A2',\n",
    "     'snRNA': '#8A9197',\n",
    "     'snoRNA': '#FED439'}"
   ]
  },
  {
   "cell_type": "code",
   "execution_count": 43,
   "metadata": {
    "collapsed": false,
    "scrolled": false
   },
   "outputs": [
    {
     "name": "stderr",
     "output_type": "stream",
     "text": [
      "/stor/home/cdw2854/cfNA/plots/peak_utils.py:478: UserWarning: Attempted to set non-positive left xlim on a log-scaled axis.\n",
      "Invalid limit will be ignored.\n",
      "  ax.set_xlim(0, 1e4)\n"
     ]
    },
    {
     "ename": "KeyError",
     "evalue": "'rRNA'",
     "output_type": "error",
     "traceback": [
      "\u001b[0;31m---------------------------------------------------------------------------\u001b[0m",
      "\u001b[0;31mKeyError\u001b[0m                                  Traceback (most recent call last)",
      "\u001b[0;32m<ipython-input-43-a74636750203>\u001b[0m in \u001b[0;36m<module>\u001b[0;34m\u001b[0m\n\u001b[1;32m      8\u001b[0m \u001b[0;31m#plot_cov_density(peak_df, dist_cov_ax)\u001b[0m\u001b[0;34m\u001b[0m\u001b[0;34m\u001b[0m\u001b[0m\n\u001b[1;32m      9\u001b[0m \u001b[0mplot_peak_cum_cov\u001b[0m\u001b[0;34m(\u001b[0m\u001b[0mpeak_df\u001b[0m\u001b[0;34m,\u001b[0m \u001b[0mdist_cov_ax\u001b[0m\u001b[0;34m)\u001b[0m\u001b[0;34m\u001b[0m\u001b[0m\n\u001b[0;32m---> 10\u001b[0;31m \u001b[0mplot_peak_number\u001b[0m\u001b[0;34m(\u001b[0m\u001b[0mpeak_df\u001b[0m\u001b[0;34m,\u001b[0m \u001b[0mnumber_ax\u001b[0m\u001b[0;34m,\u001b[0m \u001b[0mce\u001b[0m\u001b[0;34m)\u001b[0m\u001b[0;34m\u001b[0m\u001b[0m\n\u001b[0m\u001b[1;32m     11\u001b[0m \u001b[0;31m#### add hepG2\u001b[0m\u001b[0;34m\u001b[0m\u001b[0;34m\u001b[0m\u001b[0m\n\u001b[1;32m     12\u001b[0m \u001b[0;31m#combined_peaks = pd.concat([peak_df.assign(annotation = 'K562'),\u001b[0m\u001b[0;34m\u001b[0m\u001b[0;34m\u001b[0m\u001b[0m\n",
      "\u001b[0;32m~/cfNA/plots/peak_utils.py\u001b[0m in \u001b[0;36mplot_peak_number\u001b[0;34m(peaks, ax, ce)\u001b[0m\n\u001b[1;32m    403\u001b[0m             \u001b[0;34m.\u001b[0m\u001b[0massign\u001b[0m\u001b[0;34m(\u001b[0m\u001b[0mlog_pile\u001b[0m \u001b[0;34m=\u001b[0m \u001b[0;32mlambda\u001b[0m \u001b[0md\u001b[0m\u001b[0;34m:\u001b[0m \u001b[0md\u001b[0m\u001b[0;34m.\u001b[0m\u001b[0mpileup\u001b[0m\u001b[0;34m.\u001b[0m\u001b[0mtransform\u001b[0m\u001b[0;34m(\u001b[0m\u001b[0mnp\u001b[0m\u001b[0;34m.\u001b[0m\u001b[0mlog10\u001b[0m\u001b[0;34m)\u001b[0m\u001b[0;34m)\u001b[0m\u001b[0;31m\\\u001b[0m\u001b[0;34m\u001b[0m\u001b[0m\n\u001b[1;32m    404\u001b[0m             \u001b[0;34m.\u001b[0m\u001b[0mgroupby\u001b[0m\u001b[0;34m(\u001b[0m\u001b[0;34m'sense_gtype'\u001b[0m\u001b[0;34m)\u001b[0m\u001b[0;34m:\u001b[0m\u001b[0;34m\u001b[0m\u001b[0m\n\u001b[0;32m--> 405\u001b[0;31m         \u001b[0max\u001b[0m\u001b[0;34m.\u001b[0m\u001b[0mplot\u001b[0m\u001b[0;34m(\u001b[0m\u001b[0mpdf\u001b[0m\u001b[0;34m[\u001b[0m\u001b[0;34m'log_pile'\u001b[0m\u001b[0;34m]\u001b[0m\u001b[0;34m,\u001b[0m\u001b[0mpdf\u001b[0m\u001b[0;34m[\u001b[0m\u001b[0;34m'cum_count'\u001b[0m\u001b[0;34m]\u001b[0m\u001b[0;34m,\u001b[0m \u001b[0mlabel\u001b[0m \u001b[0;34m=\u001b[0m \u001b[0mpt\u001b[0m\u001b[0;34m,\u001b[0m \u001b[0mcolor\u001b[0m \u001b[0;34m=\u001b[0m \u001b[0mce\u001b[0m\u001b[0;34m.\u001b[0m\u001b[0mencoder\u001b[0m\u001b[0;34m[\u001b[0m\u001b[0mpt\u001b[0m\u001b[0;34m]\u001b[0m\u001b[0;34m)\u001b[0m\u001b[0;34m\u001b[0m\u001b[0m\n\u001b[0m\u001b[1;32m    406\u001b[0m     \u001b[0max\u001b[0m\u001b[0;34m.\u001b[0m\u001b[0mlegend\u001b[0m\u001b[0;34m(\u001b[0m\u001b[0mbbox_to_anchor\u001b[0m\u001b[0;34m=\u001b[0m\u001b[0;34m(\u001b[0m\u001b[0;36m1\u001b[0m\u001b[0;34m,\u001b[0m\u001b[0;36m1\u001b[0m\u001b[0;34m)\u001b[0m\u001b[0;34m,\u001b[0m \u001b[0mframeon\u001b[0m\u001b[0;34m=\u001b[0m\u001b[0;32mFalse\u001b[0m\u001b[0;34m,\u001b[0m\u001b[0mfontsize\u001b[0m\u001b[0;34m=\u001b[0m\u001b[0;36m13\u001b[0m\u001b[0;34m)\u001b[0m\u001b[0;34m\u001b[0m\u001b[0m\n\u001b[1;32m    407\u001b[0m     \u001b[0max\u001b[0m\u001b[0;34m.\u001b[0m\u001b[0mvlines\u001b[0m\u001b[0;34m(\u001b[0m\u001b[0mymin\u001b[0m\u001b[0;34m=\u001b[0m\u001b[0;36m0\u001b[0m\u001b[0;34m,\u001b[0m \u001b[0mymax\u001b[0m\u001b[0;34m=\u001b[0m  \u001b[0;36m1200\u001b[0m\u001b[0;34m,\u001b[0m \u001b[0mx\u001b[0m \u001b[0;34m=\u001b[0m \u001b[0mnp\u001b[0m\u001b[0;34m.\u001b[0m\u001b[0mlog10\u001b[0m\u001b[0;34m(\u001b[0m\u001b[0mpileup_cutoff\u001b[0m\u001b[0;34m)\u001b[0m\u001b[0;34m,\u001b[0m \u001b[0mcolor\u001b[0m \u001b[0;34m=\u001b[0m \u001b[0;34m'red'\u001b[0m\u001b[0;34m)\u001b[0m\u001b[0;34m\u001b[0m\u001b[0m\n",
      "\u001b[0;31mKeyError\u001b[0m: 'rRNA'"
     ]
    },
    {
     "data": {
      "image/png": "[encoded data removed]",
      "text/plain": [
       "<Figure size 720x576 with 3 Axes>"
      ]
     },
     "metadata": {
      "needs_background": "light"
     },
     "output_type": "display_data"
    }
   ],
   "source": [
    "fig = plt.figure(figsize=(10,8))\n",
    "cov_ax = fig.add_subplot(221)\n",
    "number_ax = fig.add_subplot(223)\n",
    "dist_cov_ax = fig.add_subplot(222)\n",
    "#peak_annotation_ax = fig.add_subplot(224)\n",
    "\n",
    "plot_peak_coverage(peak_df, cov_ax, log=True)\n",
    "#plot_cov_density(peak_df, dist_cov_ax)\n",
    "plot_peak_cum_cov(peak_df, dist_cov_ax)\n",
    "plot_peak_number(peak_df, number_ax, ce)\n",
    "#### add hepG2\n",
    "#combined_peaks = pd.concat([peak_df.assign(annotation = 'K562'),\n",
    "#                        hep_peak_df.assign(annotation = 'K562 + HepG2')])\n",
    "#plot_peak_bar(peak_annotation_ax, combined_peaks)\n",
    "fig.tight_layout()\n",
    "\n",
    "figurename = figure_path + '/peak_qc.pdf'\n",
    "fig.savefig(figurename, bbox_inches = 'tight')\n",
    "print('Plotted: ', figurename)"
   ]
  },
  {
   "cell_type": "code",
   "execution_count": 44,
   "metadata": {
    "collapsed": false
   },
   "outputs": [
    {
     "data": {
      "text/plain": [
       "array(['RBP', 'Long RNA', 'Unannotated', 'Repeats', 'misc RNA', 'rRNA',\n",
       "       'piRNA'], dtype=object)"
      ]
     },
     "execution_count": 44,
     "metadata": {},
     "output_type": "execute_result"
    }
   ],
   "source": [
    "peak_df.sense_gtype.unique()"
   ]
  },
  {
   "cell_type": "code",
   "execution_count": 45,
   "metadata": {
    "collapsed": false
   },
   "outputs": [
    {
     "ename": "ValueError",
     "evalue": "Invalid RGBA argument: nan",
     "output_type": "error",
     "traceback": [
      "\u001b[0;31m---------------------------------------------------------------------------\u001b[0m",
      "\u001b[0;31mKeyError\u001b[0m                                  Traceback (most recent call last)",
      "\u001b[0;32m/stor/work/Lambowitz/cdw2854/src/miniconda3/lib/python3.6/site-packages/matplotlib/colors.py\u001b[0m in \u001b[0;36mto_rgba\u001b[0;34m(c, alpha)\u001b[0m\n\u001b[1;32m    157\u001b[0m     \u001b[0;32mtry\u001b[0m\u001b[0;34m:\u001b[0m\u001b[0;34m\u001b[0m\u001b[0m\n\u001b[0;32m--> 158\u001b[0;31m         \u001b[0mrgba\u001b[0m \u001b[0;34m=\u001b[0m \u001b[0m_colors_full_map\u001b[0m\u001b[0;34m.\u001b[0m\u001b[0mcache\u001b[0m\u001b[0;34m[\u001b[0m\u001b[0mc\u001b[0m\u001b[0;34m,\u001b[0m \u001b[0malpha\u001b[0m\u001b[0;34m]\u001b[0m\u001b[0;34m\u001b[0m\u001b[0m\n\u001b[0m\u001b[1;32m    159\u001b[0m     \u001b[0;32mexcept\u001b[0m \u001b[0;34m(\u001b[0m\u001b[0mKeyError\u001b[0m\u001b[0;34m,\u001b[0m \u001b[0mTypeError\u001b[0m\u001b[0;34m)\u001b[0m\u001b[0;34m:\u001b[0m  \u001b[0;31m# Not in cache, or unhashable.\u001b[0m\u001b[0;34m\u001b[0m\u001b[0m\n",
      "\u001b[0;31mKeyError\u001b[0m: (nan, None)",
      "\nDuring handling of the above exception, another exception occurred:\n",
      "\u001b[0;31mValueError\u001b[0m                                Traceback (most recent call last)",
      "\u001b[0;32m<ipython-input-45-bbe9d867a6f3>\u001b[0m in \u001b[0;36m<module>\u001b[0;34m\u001b[0m\n\u001b[1;32m     10\u001b[0m \u001b[0mplot_peak_strand\u001b[0m\u001b[0;34m(\u001b[0m\u001b[0mpeak_df\u001b[0m\u001b[0;34m,\u001b[0m \u001b[0mstrand_ax\u001b[0m\u001b[0;34m)\u001b[0m\u001b[0;34m\u001b[0m\u001b[0m\n\u001b[1;32m     11\u001b[0m \u001b[0msense_peaks\u001b[0m \u001b[0;34m=\u001b[0m \u001b[0mpeak_df\u001b[0m\u001b[0;34m.\u001b[0m\u001b[0mquery\u001b[0m\u001b[0;34m(\u001b[0m\u001b[0;34m'is_sense == \"Sense\"'\u001b[0m\u001b[0;34m)\u001b[0m\u001b[0;34m\u001b[0m\u001b[0m\n\u001b[0;32m---> 12\u001b[0;31m \u001b[0mplot_peak_pie\u001b[0m\u001b[0;34m(\u001b[0m\u001b[0msense_peaks\u001b[0m\u001b[0;34m,\u001b[0m \u001b[0mpie_ax\u001b[0m\u001b[0;34m,\u001b[0m \u001b[0mce\u001b[0m\u001b[0;34m)\u001b[0m\u001b[0;34m\u001b[0m\u001b[0m\n\u001b[0m\u001b[1;32m     13\u001b[0m \u001b[0mplot_RNA\u001b[0m\u001b[0;34m(\u001b[0m\u001b[0msense_peaks\u001b[0m\u001b[0;34m,\u001b[0m \u001b[0mmisc_ax\u001b[0m\u001b[0;34m,\u001b[0m \u001b[0mce\u001b[0m\u001b[0;34m,\u001b[0m \u001b[0mrnatype\u001b[0m\u001b[0;34m=\u001b[0m\u001b[0;34m'Repeats'\u001b[0m\u001b[0;34m,\u001b[0m \u001b[0mtop_n\u001b[0m \u001b[0;34m=\u001b[0m \u001b[0mtop_n\u001b[0m\u001b[0;34m)\u001b[0m\u001b[0;34m\u001b[0m\u001b[0m\n\u001b[1;32m     14\u001b[0m \u001b[0mrbp_df\u001b[0m \u001b[0;34m=\u001b[0m \u001b[0mplot_rbp\u001b[0m\u001b[0;34m(\u001b[0m\u001b[0msense_peaks\u001b[0m\u001b[0;34m,\u001b[0m \u001b[0mrbp_ax\u001b[0m\u001b[0;34m,\u001b[0m \u001b[0mce\u001b[0m\u001b[0;34m,\u001b[0m \u001b[0mtop_n\u001b[0m \u001b[0;34m=\u001b[0m \u001b[0mtop_n\u001b[0m\u001b[0;34m)\u001b[0m\u001b[0;34m\u001b[0m\u001b[0m\n",
      "\u001b[0;32m~/cfNA/plots/peak_utils.py\u001b[0m in \u001b[0;36mplot_peak_pie\u001b[0;34m(peaks, ax, ce, gtype)\u001b[0m\n\u001b[1;32m    208\u001b[0m               \u001b[0max\u001b[0m \u001b[0;34m=\u001b[0m \u001b[0max\u001b[0m\u001b[0;34m,\u001b[0m\u001b[0;34m\u001b[0m\u001b[0m\n\u001b[1;32m    209\u001b[0m               \u001b[0mexplode\u001b[0m \u001b[0;34m=\u001b[0m \u001b[0mpeak_pie\u001b[0m\u001b[0;34m.\u001b[0m\u001b[0mexplode\u001b[0m\u001b[0;34m,\u001b[0m\u001b[0;34m\u001b[0m\u001b[0m\n\u001b[0;32m--> 210\u001b[0;31m               colors = colors)\n\u001b[0m\u001b[1;32m    211\u001b[0m \u001b[0;34m\u001b[0m\u001b[0m\n\u001b[1;32m    212\u001b[0m     \u001b[0mindex\u001b[0m \u001b[0;34m=\u001b[0m \u001b[0mpeak_pie\u001b[0m\u001b[0;34m.\u001b[0m\u001b[0mindex\u001b[0m\u001b[0;34m\u001b[0m\u001b[0m\n",
      "\u001b[0;32m/stor/work/Lambowitz/cdw2854/src/miniconda3/lib/python3.6/site-packages/pandas/plotting/_core.py\u001b[0m in \u001b[0;36m__call__\u001b[0;34m(self, x, y, kind, ax, subplots, sharex, sharey, layout, figsize, use_index, title, grid, legend, style, logx, logy, loglog, xticks, yticks, xlim, ylim, rot, fontsize, colormap, table, yerr, xerr, secondary_y, sort_columns, **kwds)\u001b[0m\n\u001b[1;32m   2939\u001b[0m                           \u001b[0mfontsize\u001b[0m\u001b[0;34m=\u001b[0m\u001b[0mfontsize\u001b[0m\u001b[0;34m,\u001b[0m \u001b[0mcolormap\u001b[0m\u001b[0;34m=\u001b[0m\u001b[0mcolormap\u001b[0m\u001b[0;34m,\u001b[0m \u001b[0mtable\u001b[0m\u001b[0;34m=\u001b[0m\u001b[0mtable\u001b[0m\u001b[0;34m,\u001b[0m\u001b[0;34m\u001b[0m\u001b[0m\n\u001b[1;32m   2940\u001b[0m                           \u001b[0myerr\u001b[0m\u001b[0;34m=\u001b[0m\u001b[0myerr\u001b[0m\u001b[0;34m,\u001b[0m \u001b[0mxerr\u001b[0m\u001b[0;34m=\u001b[0m\u001b[0mxerr\u001b[0m\u001b[0;34m,\u001b[0m \u001b[0msecondary_y\u001b[0m\u001b[0;34m=\u001b[0m\u001b[0msecondary_y\u001b[0m\u001b[0;34m,\u001b[0m\u001b[0;34m\u001b[0m\u001b[0m\n\u001b[0;32m-> 2941\u001b[0;31m                           sort_columns=sort_columns, **kwds)\n\u001b[0m\u001b[1;32m   2942\u001b[0m     \u001b[0m__call__\u001b[0m\u001b[0;34m.\u001b[0m\u001b[0m__doc__\u001b[0m \u001b[0;34m=\u001b[0m \u001b[0mplot_frame\u001b[0m\u001b[0;34m.\u001b[0m\u001b[0m__doc__\u001b[0m\u001b[0;34m\u001b[0m\u001b[0m\n\u001b[1;32m   2943\u001b[0m \u001b[0;34m\u001b[0m\u001b[0m\n",
      "\u001b[0;32m/stor/work/Lambowitz/cdw2854/src/miniconda3/lib/python3.6/site-packages/pandas/plotting/_core.py\u001b[0m in \u001b[0;36mplot_frame\u001b[0;34m(data, x, y, kind, ax, subplots, sharex, sharey, layout, figsize, use_index, title, grid, legend, style, logx, logy, loglog, xticks, yticks, xlim, ylim, rot, fontsize, colormap, table, yerr, xerr, secondary_y, sort_columns, **kwds)\u001b[0m\n\u001b[1;32m   1975\u001b[0m                  \u001b[0myerr\u001b[0m\u001b[0;34m=\u001b[0m\u001b[0myerr\u001b[0m\u001b[0;34m,\u001b[0m \u001b[0mxerr\u001b[0m\u001b[0;34m=\u001b[0m\u001b[0mxerr\u001b[0m\u001b[0;34m,\u001b[0m\u001b[0;34m\u001b[0m\u001b[0m\n\u001b[1;32m   1976\u001b[0m                  \u001b[0msecondary_y\u001b[0m\u001b[0;34m=\u001b[0m\u001b[0msecondary_y\u001b[0m\u001b[0;34m,\u001b[0m \u001b[0msort_columns\u001b[0m\u001b[0;34m=\u001b[0m\u001b[0msort_columns\u001b[0m\u001b[0;34m,\u001b[0m\u001b[0;34m\u001b[0m\u001b[0m\n\u001b[0;32m-> 1977\u001b[0;31m                  **kwds)\n\u001b[0m\u001b[1;32m   1978\u001b[0m \u001b[0;34m\u001b[0m\u001b[0m\n\u001b[1;32m   1979\u001b[0m \u001b[0;34m\u001b[0m\u001b[0m\n",
      "\u001b[0;32m/stor/work/Lambowitz/cdw2854/src/miniconda3/lib/python3.6/site-packages/pandas/plotting/_core.py\u001b[0m in \u001b[0;36m_plot\u001b[0;34m(data, x, y, subplots, ax, kind, **kwds)\u001b[0m\n\u001b[1;32m   1802\u001b[0m         \u001b[0mplot_obj\u001b[0m \u001b[0;34m=\u001b[0m \u001b[0mklass\u001b[0m\u001b[0;34m(\u001b[0m\u001b[0mdata\u001b[0m\u001b[0;34m,\u001b[0m \u001b[0msubplots\u001b[0m\u001b[0;34m=\u001b[0m\u001b[0msubplots\u001b[0m\u001b[0;34m,\u001b[0m \u001b[0max\u001b[0m\u001b[0;34m=\u001b[0m\u001b[0max\u001b[0m\u001b[0;34m,\u001b[0m \u001b[0mkind\u001b[0m\u001b[0;34m=\u001b[0m\u001b[0mkind\u001b[0m\u001b[0;34m,\u001b[0m \u001b[0;34m**\u001b[0m\u001b[0mkwds\u001b[0m\u001b[0;34m)\u001b[0m\u001b[0;34m\u001b[0m\u001b[0m\n\u001b[1;32m   1803\u001b[0m \u001b[0;34m\u001b[0m\u001b[0m\n\u001b[0;32m-> 1804\u001b[0;31m     \u001b[0mplot_obj\u001b[0m\u001b[0;34m.\u001b[0m\u001b[0mgenerate\u001b[0m\u001b[0;34m(\u001b[0m\u001b[0;34m)\u001b[0m\u001b[0;34m\u001b[0m\u001b[0m\n\u001b[0m\u001b[1;32m   1805\u001b[0m     \u001b[0mplot_obj\u001b[0m\u001b[0;34m.\u001b[0m\u001b[0mdraw\u001b[0m\u001b[0;34m(\u001b[0m\u001b[0;34m)\u001b[0m\u001b[0;34m\u001b[0m\u001b[0m\n\u001b[1;32m   1806\u001b[0m     \u001b[0;32mreturn\u001b[0m \u001b[0mplot_obj\u001b[0m\u001b[0;34m.\u001b[0m\u001b[0mresult\u001b[0m\u001b[0;34m\u001b[0m\u001b[0m\n",
      "\u001b[0;32m/stor/work/Lambowitz/cdw2854/src/miniconda3/lib/python3.6/site-packages/pandas/plotting/_core.py\u001b[0m in \u001b[0;36mgenerate\u001b[0;34m(self)\u001b[0m\n\u001b[1;32m    258\u001b[0m         \u001b[0mself\u001b[0m\u001b[0;34m.\u001b[0m\u001b[0m_compute_plot_data\u001b[0m\u001b[0;34m(\u001b[0m\u001b[0;34m)\u001b[0m\u001b[0;34m\u001b[0m\u001b[0m\n\u001b[1;32m    259\u001b[0m         \u001b[0mself\u001b[0m\u001b[0;34m.\u001b[0m\u001b[0m_setup_subplots\u001b[0m\u001b[0;34m(\u001b[0m\u001b[0;34m)\u001b[0m\u001b[0;34m\u001b[0m\u001b[0m\n\u001b[0;32m--> 260\u001b[0;31m         \u001b[0mself\u001b[0m\u001b[0;34m.\u001b[0m\u001b[0m_make_plot\u001b[0m\u001b[0;34m(\u001b[0m\u001b[0;34m)\u001b[0m\u001b[0;34m\u001b[0m\u001b[0m\n\u001b[0m\u001b[1;32m    261\u001b[0m         \u001b[0mself\u001b[0m\u001b[0;34m.\u001b[0m\u001b[0m_add_table\u001b[0m\u001b[0;34m(\u001b[0m\u001b[0;34m)\u001b[0m\u001b[0;34m\u001b[0m\u001b[0m\n\u001b[1;32m    262\u001b[0m         \u001b[0mself\u001b[0m\u001b[0;34m.\u001b[0m\u001b[0m_make_legend\u001b[0m\u001b[0;34m(\u001b[0m\u001b[0;34m)\u001b[0m\u001b[0;34m\u001b[0m\u001b[0m\n",
      "\u001b[0;32m/stor/work/Lambowitz/cdw2854/src/miniconda3/lib/python3.6/site-packages/pandas/plotting/_core.py\u001b[0m in \u001b[0;36m_make_plot\u001b[0;34m(self)\u001b[0m\n\u001b[1;32m   1538\u001b[0m             \u001b[0;32melse\u001b[0m\u001b[0;34m:\u001b[0m\u001b[0;34m\u001b[0m\u001b[0m\n\u001b[1;32m   1539\u001b[0m                 \u001b[0mblabels\u001b[0m \u001b[0;34m=\u001b[0m \u001b[0;32mNone\u001b[0m\u001b[0;34m\u001b[0m\u001b[0m\n\u001b[0;32m-> 1540\u001b[0;31m             \u001b[0mresults\u001b[0m \u001b[0;34m=\u001b[0m \u001b[0max\u001b[0m\u001b[0;34m.\u001b[0m\u001b[0mpie\u001b[0m\u001b[0;34m(\u001b[0m\u001b[0my\u001b[0m\u001b[0;34m,\u001b[0m \u001b[0mlabels\u001b[0m\u001b[0;34m=\u001b[0m\u001b[0mblabels\u001b[0m\u001b[0;34m,\u001b[0m \u001b[0;34m**\u001b[0m\u001b[0mkwds\u001b[0m\u001b[0;34m)\u001b[0m\u001b[0;34m\u001b[0m\u001b[0m\n\u001b[0m\u001b[1;32m   1541\u001b[0m \u001b[0;34m\u001b[0m\u001b[0m\n\u001b[1;32m   1542\u001b[0m             \u001b[0;32mif\u001b[0m \u001b[0mkwds\u001b[0m\u001b[0;34m.\u001b[0m\u001b[0mget\u001b[0m\u001b[0;34m(\u001b[0m\u001b[0;34m'autopct'\u001b[0m\u001b[0;34m,\u001b[0m \u001b[0;32mNone\u001b[0m\u001b[0;34m)\u001b[0m \u001b[0;32mis\u001b[0m \u001b[0;32mnot\u001b[0m \u001b[0;32mNone\u001b[0m\u001b[0;34m:\u001b[0m\u001b[0;34m\u001b[0m\u001b[0m\n",
      "\u001b[0;32m/stor/work/Lambowitz/cdw2854/src/miniconda3/lib/python3.6/site-packages/matplotlib/__init__.py\u001b[0m in \u001b[0;36minner\u001b[0;34m(ax, data, *args, **kwargs)\u001b[0m\n\u001b[1;32m   1803\u001b[0m                         \u001b[0;34m\"the Matplotlib list!)\"\u001b[0m \u001b[0;34m%\u001b[0m \u001b[0;34m(\u001b[0m\u001b[0mlabel_namer\u001b[0m\u001b[0;34m,\u001b[0m \u001b[0mfunc\u001b[0m\u001b[0;34m.\u001b[0m\u001b[0m__name__\u001b[0m\u001b[0;34m)\u001b[0m\u001b[0;34m,\u001b[0m\u001b[0;34m\u001b[0m\u001b[0m\n\u001b[1;32m   1804\u001b[0m                         RuntimeWarning, stacklevel=2)\n\u001b[0;32m-> 1805\u001b[0;31m             \u001b[0;32mreturn\u001b[0m \u001b[0mfunc\u001b[0m\u001b[0;34m(\u001b[0m\u001b[0max\u001b[0m\u001b[0;34m,\u001b[0m \u001b[0;34m*\u001b[0m\u001b[0margs\u001b[0m\u001b[0;34m,\u001b[0m \u001b[0;34m**\u001b[0m\u001b[0mkwargs\u001b[0m\u001b[0;34m)\u001b[0m\u001b[0;34m\u001b[0m\u001b[0m\n\u001b[0m\u001b[1;32m   1806\u001b[0m \u001b[0;34m\u001b[0m\u001b[0m\n\u001b[1;32m   1807\u001b[0m         inner.__doc__ = _add_data_doc(inner.__doc__,\n",
      "\u001b[0;32m/stor/work/Lambowitz/cdw2854/src/miniconda3/lib/python3.6/site-packages/matplotlib/axes/_axes.py\u001b[0m in \u001b[0;36mpie\u001b[0;34m(self, x, explode, labels, colors, autopct, pctdistance, shadow, labeldistance, startangle, radius, counterclock, wedgeprops, textprops, center, frame, rotatelabels)\u001b[0m\n\u001b[1;32m   2844\u001b[0m                                \u001b[0;36m360.\u001b[0m \u001b[0;34m*\u001b[0m \u001b[0mmax\u001b[0m\u001b[0;34m(\u001b[0m\u001b[0mtheta1\u001b[0m\u001b[0;34m,\u001b[0m \u001b[0mtheta2\u001b[0m\u001b[0;34m)\u001b[0m\u001b[0;34m,\u001b[0m\u001b[0;34m\u001b[0m\u001b[0m\n\u001b[1;32m   2845\u001b[0m                                \u001b[0mfacecolor\u001b[0m\u001b[0;34m=\u001b[0m\u001b[0mget_next_color\u001b[0m\u001b[0;34m(\u001b[0m\u001b[0;34m)\u001b[0m\u001b[0;34m,\u001b[0m\u001b[0;34m\u001b[0m\u001b[0m\n\u001b[0;32m-> 2846\u001b[0;31m                                **wedgeprops)\n\u001b[0m\u001b[1;32m   2847\u001b[0m             \u001b[0mslices\u001b[0m\u001b[0;34m.\u001b[0m\u001b[0mappend\u001b[0m\u001b[0;34m(\u001b[0m\u001b[0mw\u001b[0m\u001b[0;34m)\u001b[0m\u001b[0;34m\u001b[0m\u001b[0m\n\u001b[1;32m   2848\u001b[0m             \u001b[0mself\u001b[0m\u001b[0;34m.\u001b[0m\u001b[0madd_patch\u001b[0m\u001b[0;34m(\u001b[0m\u001b[0mw\u001b[0m\u001b[0;34m)\u001b[0m\u001b[0;34m\u001b[0m\u001b[0m\n",
      "\u001b[0;32m/stor/work/Lambowitz/cdw2854/src/miniconda3/lib/python3.6/site-packages/matplotlib/patches.py\u001b[0m in \u001b[0;36m__init__\u001b[0;34m(self, center, r, theta1, theta2, width, **kwargs)\u001b[0m\n\u001b[1;32m   1034\u001b[0m         \u001b[0;34m%\u001b[0m\u001b[0;34m(\u001b[0m\u001b[0mPatch\u001b[0m\u001b[0;34m)\u001b[0m\u001b[0ms\u001b[0m\u001b[0;34m\u001b[0m\u001b[0m\n\u001b[1;32m   1035\u001b[0m         \"\"\"\n\u001b[0;32m-> 1036\u001b[0;31m         \u001b[0mPatch\u001b[0m\u001b[0;34m.\u001b[0m\u001b[0m__init__\u001b[0m\u001b[0;34m(\u001b[0m\u001b[0mself\u001b[0m\u001b[0;34m,\u001b[0m \u001b[0;34m**\u001b[0m\u001b[0mkwargs\u001b[0m\u001b[0;34m)\u001b[0m\u001b[0;34m\u001b[0m\u001b[0m\n\u001b[0m\u001b[1;32m   1037\u001b[0m         \u001b[0mself\u001b[0m\u001b[0;34m.\u001b[0m\u001b[0mcenter\u001b[0m \u001b[0;34m=\u001b[0m \u001b[0mcenter\u001b[0m\u001b[0;34m\u001b[0m\u001b[0m\n\u001b[1;32m   1038\u001b[0m         \u001b[0mself\u001b[0m\u001b[0;34m.\u001b[0m\u001b[0mr\u001b[0m\u001b[0;34m,\u001b[0m \u001b[0mself\u001b[0m\u001b[0;34m.\u001b[0m\u001b[0mwidth\u001b[0m \u001b[0;34m=\u001b[0m \u001b[0mr\u001b[0m\u001b[0;34m,\u001b[0m \u001b[0mwidth\u001b[0m\u001b[0;34m\u001b[0m\u001b[0m\n",
      "\u001b[0;32m/stor/work/Lambowitz/cdw2854/src/miniconda3/lib/python3.6/site-packages/matplotlib/patches.py\u001b[0m in \u001b[0;36m__init__\u001b[0;34m(self, edgecolor, facecolor, color, linewidth, linestyle, antialiased, hatch, fill, capstyle, joinstyle, **kwargs)\u001b[0m\n\u001b[1;32m     78\u001b[0m         \u001b[0;32melse\u001b[0m\u001b[0;34m:\u001b[0m\u001b[0;34m\u001b[0m\u001b[0m\n\u001b[1;32m     79\u001b[0m             \u001b[0mself\u001b[0m\u001b[0;34m.\u001b[0m\u001b[0mset_edgecolor\u001b[0m\u001b[0;34m(\u001b[0m\u001b[0medgecolor\u001b[0m\u001b[0;34m)\u001b[0m\u001b[0;34m\u001b[0m\u001b[0m\n\u001b[0;32m---> 80\u001b[0;31m             \u001b[0mself\u001b[0m\u001b[0;34m.\u001b[0m\u001b[0mset_facecolor\u001b[0m\u001b[0;34m(\u001b[0m\u001b[0mfacecolor\u001b[0m\u001b[0;34m)\u001b[0m\u001b[0;34m\u001b[0m\u001b[0m\n\u001b[0m\u001b[1;32m     81\u001b[0m         \u001b[0;31m# unscaled dashes.  Needed to scale dash patterns by lw\u001b[0m\u001b[0;34m\u001b[0m\u001b[0;34m\u001b[0m\u001b[0m\n\u001b[1;32m     82\u001b[0m         \u001b[0mself\u001b[0m\u001b[0;34m.\u001b[0m\u001b[0m_us_dashes\u001b[0m \u001b[0;34m=\u001b[0m \u001b[0;32mNone\u001b[0m\u001b[0;34m\u001b[0m\u001b[0m\n",
      "\u001b[0;32m/stor/work/Lambowitz/cdw2854/src/miniconda3/lib/python3.6/site-packages/matplotlib/patches.py\u001b[0m in \u001b[0;36mset_facecolor\u001b[0;34m(self, color)\u001b[0m\n\u001b[1;32m    299\u001b[0m         \"\"\"\n\u001b[1;32m    300\u001b[0m         \u001b[0mself\u001b[0m\u001b[0;34m.\u001b[0m\u001b[0m_original_facecolor\u001b[0m \u001b[0;34m=\u001b[0m \u001b[0mcolor\u001b[0m\u001b[0;34m\u001b[0m\u001b[0m\n\u001b[0;32m--> 301\u001b[0;31m         \u001b[0mself\u001b[0m\u001b[0;34m.\u001b[0m\u001b[0m_set_facecolor\u001b[0m\u001b[0;34m(\u001b[0m\u001b[0mcolor\u001b[0m\u001b[0;34m)\u001b[0m\u001b[0;34m\u001b[0m\u001b[0m\n\u001b[0m\u001b[1;32m    302\u001b[0m \u001b[0;34m\u001b[0m\u001b[0m\n\u001b[1;32m    303\u001b[0m     \u001b[0;32mdef\u001b[0m \u001b[0mset_color\u001b[0m\u001b[0;34m(\u001b[0m\u001b[0mself\u001b[0m\u001b[0;34m,\u001b[0m \u001b[0mc\u001b[0m\u001b[0;34m)\u001b[0m\u001b[0;34m:\u001b[0m\u001b[0;34m\u001b[0m\u001b[0m\n",
      "\u001b[0;32m/stor/work/Lambowitz/cdw2854/src/miniconda3/lib/python3.6/site-packages/matplotlib/patches.py\u001b[0m in \u001b[0;36m_set_facecolor\u001b[0;34m(self, color)\u001b[0m\n\u001b[1;32m    287\u001b[0m             \u001b[0mcolor\u001b[0m \u001b[0;34m=\u001b[0m \u001b[0mmpl\u001b[0m\u001b[0;34m.\u001b[0m\u001b[0mrcParams\u001b[0m\u001b[0;34m[\u001b[0m\u001b[0;34m'patch.facecolor'\u001b[0m\u001b[0;34m]\u001b[0m\u001b[0;34m\u001b[0m\u001b[0m\n\u001b[1;32m    288\u001b[0m         \u001b[0malpha\u001b[0m \u001b[0;34m=\u001b[0m \u001b[0mself\u001b[0m\u001b[0;34m.\u001b[0m\u001b[0m_alpha\u001b[0m \u001b[0;32mif\u001b[0m \u001b[0mself\u001b[0m\u001b[0;34m.\u001b[0m\u001b[0m_fill\u001b[0m \u001b[0;32melse\u001b[0m \u001b[0;36m0\u001b[0m\u001b[0;34m\u001b[0m\u001b[0m\n\u001b[0;32m--> 289\u001b[0;31m         \u001b[0mself\u001b[0m\u001b[0;34m.\u001b[0m\u001b[0m_facecolor\u001b[0m \u001b[0;34m=\u001b[0m \u001b[0mcolors\u001b[0m\u001b[0;34m.\u001b[0m\u001b[0mto_rgba\u001b[0m\u001b[0;34m(\u001b[0m\u001b[0mcolor\u001b[0m\u001b[0;34m,\u001b[0m \u001b[0malpha\u001b[0m\u001b[0;34m)\u001b[0m\u001b[0;34m\u001b[0m\u001b[0m\n\u001b[0m\u001b[1;32m    290\u001b[0m         \u001b[0mself\u001b[0m\u001b[0;34m.\u001b[0m\u001b[0mstale\u001b[0m \u001b[0;34m=\u001b[0m \u001b[0;32mTrue\u001b[0m\u001b[0;34m\u001b[0m\u001b[0m\n\u001b[1;32m    291\u001b[0m \u001b[0;34m\u001b[0m\u001b[0m\n",
      "\u001b[0;32m/stor/work/Lambowitz/cdw2854/src/miniconda3/lib/python3.6/site-packages/matplotlib/colors.py\u001b[0m in \u001b[0;36mto_rgba\u001b[0;34m(c, alpha)\u001b[0m\n\u001b[1;32m    158\u001b[0m         \u001b[0mrgba\u001b[0m \u001b[0;34m=\u001b[0m \u001b[0m_colors_full_map\u001b[0m\u001b[0;34m.\u001b[0m\u001b[0mcache\u001b[0m\u001b[0;34m[\u001b[0m\u001b[0mc\u001b[0m\u001b[0;34m,\u001b[0m \u001b[0malpha\u001b[0m\u001b[0;34m]\u001b[0m\u001b[0;34m\u001b[0m\u001b[0m\n\u001b[1;32m    159\u001b[0m     \u001b[0;32mexcept\u001b[0m \u001b[0;34m(\u001b[0m\u001b[0mKeyError\u001b[0m\u001b[0;34m,\u001b[0m \u001b[0mTypeError\u001b[0m\u001b[0;34m)\u001b[0m\u001b[0;34m:\u001b[0m  \u001b[0;31m# Not in cache, or unhashable.\u001b[0m\u001b[0;34m\u001b[0m\u001b[0m\n\u001b[0;32m--> 160\u001b[0;31m         \u001b[0mrgba\u001b[0m \u001b[0;34m=\u001b[0m \u001b[0m_to_rgba_no_colorcycle\u001b[0m\u001b[0;34m(\u001b[0m\u001b[0mc\u001b[0m\u001b[0;34m,\u001b[0m \u001b[0malpha\u001b[0m\u001b[0;34m)\u001b[0m\u001b[0;34m\u001b[0m\u001b[0m\n\u001b[0m\u001b[1;32m    161\u001b[0m         \u001b[0;32mtry\u001b[0m\u001b[0;34m:\u001b[0m\u001b[0;34m\u001b[0m\u001b[0m\n\u001b[1;32m    162\u001b[0m             \u001b[0m_colors_full_map\u001b[0m\u001b[0;34m.\u001b[0m\u001b[0mcache\u001b[0m\u001b[0;34m[\u001b[0m\u001b[0mc\u001b[0m\u001b[0;34m,\u001b[0m \u001b[0malpha\u001b[0m\u001b[0;34m]\u001b[0m \u001b[0;34m=\u001b[0m \u001b[0mrgba\u001b[0m\u001b[0;34m\u001b[0m\u001b[0m\n",
      "\u001b[0;32m/stor/work/Lambowitz/cdw2854/src/miniconda3/lib/python3.6/site-packages/matplotlib/colors.py\u001b[0m in \u001b[0;36m_to_rgba_no_colorcycle\u001b[0;34m(c, alpha)\u001b[0m\n\u001b[1;32m    209\u001b[0m         \u001b[0;31m# float)` and `np.array(...).astype(float)` all convert \"0.5\" to 0.5.\u001b[0m\u001b[0;34m\u001b[0m\u001b[0;34m\u001b[0m\u001b[0m\n\u001b[1;32m    210\u001b[0m         \u001b[0;31m# Test dimensionality to reject single floats.\u001b[0m\u001b[0;34m\u001b[0m\u001b[0;34m\u001b[0m\u001b[0m\n\u001b[0;32m--> 211\u001b[0;31m         \u001b[0;32mraise\u001b[0m \u001b[0mValueError\u001b[0m\u001b[0;34m(\u001b[0m\u001b[0;34m\"Invalid RGBA argument: {!r}\"\u001b[0m\u001b[0;34m.\u001b[0m\u001b[0mformat\u001b[0m\u001b[0;34m(\u001b[0m\u001b[0morig_c\u001b[0m\u001b[0;34m)\u001b[0m\u001b[0;34m)\u001b[0m\u001b[0;34m\u001b[0m\u001b[0m\n\u001b[0m\u001b[1;32m    212\u001b[0m     \u001b[0;31m# Return a tuple to prevent the cached value from being modified.\u001b[0m\u001b[0;34m\u001b[0m\u001b[0;34m\u001b[0m\u001b[0m\n\u001b[1;32m    213\u001b[0m     \u001b[0mc\u001b[0m \u001b[0;34m=\u001b[0m \u001b[0mtuple\u001b[0m\u001b[0;34m(\u001b[0m\u001b[0mc\u001b[0m\u001b[0;34m.\u001b[0m\u001b[0mastype\u001b[0m\u001b[0;34m(\u001b[0m\u001b[0mfloat\u001b[0m\u001b[0;34m)\u001b[0m\u001b[0;34m)\u001b[0m\u001b[0;34m\u001b[0m\u001b[0m\n",
      "\u001b[0;31mValueError\u001b[0m: Invalid RGBA argument: nan"
     ]
    },
    {
     "data": {
      "image/png": "[encoded data removed]",
      "text/plain": [
       "<Figure size 720x720 with 5 Axes>"
      ]
     },
     "metadata": {
      "needs_background": "light"
     },
     "output_type": "display_data"
    }
   ],
   "source": [
    "fig = plt.figure(figsize=(10,10))\n",
    "\n",
    "strand_ax = fig.add_axes([-0.1, 0.5, 0.45, 0.45])\n",
    "pie_ax = fig.add_axes([0.6, 0.5, 0.5, 0.5])\n",
    "rbp_ax = fig.add_axes([-0.1, 0, 0.35, 0.5])\n",
    "long_ax = fig.add_axes([0.38, 0, 0.35, 0.5])\n",
    "misc_ax = fig.add_axes([0.84, 0, 0.35, 0.5])\n",
    "\n",
    "top_n = 15\n",
    "plot_peak_strand(peak_df, strand_ax)\n",
    "sense_peaks = peak_df.query('is_sense == \"Sense\"')\n",
    "plot_peak_pie(sense_peaks, pie_ax, ce)\n",
    "plot_RNA(sense_peaks, misc_ax, ce, rnatype='Repeats', top_n = top_n)\n",
    "rbp_df = plot_rbp(sense_peaks, rbp_ax, ce, top_n = top_n)\n",
    "plot_long_RNA_peak(peak_df, long_ax, ce, top_n = top_n, y_val = 'log10p')\n",
    "#l1 = mlines.Line2D([0.3,0.6],[0.9,0.955], color= 'black',\n",
    "#                   figure = fig,  transform=fig.transFigure)\n",
    "#l2 = mlines.Line2D([0.3,0.65],[0.58,0.51], color= 'black',\n",
    "#                   figure = fig,  transform=fig.transFigure)\n",
    "#fig.lines.extend([l1, l2])\n",
    "figure_name = figure_path + '/peak_figure.pdf'\n",
    "fig.savefig(figure_name, bbox_inches = 'tight')\n",
    "print('Saved:', figure_name)"
   ]
  },
  {
   "cell_type": "code",
   "execution_count": null,
   "metadata": {
    "collapsed": false
   },
   "outputs": [],
   "source": [
    "import RNA \n",
    "\n",
    "lr_peak = peak_df\\\n",
    "    .query('sense_gtype==\"Long RNA\"') \\\n",
    "    .query('pileup >= %i & sample_count >= %i'%(pileup_cutoff, sample_cutoff))\\\n",
    "    .assign(seq = lambda d: list(map(fetch_seq, d.chrom, d.start, d.end, d.strand))) \\\n",
    "    .assign(mt = lambda d: d.seq.map(is_mt))  \\\n",
    "    .assign(shape = lambda d: d.seq.map(RNA.fold))\\\n",
    "    .assign(energy = lambda d: list(map(lambda x: x[1], d['shape'])))\\\n",
    "    .assign(shape = lambda d: list(map(lambda x: x[0], d['shape'])))\\\n",
    "    .assign(width = lambda d: d.end - d.start)\\\n",
    "    .sort_values('log10p', ascending=False)"
   ]
  },
  {
   "cell_type": "code",
   "execution_count": null,
   "metadata": {
    "collapsed": false
   },
   "outputs": [],
   "source": [
    "cmscan_df = read_tbl(peak_path + '/unfragmented.Long_RNA.tblout') \\\n",
    "    .assign(peakname = lambda d: d['query name'].str.split('(', expand=True).iloc[:,0]\\\n",
    "                                   .str.replace('^RF[0-9]+','')\\\n",
    "                                   .str.strip(' '))\\\n",
    "    .assign(strand = lambda d: np.where(d.strand==\"+\", 0,1) )\\\n",
    "    .groupby('peakname', as_index=False)\\\n",
    "    .apply(lambda d: d.pipe(lambda d1: d1[d1.strand==d1.strand.min()]).pipe(lambda d1: d1[d1.score==d1.score.max()]))\n",
    "cmscan_df.head()"
   ]
  },
  {
   "cell_type": "code",
   "execution_count": null,
   "metadata": {
    "collapsed": false
   },
   "outputs": [],
   "source": [
    "cmscan_df.reset_index().filter(regex='name')"
   ]
  },
  {
   "cell_type": "code",
   "execution_count": null,
   "metadata": {
    "collapsed": false
   },
   "outputs": [],
   "source": [
    "lr_peak.merge(cmscan_df, on ='peakname', how='left')\\\n",
    "    .filter(['chrom','start','end', 'peakname','log10p', 'sense_gname','target name','strand_x'])\\\n",
    "    .nlargest(15,'log10p')"
   ]
  },
  {
   "cell_type": "code",
   "execution_count": null,
   "metadata": {
    "collapsed": false
   },
   "outputs": [],
   "source": [
    "lr_peak.query('width == 1751')"
   ]
  },
  {
   "cell_type": "code",
   "execution_count": null,
   "metadata": {
    "collapsed": false
   },
   "outputs": [],
   "source": [
    "sns.distplot(peak_df.fc.transform(np.log2))\n",
    "sns.distplot(peak_df.query('pileup >= 4 & sample_count >= 5').fc.transform(np.log2))"
   ]
  },
  {
   "cell_type": "code",
   "execution_count": null,
   "metadata": {
    "collapsed": false
   },
   "outputs": [],
   "source": [
    "lr_peak.query('peakname==\"unfragmented.fwd_peak_28467\"')"
   ]
  },
  {
   "cell_type": "code",
   "execution_count": null,
   "metadata": {
    "collapsed": false
   },
   "outputs": [],
   "source": [
    "fold = lr_peak.nlargest(20,'log10p').pipe(lambda d: d[~d.sense_gname.str.contains('RMRP|RPPH1|AC019188.1|HIST')])\n",
    "fold.head()"
   ]
  },
  {
   "cell_type": "code",
   "execution_count": null,
   "metadata": {
    "collapsed": false
   },
   "outputs": [],
   "source": [
    "import random\n",
    "from collections import Counter\n",
    "from scipy.stats import ranksums\n",
    "\n",
    "es = []\n",
    "bases = list('ACTG')\n",
    "for w, seq in zip(fold.width, fold.seq):\n",
    "    b = Counter(seq.upper())\n",
    "    weights = [b[n] for n in bases]\n",
    "    for i in range(20):\n",
    "        random_seq = ''.join(random.choices(list('ACTG'), \n",
    "                                            k=w, weights=weights))\n",
    "        s, e = RNA.fold(random_seq)\n",
    "        es.append(e)"
   ]
  },
  {
   "cell_type": "code",
   "execution_count": null,
   "metadata": {
    "collapsed": false
   },
   "outputs": [],
   "source": [
    "w, p = ranksums(es, fold.energy.values)"
   ]
  },
  {
   "cell_type": "code",
   "execution_count": null,
   "metadata": {
    "collapsed": false
   },
   "outputs": [],
   "source": [
    "ax = plt.subplot()\n",
    "sns.distplot(fold.energy, label = 'RBP', ax = ax, hist=False)\n",
    "sns.distplot(es, label = 'Random', ax = ax, hist=False)\n",
    "ax.text(-40,0.05, 'Wilcoxon test $p$: %.3f' %p)\n",
    "ax.legend(frameon=False)\n",
    "sns.despine()\n",
    "ax.set_xlabel('Folding energy')\n",
    "ax.set_ylabel('Density')\n",
    "plt.savefig(figure_path + '/fold_energy.pdf', bbox_inches='tight')"
   ]
  },
  {
   "cell_type": "code",
   "execution_count": null,
   "metadata": {
    "collapsed": false
   },
   "outputs": [],
   "source": [
    "colnames = rbp.columns.tolist()\n",
    "colnames.extend(['tRNA_chrom','tRNA_start','tRNA_end','tRNA_name', \n",
    "                'tRNA_score','tRNA_strand', 'tRNA_type',\n",
    "               'tRNA_id','distance'])\n",
    "\n",
    "closest = BedTool().from_dataframe(rbp.sort_values(['chrom','start','end']))\\\n",
    "    .closest(b = '/stor/work/Lambowitz/ref/hg19/new_genes/tRNA.sorted.bed', d= True) \\\n",
    "    .to_dataframe(names = colnames) "
   ]
  },
  {
   "cell_type": "code",
   "execution_count": null,
   "metadata": {
    "collapsed": false
   },
   "outputs": [],
   "source": [
    "'|'.join(closest.nlargest(20, 'log10p').query('distance < 100').sense_gname)"
   ]
  },
  {
   "cell_type": "code",
   "execution_count": null,
   "metadata": {
    "collapsed": false
   },
   "outputs": [],
   "source": [
    "RNA.fold(rbp.seq.values[2])"
   ]
  },
  {
   "cell_type": "code",
   "execution_count": null,
   "metadata": {
    "collapsed": false
   },
   "outputs": [],
   "source": [
    "sns.jointplot(peak_df.pileup.transform(np.log),\n",
    "            peak_df.sample_count)"
   ]
  },
  {
   "cell_type": "code",
   "execution_count": null,
   "metadata": {
    "collapsed": false
   },
   "outputs": [],
   "source": [
    "','.join(rbp_df.head(15).index)"
   ]
  },
  {
   "cell_type": "code",
   "execution_count": null,
   "metadata": {
    "collapsed": false
   },
   "outputs": [],
   "source": [
    "peak_df\\\n",
    "    .query('pileup >= %i' %pileup_cutoff)\\\n",
    "    .to_csv(peak_path + '/peaks.tsv',sep='\\t', index=False)"
   ]
  },
  {
   "cell_type": "code",
   "execution_count": null,
   "metadata": {
    "collapsed": false
   },
   "outputs": [],
   "source": [
    "ax = plt.subplot()\n",
    "pdf = peak_df\\\n",
    "    .pipe(lambda d: d[~d.sense_gtype.str.contains('tRF')])\\\n",
    "    .query('pileup >= %i' %pileup_cutoff)\\\n",
    "    .assign(peak_width = lambda d: d.end-d.start)\\\n",
    "    .assign(log_pile = lambda d: d.pileup.transform(np.log10))\n",
    "\n",
    "pdf.plot.scatter('peak_width','pileup', \n",
    "                  color = ce.transform(pdf.sense_gtype), ax = ax,\n",
    "                 alpha = 0.2)\n",
    "ax.set_xscale('log')\n",
    "ax.set_yscale('log')\n",
    "ce.show_legend(ax = ax, bbox_to_anchor =(1,1), frameon=False)\n",
    "sns.despine()"
   ]
  },
  {
   "cell_type": "code",
   "execution_count": null,
   "metadata": {
    "collapsed": false
   },
   "outputs": [],
   "source": [
    "ax = plt.subplot()\n",
    "\n",
    "for gt, gd in peak_df\\\n",
    "            .query('pileup >= %i' %(pileup_cutoff))\\\n",
    "            .assign(peak_width = lambda d: (d.end-d.start))\\\n",
    "            .groupby('sense_gtype'):\n",
    "    alpha = 1 if gt in [\"Long RNA\"] else 1\n",
    "    sns.distplot(gd.peak_width, ax = ax, kde_kws={'alpha':alpha},\n",
    "                label = gt, color = ce.encoder[gt],\n",
    "                hist=False)\n",
    "lgd = ax.legend(frameon=False)\n",
    "for lh in lgd.legendHandles: \n",
    "    lh.set_alpha(1)\n",
    "ax.set_ylabel('Density')\n",
    "ax.set_xlabel('Peak width ($log_{10}$ nt)')\n",
    "\n",
    "x_range = np.arange(1,500, 50)\n",
    "ax.set_xlim(x_range.min(), x_range.max())\n",
    "ax.set_xticks(x_range)\n",
    "for xt, x in zip(ax.get_xticklabels(), x_range):\n",
    "    xt.set_text(r'$10^{%s}$' %(x))"
   ]
  },
  {
   "cell_type": "code",
   "execution_count": null,
   "metadata": {
    "collapsed": false
   },
   "outputs": [],
   "source": [
    "lR_peak = peak_df[peak_df.sense_gtype.str.contains('Long RNA')] \\\n",
    "    .sort_values('log10p', ascending=False) \n",
    "lR_peak.head(20)"
   ]
  },
  {
   "cell_type": "code",
   "execution_count": null,
   "metadata": {
    "collapsed": false
   },
   "outputs": [],
   "source": [
    "anti_peaks.antisense_gtype.unique()"
   ]
  },
  {
   "cell_type": "code",
   "execution_count": null,
   "metadata": {
    "collapsed": false
   },
   "outputs": [],
   "source": [
    "anti_peaks = peak_df.query('is_sense == \"Antisense\"')\\\n",
    "    .pipe(lambda d: d[~d.antisense_gtype.str.contains('tRF')])"
   ]
  },
  {
   "cell_type": "code",
   "execution_count": null,
   "metadata": {
    "collapsed": false
   },
   "outputs": [],
   "source": [
    "fig = plt.figure(figsize=(10,5))\n",
    "ax = fig.add_axes([0,0.1,0.4,0.8])\n",
    "plot_peak_pie(anti_peaks, ax, ce, gtype='antisense_gtype')\n",
    "ax = fig.add_axes([0.7, 0, 0.4, 1])\n",
    "anti_plot = anti_peaks.nlargest(15, 'log10p')\n",
    "anti_plot.plot\\\n",
    "    .bar('antisense_gname', 'log10p', \n",
    "         color = ce.transform(anti_plot\\\n",
    "                               .antisense_gtype),\n",
    "        ax = ax)\n",
    "ax.legend().set_visible(False)\n",
    "ax.set_xlabel('RNA type')\n",
    "ax.set_ylabel('-$log_{10}$ p-value')\n",
    "sns.despine()\n",
    "fig.tight_layout()\n",
    "figurename = figure_path + '/peak_anti.pdf'\n",
    "fig.savefig(figurename, bbox_inches = 'tight')\n",
    "print('Plotted: ', figurename)"
   ]
  },
  {
   "cell_type": "code",
   "execution_count": null,
   "metadata": {
    "collapsed": false
   },
   "outputs": [],
   "source": [
    "fa = pysam.FastaFile('/stor/work/Lambowitz/ref/hg19/genome/hg19_genome.fa')\n",
    "fa.fetch('chr12',22158771,22158870)"
   ]
  },
  {
   "cell_type": "code",
   "execution_count": null,
   "metadata": {
    "collapsed": false
   },
   "outputs": [],
   "source": [
    "columns = peak_df.columns\n",
    "columns = np.append(columns,['intron_chrom','intron_start','intron_end',\n",
    "               'intron_gene','intron_score','intron_strand'])\n",
    "intron_df = BedTool()\\\n",
    "    .from_dataframe(peak_df )\\\n",
    "    .intersect('/stor/work/Lambowitz/ref/hg19/genome/independent_intron.bed', \n",
    "               f= 0.8,F=0.8,wb=True)\\\n",
    "    .to_dataframe(names = columns)\n",
    "intron_df.shape"
   ]
  },
  {
   "cell_type": "code",
   "execution_count": null,
   "metadata": {
    "collapsed": false
   },
   "outputs": [],
   "source": [
    "intron_df \\\n",
    "    .query('pileup >= 5' )"
   ]
  },
  {
   "cell_type": "code",
   "execution_count": null,
   "metadata": {
    "collapsed": false
   },
   "outputs": [],
   "source": [
    "ss_dinucleotide = defaultdict(int)\n",
    "ss_dinucleotide_seq = defaultdict(list)\n",
    "seqs = []\n",
    "fa = pysam.Fastafile('/stor/work/Lambowitz/ref/hg19/genome/hg19_genome.fa')\n",
    "def fetch_seq(chrom, start, end, strand):\n",
    "    intron_seq = fa.fetch(chrom, start - 1, end)\n",
    "    intron_seq = intron_seq if strand == \"+\" else reverse_complement(intron_seq)\n",
    "    return intron_seq\n",
    "    \n",
    "    \n",
    "\n",
    "intron_df = intron_df.query('pileup >=3') \\\n",
    "    .assign(seq = lambda d: list(map(fetch_seq, d.chrom, d.start, d.end, d.strand))) \\\n",
    "    .assign(dinucleotide = lambda d: d.seq.str.slice(0,2) + ':' + (d.seq + 'N').str.slice(-3,-1))\n",
    "intron_df.head()"
   ]
  },
  {
   "cell_type": "code",
   "execution_count": null,
   "metadata": {
    "collapsed": false
   },
   "outputs": [],
   "source": [
    "tablename = figure_path + '/intron_table.csv'\n",
    "intron_df \\\n",
    "    .filter(regex='chrom|start|end|log10|pileup|intron_gene|seq') \\\n",
    "    .sort_values('pileup', ascending=False)\\\n",
    "    .to_csv(tablename, index=False)\n",
    "print('Written: ', tablename)"
   ]
  },
  {
   "cell_type": "code",
   "execution_count": null,
   "metadata": {
    "collapsed": false
   },
   "outputs": [],
   "source": [
    "intron_df.query('pileup >= %i' %pileup_cutoff) \\\n",
    "    .assign(length = lambda d: d.end - d.start) \\\n",
    "    .describe()"
   ]
  },
  {
   "cell_type": "code",
   "execution_count": null,
   "metadata": {
    "collapsed": false
   },
   "outputs": [],
   "source": [
    "%load_ext autoreload\n",
    "%autoreload 2\n",
    "import mygene as mg\n",
    "import gseapy as gsp\n",
    "mgi = mg.MyGeneInfo()\n",
    "\n",
    "glist = intron_df.query('pileup >= %i' %pileup_cutoff) \\\n",
    "    .filter(['pileup','gid']) \\\n",
    "    .assign(ensg = lambda d: d.gid.str.extract('(ENSG[0-9]+)')) \\\n",
    "    .assign(symbol = lambda d: list(map(lambda x: x['symbol'], mgi.getgenes(d.ensg))))"
   ]
  },
  {
   "cell_type": "code",
   "execution_count": null,
   "metadata": {
    "collapsed": false
   },
   "outputs": [],
   "source": [
    "glist"
   ]
  },
  {
   "cell_type": "code",
   "execution_count": null,
   "metadata": {
    "collapsed": false
   },
   "outputs": [],
   "source": [
    "%tb\n",
    "rnk = glist\\\n",
    "    .filter(['symbol','pileup']) \\\n",
    "    .pipe(lambda d: d[~d.symbol.str.contains('^AC')])\\\n",
    "    .rename(columns={'symbol':'gene_name'})\n",
    "#res = gsp.prerank(rnk = rnk, gene_sets='/stor/work/Lambowitz/ref/gene_sets/c2.all.v6.2.symbols.gmt')\n",
    "print('\\n'.join(rnk.gene_name.tolist()))\n",
    "\n"
   ]
  },
  {
   "cell_type": "code",
   "execution_count": null,
   "metadata": {
    "collapsed": false
   },
   "outputs": [],
   "source": [
    "peaks\\\n",
    "    .query('merged_type == \"miRNA\"')\\\n",
    "    .filter(regex='log10p|picked_RNA_sense')\\\n",
    "    .set_index('picked_RNA_sense')\\\n",
    "    .nlargest(10, 'log10p')\\\n",
    "    .plot.bar() "
   ]
  },
  {
   "cell_type": "code",
   "execution_count": null,
   "metadata": {
    "collapsed": false
   },
   "outputs": [],
   "source": [
    "peaks.pipe(lambda d: d[d.picked_RNA_sense.str.contains(\"CGGA\")])"
   ]
  },
  {
   "cell_type": "code",
   "execution_count": null,
   "metadata": {
    "collapsed": false
   },
   "outputs": [],
   "source": [
    "peaks\\\n",
    "    .assign(anti_merged_type = lambda d: d.picked_type_anti.map(merge_type)) \\\n",
    "    .query('merged_type == \"Repeats\" | (anti_merged_type == \"Repeats\" & is_sense != \"Sense\")')"
   ]
  },
  {
   "cell_type": "code",
   "execution_count": null,
   "metadata": {
    "collapsed": false
   },
   "outputs": [],
   "source": [
    "peaks\\\n",
    "    .query('merged_type==\"RBP\"')\\\n",
    "    .pipe(lambda d: d[~d.gtype.str.contains(lrna_regex)])"
   ]
  },
  {
   "cell_type": "code",
   "execution_count": null,
   "metadata": {
    "collapsed": false
   },
   "outputs": [],
   "source": [
    "import gseapy as gsp"
   ]
  },
  {
   "cell_type": "code",
   "execution_count": null,
   "metadata": {
    "collapsed": false
   },
   "outputs": [],
   "source": [
    "res = gsp.prerank(rnk = rbp_df.sort_values(0,ascending=False),\n",
    "           gene_sets = 'KEGG_2016')"
   ]
  },
  {
   "cell_type": "code",
   "execution_count": null,
   "metadata": {
    "collapsed": false
   },
   "outputs": [],
   "source": [
    "res.res2d"
   ]
  },
  {
   "cell_type": "code",
   "execution_count": null,
   "metadata": {
    "collapsed": false
   },
   "outputs": [],
   "source": []
  },
  {
   "cell_type": "code",
   "execution_count": null,
   "metadata": {
    "collapsed": false
   },
   "outputs": [],
   "source": [
    "aligner = mp.Aligner('/stor/work/Lambowitz/ref/hg19/genome/chrM.minimap2_idx', preset='sr')\n",
    "aln = aligner.map(fa.fetch('chr17',33981908,33982067))"
   ]
  },
  {
   "cell_type": "code",
   "execution_count": null,
   "metadata": {
    "collapsed": false
   },
   "outputs": [],
   "source": [
    "print(next(aln))"
   ]
  },
  {
   "cell_type": "code",
   "execution_count": null,
   "metadata": {
    "collapsed": false
   },
   "outputs": [],
   "source": [
    "def check_MT(peaks, return_column=False):\n",
    "    mt = 0\n",
    "    aligner = mp.Aligner('/stor/work/Lambowitz/ref/hg19/genome/chrM.minimap2_idx', preset='sr')\n",
    "    fa = pysam.FastaFile('/stor/work/Lambowitz/ref/hg19/genome/hg19_genome.fa')\n",
    "    mts = []\n",
    "    for peak_count, row in peaks.reset_index().iterrows():\n",
    "        seq = fa.fetch(row['chrom'], row['start'], row['end'])\n",
    "        seq = seq if row['strand'] == \"+\" else reverse_complement(seq)\n",
    "    \n",
    "        alns = aligner.map(seq)\n",
    "        try:\n",
    "            aln = next(alns)\n",
    "            mt += 1\n",
    "            mts.append('MT')\n",
    "            #print(aln.cigar_str)\n",
    "        except StopIteration:\n",
    "            #print(row)\n",
    "            mts.append('no')\n",
    "            pass\n",
    "\n",
    "\n",
    "    print('%i seq: %i in MT' %(peak_count, mt))\n",
    "    if return_column:\n",
    "        return mts"
   ]
  },
  {
   "cell_type": "code",
   "execution_count": null,
   "metadata": {
    "collapsed": false
   },
   "outputs": [],
   "source": [
    "anti = peak_df.query('pileup >= 5').query('is_sense == \"Unannotated\"')\n",
    "anti['MT'] = check_MT(anti, return_column=True)"
   ]
  },
  {
   "cell_type": "code",
   "execution_count": null,
   "metadata": {
    "collapsed": false
   },
   "outputs": [],
   "source": [
    "peak_df.query(\"sense_gtype == 'tRF3'\")"
   ]
  },
  {
   "cell_type": "code",
   "execution_count": null,
   "metadata": {
    "collapsed": true
   },
   "outputs": [],
   "source": []
  }
 ],
 "metadata": {
  "kernelspec": {
   "display_name": "miniconda3",
   "language": "python",
   "name": "miniconda3"
  },
  "language_info": {
   "codemirror_mode": {
    "name": "ipython",
    "version": 3
   },
   "file_extension": ".py",
   "mimetype": "text/x-python",
   "name": "python",
   "nbconvert_exporter": "python",
   "pygments_lexer": "ipython3",
   "version": "3.6.4"
  }
 },
 "nbformat": 4,
 "nbformat_minor": 2
}
