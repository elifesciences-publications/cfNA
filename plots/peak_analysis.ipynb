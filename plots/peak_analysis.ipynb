{
 "cells": [
  {
   "cell_type": "code",
   "execution_count": 38,
   "metadata": {
    "collapsed": false
   },
   "outputs": [
    {
     "name": "stdout",
     "output_type": "stream",
     "text": [
      "The autoreload extension is already loaded. To reload it, use:\n",
      "  %reload_ext autoreload\n"
     ]
    }
   ],
   "source": [
    "%matplotlib inline\n",
    "%load_ext autoreload\n",
    "%autoreload 2\n",
    "\n",
    "import pandas as pd\n",
    "import numpy as np\n",
    "import matplotlib.pyplot as plt\n",
    "import matplotlib.lines as mlines\n",
    "import seaborn as sns\n",
    "from sequencing_tools.viz_tools import okabeito_palette, color_encoder, simpsons_palette\n",
    "from sequencing_tools.stats_tools import p_adjust\n",
    "from scipy.special import ndtr\n",
    "from collections import defaultdict\n",
    "from sequencing_tools.fastq_tools import reverse_complement\n",
    "from sequencing_tools.bam_tools import get_strand\n",
    "import RNA\n",
    "from multiprocessing import Pool\n",
    "import random\n",
    "import pysam\n",
    "import glob\n",
    "import re\n",
    "#import genomeview\n",
    "from pybedtools import BedTool\n",
    "import mappy as mp\n",
    "from plotting_utils import figure_path\n",
    "from matplotlib import rcParams\n",
    "from peak_utils import *\n",
    "from tblout_parser import read_tbl\n",
    "\n",
    "plt.rc('axes', labelsize=15)\n",
    "plt.rc('xtick', labelsize = 15)\n",
    "plt.rc('ytick', labelsize = 15)\n",
    "rcParams['font.family'] = 'sans-serif'\n",
    "rcParams['font.sans-serif'] = ['Arial']"
   ]
  },
  {
   "cell_type": "code",
   "execution_count": 39,
   "metadata": {
    "collapsed": false
   },
   "outputs": [
    {
     "name": "stdout",
     "output_type": "stream",
     "text": [
      "/stor/work/Lambowitz/cdw2854/cfNA/tgirt_map/bed_files/merged_bed/MACS2/annotated/unfragmented.tsv\n"
     ]
    },
    {
     "ename": "FileNotFoundError",
     "evalue": "File b'/stor/work/Lambowitz/cdw2854/cfNA/tgirt_map/bed_files/merged_bed/MACS2/annotated/unfragmented.tsv' does not exist",
     "output_type": "error",
     "traceback": [
      "\u001b[0;31m---------------------------------------------------------------------------\u001b[0m",
      "\u001b[0;31mFileNotFoundError\u001b[0m                         Traceback (most recent call last)",
      "\u001b[0;32m<ipython-input-39-8d23b65d75ae>\u001b[0m in \u001b[0;36m<module>\u001b[0;34m\u001b[0m\n\u001b[1;32m      4\u001b[0m \u001b[0mpeak_tsv\u001b[0m \u001b[0;34m=\u001b[0m \u001b[0mpeak_path\u001b[0m \u001b[0;34m+\u001b[0m \u001b[0;34m'/unfragmented.tsv'\u001b[0m\u001b[0;34m\u001b[0m\u001b[0m\n\u001b[1;32m      5\u001b[0m \u001b[0mprint\u001b[0m\u001b[0;34m(\u001b[0m\u001b[0mpeak_tsv\u001b[0m\u001b[0;34m)\u001b[0m\u001b[0;34m\u001b[0m\u001b[0m\n\u001b[0;32m----> 6\u001b[0;31m \u001b[0mpeak_df\u001b[0m \u001b[0;34m=\u001b[0m \u001b[0mload_peaks\u001b[0m\u001b[0;34m(\u001b[0m\u001b[0mpeak_tsv\u001b[0m\u001b[0;34m)\u001b[0m\u001b[0;31m \u001b[0m\u001b[0;31m \u001b[0m\u001b[0;31m\\\u001b[0m\u001b[0;34m\u001b[0m\u001b[0m\n\u001b[0m\u001b[1;32m      7\u001b[0m     \u001b[0;34m.\u001b[0m\u001b[0massign\u001b[0m\u001b[0;34m(\u001b[0m\u001b[0msense_gtype\u001b[0m \u001b[0;34m=\u001b[0m \u001b[0;32mlambda\u001b[0m \u001b[0md\u001b[0m\u001b[0;34m:\u001b[0m \u001b[0mnp\u001b[0m\u001b[0;34m.\u001b[0m\u001b[0mwhere\u001b[0m\u001b[0;34m(\u001b[0m\u001b[0md\u001b[0m\u001b[0;34m.\u001b[0m\u001b[0msense_gtype\u001b[0m \u001b[0;34m==\u001b[0m \u001b[0;34m\".\"\u001b[0m\u001b[0;34m,\u001b[0m \u001b[0;34m'Unannotated'\u001b[0m\u001b[0;34m,\u001b[0m \u001b[0md\u001b[0m\u001b[0;34m.\u001b[0m\u001b[0msense_gtype\u001b[0m\u001b[0;34m)\u001b[0m\u001b[0;34m)\u001b[0m\u001b[0;31m\\\u001b[0m\u001b[0;34m\u001b[0m\u001b[0m\n\u001b[1;32m      8\u001b[0m     \u001b[0;34m.\u001b[0m\u001b[0massign\u001b[0m\u001b[0;34m(\u001b[0m\u001b[0mantisense_gtype\u001b[0m \u001b[0;34m=\u001b[0m \u001b[0;32mlambda\u001b[0m \u001b[0md\u001b[0m\u001b[0;34m:\u001b[0m \u001b[0mnp\u001b[0m\u001b[0;34m.\u001b[0m\u001b[0mwhere\u001b[0m\u001b[0;34m(\u001b[0m\u001b[0md\u001b[0m\u001b[0;34m.\u001b[0m\u001b[0mantisense_gtype\u001b[0m \u001b[0;34m==\u001b[0m \u001b[0;34m\".\"\u001b[0m\u001b[0;34m,\u001b[0m \u001b[0;34m'Unannotated'\u001b[0m\u001b[0;34m,\u001b[0m \u001b[0md\u001b[0m\u001b[0;34m.\u001b[0m\u001b[0mantisense_gtype\u001b[0m\u001b[0;34m)\u001b[0m\u001b[0;34m)\u001b[0m\u001b[0;31m \u001b[0m\u001b[0;31m\\\u001b[0m\u001b[0;34m\u001b[0m\u001b[0m\n",
      "\u001b[0;32m~/cfNA/plots/peak_utils.py\u001b[0m in \u001b[0;36mload_peaks\u001b[0;34m(filename)\u001b[0m\n\u001b[1;32m    154\u001b[0m \u001b[0;32mdef\u001b[0m \u001b[0mload_peaks\u001b[0m\u001b[0;34m(\u001b[0m\u001b[0mfilename\u001b[0m\u001b[0;34m)\u001b[0m\u001b[0;34m:\u001b[0m\u001b[0;34m\u001b[0m\u001b[0m\n\u001b[1;32m    155\u001b[0m     \u001b[0mEPSILON\u001b[0m \u001b[0;34m=\u001b[0m \u001b[0;36m1e-100\u001b[0m\u001b[0;34m\u001b[0m\u001b[0m\n\u001b[0;32m--> 156\u001b[0;31m     \u001b[0mpeak_df\u001b[0m \u001b[0;34m=\u001b[0m \u001b[0mpd\u001b[0m\u001b[0;34m.\u001b[0m\u001b[0mread_table\u001b[0m\u001b[0;34m(\u001b[0m\u001b[0mfilename\u001b[0m\u001b[0;34m)\u001b[0m\u001b[0;34m\u001b[0m\u001b[0m\n\u001b[0m\u001b[1;32m    157\u001b[0m     \u001b[0;32mif\u001b[0m \u001b[0;34m'log10p'\u001b[0m \u001b[0;32min\u001b[0m \u001b[0mpeak_df\u001b[0m\u001b[0;34m.\u001b[0m\u001b[0mcolumns\u001b[0m\u001b[0;34m:\u001b[0m\u001b[0;34m\u001b[0m\u001b[0m\n\u001b[1;32m    158\u001b[0m         \u001b[0mpeak_df\u001b[0m\u001b[0;34m[\u001b[0m\u001b[0;34m'pvalue'\u001b[0m\u001b[0;34m]\u001b[0m \u001b[0;34m=\u001b[0m \u001b[0mnp\u001b[0m\u001b[0;34m.\u001b[0m\u001b[0mpower\u001b[0m\u001b[0;34m(\u001b[0m\u001b[0;36m10\u001b[0m\u001b[0;34m,\u001b[0m \u001b[0;34m-\u001b[0m\u001b[0mpeak_df\u001b[0m\u001b[0;34m.\u001b[0m\u001b[0mlog10p\u001b[0m\u001b[0;34m)\u001b[0m\u001b[0;34m\u001b[0m\u001b[0m\n",
      "\u001b[0;32m/stor/work/Lambowitz/cdw2854/src/miniconda3/lib/python3.6/site-packages/pandas/io/parsers.py\u001b[0m in \u001b[0;36mparser_f\u001b[0;34m(filepath_or_buffer, sep, delimiter, header, names, index_col, usecols, squeeze, prefix, mangle_dupe_cols, dtype, engine, converters, true_values, false_values, skipinitialspace, skiprows, nrows, na_values, keep_default_na, na_filter, verbose, skip_blank_lines, parse_dates, infer_datetime_format, keep_date_col, date_parser, dayfirst, iterator, chunksize, compression, thousands, decimal, lineterminator, quotechar, quoting, escapechar, comment, encoding, dialect, tupleize_cols, error_bad_lines, warn_bad_lines, skipfooter, doublequote, delim_whitespace, low_memory, memory_map, float_precision)\u001b[0m\n\u001b[1;32m    676\u001b[0m                     skip_blank_lines=skip_blank_lines)\n\u001b[1;32m    677\u001b[0m \u001b[0;34m\u001b[0m\u001b[0m\n\u001b[0;32m--> 678\u001b[0;31m         \u001b[0;32mreturn\u001b[0m \u001b[0m_read\u001b[0m\u001b[0;34m(\u001b[0m\u001b[0mfilepath_or_buffer\u001b[0m\u001b[0;34m,\u001b[0m \u001b[0mkwds\u001b[0m\u001b[0;34m)\u001b[0m\u001b[0;34m\u001b[0m\u001b[0m\n\u001b[0m\u001b[1;32m    679\u001b[0m \u001b[0;34m\u001b[0m\u001b[0m\n\u001b[1;32m    680\u001b[0m     \u001b[0mparser_f\u001b[0m\u001b[0;34m.\u001b[0m\u001b[0m__name__\u001b[0m \u001b[0;34m=\u001b[0m \u001b[0mname\u001b[0m\u001b[0;34m\u001b[0m\u001b[0m\n",
      "\u001b[0;32m/stor/work/Lambowitz/cdw2854/src/miniconda3/lib/python3.6/site-packages/pandas/io/parsers.py\u001b[0m in \u001b[0;36m_read\u001b[0;34m(filepath_or_buffer, kwds)\u001b[0m\n\u001b[1;32m    438\u001b[0m \u001b[0;34m\u001b[0m\u001b[0m\n\u001b[1;32m    439\u001b[0m     \u001b[0;31m# Create the parser.\u001b[0m\u001b[0;34m\u001b[0m\u001b[0;34m\u001b[0m\u001b[0m\n\u001b[0;32m--> 440\u001b[0;31m     \u001b[0mparser\u001b[0m \u001b[0;34m=\u001b[0m \u001b[0mTextFileReader\u001b[0m\u001b[0;34m(\u001b[0m\u001b[0mfilepath_or_buffer\u001b[0m\u001b[0;34m,\u001b[0m \u001b[0;34m**\u001b[0m\u001b[0mkwds\u001b[0m\u001b[0;34m)\u001b[0m\u001b[0;34m\u001b[0m\u001b[0m\n\u001b[0m\u001b[1;32m    441\u001b[0m \u001b[0;34m\u001b[0m\u001b[0m\n\u001b[1;32m    442\u001b[0m     \u001b[0;32mif\u001b[0m \u001b[0mchunksize\u001b[0m \u001b[0;32mor\u001b[0m \u001b[0miterator\u001b[0m\u001b[0;34m:\u001b[0m\u001b[0;34m\u001b[0m\u001b[0m\n",
      "\u001b[0;32m/stor/work/Lambowitz/cdw2854/src/miniconda3/lib/python3.6/site-packages/pandas/io/parsers.py\u001b[0m in \u001b[0;36m__init__\u001b[0;34m(self, f, engine, **kwds)\u001b[0m\n\u001b[1;32m    785\u001b[0m             \u001b[0mself\u001b[0m\u001b[0;34m.\u001b[0m\u001b[0moptions\u001b[0m\u001b[0;34m[\u001b[0m\u001b[0;34m'has_index_names'\u001b[0m\u001b[0;34m]\u001b[0m \u001b[0;34m=\u001b[0m \u001b[0mkwds\u001b[0m\u001b[0;34m[\u001b[0m\u001b[0;34m'has_index_names'\u001b[0m\u001b[0;34m]\u001b[0m\u001b[0;34m\u001b[0m\u001b[0m\n\u001b[1;32m    786\u001b[0m \u001b[0;34m\u001b[0m\u001b[0m\n\u001b[0;32m--> 787\u001b[0;31m         \u001b[0mself\u001b[0m\u001b[0;34m.\u001b[0m\u001b[0m_make_engine\u001b[0m\u001b[0;34m(\u001b[0m\u001b[0mself\u001b[0m\u001b[0;34m.\u001b[0m\u001b[0mengine\u001b[0m\u001b[0;34m)\u001b[0m\u001b[0;34m\u001b[0m\u001b[0m\n\u001b[0m\u001b[1;32m    788\u001b[0m \u001b[0;34m\u001b[0m\u001b[0m\n\u001b[1;32m    789\u001b[0m     \u001b[0;32mdef\u001b[0m \u001b[0mclose\u001b[0m\u001b[0;34m(\u001b[0m\u001b[0mself\u001b[0m\u001b[0;34m)\u001b[0m\u001b[0;34m:\u001b[0m\u001b[0;34m\u001b[0m\u001b[0m\n",
      "\u001b[0;32m/stor/work/Lambowitz/cdw2854/src/miniconda3/lib/python3.6/site-packages/pandas/io/parsers.py\u001b[0m in \u001b[0;36m_make_engine\u001b[0;34m(self, engine)\u001b[0m\n\u001b[1;32m   1012\u001b[0m     \u001b[0;32mdef\u001b[0m \u001b[0m_make_engine\u001b[0m\u001b[0;34m(\u001b[0m\u001b[0mself\u001b[0m\u001b[0;34m,\u001b[0m \u001b[0mengine\u001b[0m\u001b[0;34m=\u001b[0m\u001b[0;34m'c'\u001b[0m\u001b[0;34m)\u001b[0m\u001b[0;34m:\u001b[0m\u001b[0;34m\u001b[0m\u001b[0m\n\u001b[1;32m   1013\u001b[0m         \u001b[0;32mif\u001b[0m \u001b[0mengine\u001b[0m \u001b[0;34m==\u001b[0m \u001b[0;34m'c'\u001b[0m\u001b[0;34m:\u001b[0m\u001b[0;34m\u001b[0m\u001b[0m\n\u001b[0;32m-> 1014\u001b[0;31m             \u001b[0mself\u001b[0m\u001b[0;34m.\u001b[0m\u001b[0m_engine\u001b[0m \u001b[0;34m=\u001b[0m \u001b[0mCParserWrapper\u001b[0m\u001b[0;34m(\u001b[0m\u001b[0mself\u001b[0m\u001b[0;34m.\u001b[0m\u001b[0mf\u001b[0m\u001b[0;34m,\u001b[0m \u001b[0;34m**\u001b[0m\u001b[0mself\u001b[0m\u001b[0;34m.\u001b[0m\u001b[0moptions\u001b[0m\u001b[0;34m)\u001b[0m\u001b[0;34m\u001b[0m\u001b[0m\n\u001b[0m\u001b[1;32m   1015\u001b[0m         \u001b[0;32melse\u001b[0m\u001b[0;34m:\u001b[0m\u001b[0;34m\u001b[0m\u001b[0m\n\u001b[1;32m   1016\u001b[0m             \u001b[0;32mif\u001b[0m \u001b[0mengine\u001b[0m \u001b[0;34m==\u001b[0m \u001b[0;34m'python'\u001b[0m\u001b[0;34m:\u001b[0m\u001b[0;34m\u001b[0m\u001b[0m\n",
      "\u001b[0;32m/stor/work/Lambowitz/cdw2854/src/miniconda3/lib/python3.6/site-packages/pandas/io/parsers.py\u001b[0m in \u001b[0;36m__init__\u001b[0;34m(self, src, **kwds)\u001b[0m\n\u001b[1;32m   1706\u001b[0m         \u001b[0mkwds\u001b[0m\u001b[0;34m[\u001b[0m\u001b[0;34m'usecols'\u001b[0m\u001b[0;34m]\u001b[0m \u001b[0;34m=\u001b[0m \u001b[0mself\u001b[0m\u001b[0;34m.\u001b[0m\u001b[0musecols\u001b[0m\u001b[0;34m\u001b[0m\u001b[0m\n\u001b[1;32m   1707\u001b[0m \u001b[0;34m\u001b[0m\u001b[0m\n\u001b[0;32m-> 1708\u001b[0;31m         \u001b[0mself\u001b[0m\u001b[0;34m.\u001b[0m\u001b[0m_reader\u001b[0m \u001b[0;34m=\u001b[0m \u001b[0mparsers\u001b[0m\u001b[0;34m.\u001b[0m\u001b[0mTextReader\u001b[0m\u001b[0;34m(\u001b[0m\u001b[0msrc\u001b[0m\u001b[0;34m,\u001b[0m \u001b[0;34m**\u001b[0m\u001b[0mkwds\u001b[0m\u001b[0;34m)\u001b[0m\u001b[0;34m\u001b[0m\u001b[0m\n\u001b[0m\u001b[1;32m   1709\u001b[0m \u001b[0;34m\u001b[0m\u001b[0m\n\u001b[1;32m   1710\u001b[0m         \u001b[0mpassed_names\u001b[0m \u001b[0;34m=\u001b[0m \u001b[0mself\u001b[0m\u001b[0;34m.\u001b[0m\u001b[0mnames\u001b[0m \u001b[0;32mis\u001b[0m \u001b[0;32mNone\u001b[0m\u001b[0;34m\u001b[0m\u001b[0m\n",
      "\u001b[0;32mpandas/_libs/parsers.pyx\u001b[0m in \u001b[0;36mpandas._libs.parsers.TextReader.__cinit__\u001b[0;34m()\u001b[0m\n",
      "\u001b[0;32mpandas/_libs/parsers.pyx\u001b[0m in \u001b[0;36mpandas._libs.parsers.TextReader._setup_parser_source\u001b[0;34m()\u001b[0m\n",
      "\u001b[0;31mFileNotFoundError\u001b[0m: File b'/stor/work/Lambowitz/cdw2854/cfNA/tgirt_map/bed_files/merged_bed/MACS2/annotated/unfragmented.tsv' does not exist"
     ]
    }
   ],
   "source": [
    "project_path = '/stor/work/Lambowitz/cdw2854/cfNA/tgirt_map'\n",
    "peak_path = project_path + '/bed_files/merged_bed/MACS2/annotated'\n",
    "#peak_path = project_path + '/CLAM//BED_files/peaks/annotation'\n",
    "peak_tsv = peak_path + '/unfragmented.tsv'\n",
    "print(peak_tsv)\n",
    "peak_df = load_peaks(peak_tsv)  \\\n",
    "    .assign(sense_gtype = lambda d: np.where(d.sense_gtype == \".\", 'Unannotated', d.sense_gtype))\\\n",
    "    .assign(antisense_gtype = lambda d: np.where(d.antisense_gtype == \".\", 'Unannotated', d.antisense_gtype)) \\\n",
    "    .sort_values('pileup', ascending=False)\n",
    "peak_df.head()"
   ]
  },
  {
   "cell_type": "code",
   "execution_count": null,
   "metadata": {
    "collapsed": false
   },
   "outputs": [],
   "source": [
    "ce = color_encoder()\n",
    "colors = simpsons_palette()\n",
    "#colors.extend(['black','white'])\n",
    "random.seed(12)\n",
    "colors = random.sample(colors, k = len(peak_df.sense_gtype.unique()))\n",
    "ce.fit(peak_df.sense_gtype, colors)\n",
    "ce.encoder = {'Long RNA': '#370335',\n",
    "     'RBP': '#91331F',\n",
    "     'Repeats': '#197EC0',\n",
    "     'Unannotated': '#46732E',\n",
    "     'miRNA': '#FD7446',\n",
    "     'misc RNA': '#FD8CC1',\n",
    "     'tRF3':'black',\n",
    "     'tRF5':'black',\n",
    "     'piRNA': '#D5E4A2',\n",
    "     'snRNA': '#8A9197',\n",
    "     'snoRNA': '#FED439'}"
   ]
  },
  {
   "cell_type": "code",
   "execution_count": null,
   "metadata": {
    "collapsed": false,
    "scrolled": false
   },
   "outputs": [],
   "source": [
    "fig = plt.figure(figsize=(10,8))\n",
    "cov_ax = fig.add_subplot(221)\n",
    "number_ax = fig.add_subplot(223)\n",
    "dist_cov_ax = fig.add_subplot(222)\n",
    "#peak_annotation_ax = fig.add_subplot(224)\n",
    "\n",
    "plot_peak_coverage(peak_df, cov_ax, log=True)\n",
    "#plot_cov_density(peak_df, dist_cov_ax)\n",
    "plot_peak_cum_cov(peak_df, dist_cov_ax)\n",
    "plot_peak_number(peak_df, number_ax, ce)\n",
    "#### add hepG2\n",
    "#combined_peaks = pd.concat([peak_df.assign(annotation = 'K562'),\n",
    "#                        hep_peak_df.assign(annotation = 'K562 + HepG2')])\n",
    "#plot_peak_bar(peak_annotation_ax, combined_peaks)\n",
    "fig.tight_layout()\n",
    "\n",
    "figurename = figure_path + '/peak_qc.pdf'\n",
    "fig.savefig(figurename, bbox_inches = 'tight')\n",
    "print('Plotted: ', figurename)"
   ]
  },
  {
   "cell_type": "code",
   "execution_count": null,
   "metadata": {
    "collapsed": false
   },
   "outputs": [],
   "source": [
    "peak_df.sense_gtype.unique()"
   ]
  },
  {
   "cell_type": "code",
   "execution_count": null,
   "metadata": {
    "collapsed": false
   },
   "outputs": [],
   "source": [
    "fig = plt.figure(figsize=(10,10))\n",
    "\n",
    "strand_ax = fig.add_axes([-0.1, 0.5, 0.45, 0.45])\n",
    "pie_ax = fig.add_axes([0.6, 0.5, 0.5, 0.5])\n",
    "rbp_ax = fig.add_axes([-0.1, 0, 0.35, 0.5])\n",
    "long_ax = fig.add_axes([0.38, 0, 0.35, 0.5])\n",
    "misc_ax = fig.add_axes([0.84, 0, 0.35, 0.5])\n",
    "\n",
    "top_n = 15\n",
    "plot_peak_strand(peak_df, strand_ax)\n",
    "sense_peaks = peak_df.query('is_sense == \"Sense\"')\n",
    "plot_peak_pie(sense_peaks, pie_ax, ce)\n",
    "plot_RNA(sense_peaks, misc_ax, ce, rnatype='Repeats', top_n = top_n)\n",
    "rbp_df = plot_rbp(sense_peaks, rbp_ax, ce, top_n = top_n)\n",
    "plot_long_RNA_peak(peak_df, long_ax, ce, top_n = top_n, y_val = 'log10p')\n",
    "#l1 = mlines.Line2D([0.3,0.6],[0.9,0.955], color= 'black',\n",
    "#                   figure = fig,  transform=fig.transFigure)\n",
    "#l2 = mlines.Line2D([0.3,0.65],[0.58,0.51], color= 'black',\n",
    "#                   figure = fig,  transform=fig.transFigure)\n",
    "#fig.lines.extend([l1, l2])\n",
    "figure_name = figure_path + '/peak_figure.pdf'\n",
    "fig.savefig(figure_name, bbox_inches = 'tight')\n",
    "print('Saved:', figure_name)"
   ]
  },
  {
   "cell_type": "code",
   "execution_count": null,
   "metadata": {
    "collapsed": false
   },
   "outputs": [],
   "source": [
    "import RNA \n",
    "\n",
    "lr_peak = peak_df\\\n",
    "    .query('sense_gtype==\"Long RNA\"') \\\n",
    "    .query('pileup >= %i & sample_count >= %i'%(pileup_cutoff, sample_cutoff))\\\n",
    "    .assign(seq = lambda d: list(map(fetch_seq, d.chrom, d.start, d.end, d.strand))) \\\n",
    "    .assign(mt = lambda d: d.seq.map(is_mt))  \\\n",
    "    .assign(shape = lambda d: d.seq.map(RNA.fold))\\\n",
    "    .assign(energy = lambda d: list(map(lambda x: x[1], d['shape'])))\\\n",
    "    .assign(shape = lambda d: list(map(lambda x: x[0], d['shape'])))\\\n",
    "    .assign(width = lambda d: d.end - d.start)\\\n",
    "    .sort_values('log10p', ascending=False)"
   ]
  },
  {
   "cell_type": "code",
   "execution_count": null,
   "metadata": {
    "collapsed": false
   },
   "outputs": [],
   "source": [
    "cmscan_df = read_tbl(peak_path + '/unfragmented.Long_RNA.tblout') \\\n",
    "    .assign(peakname = lambda d: d['query name'].str.split('(', expand=True).iloc[:,0]\\\n",
    "                                   .str.replace('^RF[0-9]+','')\\\n",
    "                                   .str.strip(' '))\\\n",
    "    .assign(strand = lambda d: np.where(d.strand==\"+\", 0,1) )\\\n",
    "    .groupby('peakname', as_index=False)\\\n",
    "    .apply(lambda d: d.pipe(lambda d1: d1[d1.strand==d1.strand.min()]).pipe(lambda d1: d1[d1.score==d1.score.max()]))\n",
    "cmscan_df.head()"
   ]
  },
  {
   "cell_type": "code",
   "execution_count": null,
   "metadata": {
    "collapsed": false
   },
   "outputs": [],
   "source": [
    "cmscan_df.reset_index().filter(regex='name')"
   ]
  },
  {
   "cell_type": "code",
   "execution_count": null,
   "metadata": {
    "collapsed": false
   },
   "outputs": [],
   "source": [
    "lr_peak.merge(cmscan_df, on ='peakname', how='left')\\\n",
    "    .filter(['chrom','start','end', 'peakname','log10p', 'sense_gname','target name','strand_x'])\\\n",
    "    .nlargest(15,'log10p')"
   ]
  },
  {
   "cell_type": "code",
   "execution_count": null,
   "metadata": {
    "collapsed": false
   },
   "outputs": [],
   "source": [
    "lr_peak.query('width == 1751')"
   ]
  },
  {
   "cell_type": "code",
   "execution_count": null,
   "metadata": {
    "collapsed": false
   },
   "outputs": [],
   "source": [
    "sns.distplot(peak_df.fc.transform(np.log2))\n",
    "sns.distplot(peak_df.query('pileup >= 4 & sample_count >= 5').fc.transform(np.log2))"
   ]
  },
  {
   "cell_type": "code",
   "execution_count": null,
   "metadata": {
    "collapsed": false
   },
   "outputs": [],
   "source": [
    "lr_peak.query('peakname==\"unfragmented.fwd_peak_28467\"')"
   ]
  },
  {
   "cell_type": "code",
   "execution_count": null,
   "metadata": {
    "collapsed": false
   },
   "outputs": [],
   "source": [
    "fold = lr_peak.nlargest(20,'log10p').pipe(lambda d: d[~d.sense_gname.str.contains('RMRP|RPPH1|AC019188.1|HIST')])\n",
    "fold.head()"
   ]
  },
  {
   "cell_type": "code",
   "execution_count": null,
   "metadata": {
    "collapsed": false
   },
   "outputs": [],
   "source": [
    "import random\n",
    "from collections import Counter\n",
    "from scipy.stats import ranksums\n",
    "\n",
    "es = []\n",
    "bases = list('ACTG')\n",
    "for w, seq in zip(fold.width, fold.seq):\n",
    "    b = Counter(seq.upper())\n",
    "    weights = [b[n] for n in bases]\n",
    "    for i in range(20):\n",
    "        random_seq = ''.join(random.choices(list('ACTG'), \n",
    "                                            k=w, weights=weights))\n",
    "        s, e = RNA.fold(random_seq)\n",
    "        es.append(e)"
   ]
  },
  {
   "cell_type": "code",
   "execution_count": null,
   "metadata": {
    "collapsed": false
   },
   "outputs": [],
   "source": [
    "w, p = ranksums(es, fold.energy.values)"
   ]
  },
  {
   "cell_type": "code",
   "execution_count": null,
   "metadata": {
    "collapsed": false
   },
   "outputs": [],
   "source": [
    "ax = plt.subplot()\n",
    "sns.distplot(fold.energy, label = 'RBP', ax = ax, hist=False)\n",
    "sns.distplot(es, label = 'Random', ax = ax, hist=False)\n",
    "ax.text(-40,0.05, 'Wilcoxon test $p$: %.3f' %p)\n",
    "ax.legend(frameon=False)\n",
    "sns.despine()\n",
    "ax.set_xlabel('Folding energy')\n",
    "ax.set_ylabel('Density')\n",
    "plt.savefig(figure_path + '/fold_energy.pdf', bbox_inches='tight')"
   ]
  },
  {
   "cell_type": "code",
   "execution_count": null,
   "metadata": {
    "collapsed": false
   },
   "outputs": [],
   "source": [
    "colnames = rbp.columns.tolist()\n",
    "colnames.extend(['tRNA_chrom','tRNA_start','tRNA_end','tRNA_name', \n",
    "                'tRNA_score','tRNA_strand', 'tRNA_type',\n",
    "               'tRNA_id','distance'])\n",
    "\n",
    "closest = BedTool().from_dataframe(rbp.sort_values(['chrom','start','end']))\\\n",
    "    .closest(b = '/stor/work/Lambowitz/ref/hg19/new_genes/tRNA.sorted.bed', d= True) \\\n",
    "    .to_dataframe(names = colnames) "
   ]
  },
  {
   "cell_type": "code",
   "execution_count": null,
   "metadata": {
    "collapsed": false
   },
   "outputs": [],
   "source": [
    "'|'.join(closest.nlargest(20, 'log10p').query('distance < 100').sense_gname)"
   ]
  },
  {
   "cell_type": "code",
   "execution_count": null,
   "metadata": {
    "collapsed": false
   },
   "outputs": [],
   "source": [
    "RNA.fold(rbp.seq.values[2])"
   ]
  },
  {
   "cell_type": "code",
   "execution_count": null,
   "metadata": {
    "collapsed": false
   },
   "outputs": [],
   "source": [
    "sns.jointplot(peak_df.pileup.transform(np.log),\n",
    "            peak_df.sample_count)"
   ]
  },
  {
   "cell_type": "code",
   "execution_count": null,
   "metadata": {
    "collapsed": false
   },
   "outputs": [],
   "source": [
    "','.join(rbp_df.head(15).index)"
   ]
  },
  {
   "cell_type": "code",
   "execution_count": null,
   "metadata": {
    "collapsed": false
   },
   "outputs": [],
   "source": [
    "peak_df\\\n",
    "    .query('pileup >= %i' %pileup_cutoff)\\\n",
    "    .to_csv(peak_path + '/peaks.tsv',sep='\\t', index=False)"
   ]
  },
  {
   "cell_type": "code",
   "execution_count": null,
   "metadata": {
    "collapsed": false
   },
   "outputs": [],
   "source": [
    "ax = plt.subplot()\n",
    "pdf = peak_df\\\n",
    "    .pipe(lambda d: d[~d.sense_gtype.str.contains('tRF')])\\\n",
    "    .query('pileup >= %i' %pileup_cutoff)\\\n",
    "    .assign(peak_width = lambda d: d.end-d.start)\\\n",
    "    .assign(log_pile = lambda d: d.pileup.transform(np.log10))\n",
    "\n",
    "pdf.plot.scatter('peak_width','pileup', \n",
    "                  color = ce.transform(pdf.sense_gtype), ax = ax,\n",
    "                 alpha = 0.2)\n",
    "ax.set_xscale('log')\n",
    "ax.set_yscale('log')\n",
    "ce.show_legend(ax = ax, bbox_to_anchor =(1,1), frameon=False)\n",
    "sns.despine()"
   ]
  },
  {
   "cell_type": "code",
   "execution_count": null,
   "metadata": {
    "collapsed": false
   },
   "outputs": [],
   "source": [
    "ax = plt.subplot()\n",
    "\n",
    "for gt, gd in peak_df\\\n",
    "            .query('pileup >= %i' %(pileup_cutoff))\\\n",
    "            .assign(peak_width = lambda d: (d.end-d.start))\\\n",
    "            .groupby('sense_gtype'):\n",
    "    alpha = 1 if gt in [\"Long RNA\"] else 1\n",
    "    sns.distplot(gd.peak_width, ax = ax, kde_kws={'alpha':alpha},\n",
    "                label = gt, color = ce.encoder[gt],\n",
    "                hist=False)\n",
    "lgd = ax.legend(frameon=False)\n",
    "for lh in lgd.legendHandles: \n",
    "    lh.set_alpha(1)\n",
    "ax.set_ylabel('Density')\n",
    "ax.set_xlabel('Peak width ($log_{10}$ nt)')\n",
    "\n",
    "x_range = np.arange(1,500, 50)\n",
    "ax.set_xlim(x_range.min(), x_range.max())\n",
    "ax.set_xticks(x_range)\n",
    "for xt, x in zip(ax.get_xticklabels(), x_range):\n",
    "    xt.set_text(r'$10^{%s}$' %(x))"
   ]
  },
  {
   "cell_type": "code",
   "execution_count": null,
   "metadata": {
    "collapsed": false
   },
   "outputs": [],
   "source": [
    "lR_peak = peak_df[peak_df.sense_gtype.str.contains('Long RNA')] \\\n",
    "    .sort_values('log10p', ascending=False) \n",
    "lR_peak.head(20)"
   ]
  },
  {
   "cell_type": "code",
   "execution_count": null,
   "metadata": {
    "collapsed": false
   },
   "outputs": [],
   "source": [
    "anti_peaks.antisense_gtype.unique()"
   ]
  },
  {
   "cell_type": "code",
   "execution_count": null,
   "metadata": {
    "collapsed": false
   },
   "outputs": [],
   "source": [
    "anti_peaks = peak_df.query('is_sense == \"Antisense\"')\\\n",
    "    .pipe(lambda d: d[~d.antisense_gtype.str.contains('tRF')])"
   ]
  },
  {
   "cell_type": "code",
   "execution_count": null,
   "metadata": {
    "collapsed": false
   },
   "outputs": [],
   "source": [
    "fig = plt.figure(figsize=(10,5))\n",
    "ax = fig.add_axes([0,0.1,0.4,0.8])\n",
    "plot_peak_pie(anti_peaks, ax, ce, gtype='antisense_gtype')\n",
    "ax = fig.add_axes([0.7, 0, 0.4, 1])\n",
    "anti_plot = anti_peaks.nlargest(15, 'log10p')\n",
    "anti_plot.plot\\\n",
    "    .bar('antisense_gname', 'log10p', \n",
    "         color = ce.transform(anti_plot\\\n",
    "                               .antisense_gtype),\n",
    "        ax = ax)\n",
    "ax.legend().set_visible(False)\n",
    "ax.set_xlabel('RNA type')\n",
    "ax.set_ylabel('-$log_{10}$ p-value')\n",
    "sns.despine()\n",
    "fig.tight_layout()\n",
    "figurename = figure_path + '/peak_anti.pdf'\n",
    "fig.savefig(figurename, bbox_inches = 'tight')\n",
    "print('Plotted: ', figurename)"
   ]
  },
  {
   "cell_type": "code",
   "execution_count": null,
   "metadata": {
    "collapsed": false
   },
   "outputs": [],
   "source": [
    "fa = pysam.FastaFile('/stor/work/Lambowitz/ref/hg19/genome/hg19_genome.fa')\n",
    "fa.fetch('chr12',22158771,22158870)"
   ]
  },
  {
   "cell_type": "code",
   "execution_count": null,
   "metadata": {
    "collapsed": false
   },
   "outputs": [],
   "source": [
    "columns = peak_df.columns\n",
    "columns = np.append(columns,['intron_chrom','intron_start','intron_end',\n",
    "               'intron_gene','intron_score','intron_strand'])\n",
    "intron_df = BedTool()\\\n",
    "    .from_dataframe(peak_df )\\\n",
    "    .intersect('/stor/work/Lambowitz/ref/hg19/genome/independent_intron.bed', \n",
    "               f= 0.8,F=0.8,wb=True)\\\n",
    "    .to_dataframe(names = columns)\n",
    "intron_df.shape"
   ]
  },
  {
   "cell_type": "code",
   "execution_count": null,
   "metadata": {
    "collapsed": false
   },
   "outputs": [],
   "source": [
    "intron_df \\\n",
    "    .query('pileup >= 5' )"
   ]
  },
  {
   "cell_type": "code",
   "execution_count": null,
   "metadata": {
    "collapsed": false
   },
   "outputs": [],
   "source": [
    "ss_dinucleotide = defaultdict(int)\n",
    "ss_dinucleotide_seq = defaultdict(list)\n",
    "seqs = []\n",
    "fa = pysam.Fastafile('/stor/work/Lambowitz/ref/hg19/genome/hg19_genome.fa')\n",
    "def fetch_seq(chrom, start, end, strand):\n",
    "    intron_seq = fa.fetch(chrom, start - 1, end)\n",
    "    intron_seq = intron_seq if strand == \"+\" else reverse_complement(intron_seq)\n",
    "    return intron_seq\n",
    "    \n",
    "    \n",
    "\n",
    "intron_df = intron_df.query('pileup >=3') \\\n",
    "    .assign(seq = lambda d: list(map(fetch_seq, d.chrom, d.start, d.end, d.strand))) \\\n",
    "    .assign(dinucleotide = lambda d: d.seq.str.slice(0,2) + ':' + (d.seq + 'N').str.slice(-3,-1))\n",
    "intron_df.head()"
   ]
  },
  {
   "cell_type": "code",
   "execution_count": null,
   "metadata": {
    "collapsed": false
   },
   "outputs": [],
   "source": [
    "tablename = figure_path + '/intron_table.csv'\n",
    "intron_df \\\n",
    "    .filter(regex='chrom|start|end|log10|pileup|intron_gene|seq') \\\n",
    "    .sort_values('pileup', ascending=False)\\\n",
    "    .to_csv(tablename, index=False)\n",
    "print('Written: ', tablename)"
   ]
  },
  {
   "cell_type": "code",
   "execution_count": null,
   "metadata": {
    "collapsed": false
   },
   "outputs": [],
   "source": [
    "intron_df.query('pileup >= %i' %pileup_cutoff) \\\n",
    "    .assign(length = lambda d: d.end - d.start) \\\n",
    "    .describe()"
   ]
  },
  {
   "cell_type": "code",
   "execution_count": null,
   "metadata": {
    "collapsed": false
   },
   "outputs": [],
   "source": [
    "%load_ext autoreload\n",
    "%autoreload 2\n",
    "import mygene as mg\n",
    "import gseapy as gsp\n",
    "mgi = mg.MyGeneInfo()\n",
    "\n",
    "glist = intron_df.query('pileup >= %i' %pileup_cutoff) \\\n",
    "    .filter(['pileup','gid']) \\\n",
    "    .assign(ensg = lambda d: d.gid.str.extract('(ENSG[0-9]+)')) \\\n",
    "    .assign(symbol = lambda d: list(map(lambda x: x['symbol'], mgi.getgenes(d.ensg))))"
   ]
  },
  {
   "cell_type": "code",
   "execution_count": null,
   "metadata": {
    "collapsed": false
   },
   "outputs": [],
   "source": [
    "glist"
   ]
  },
  {
   "cell_type": "code",
   "execution_count": null,
   "metadata": {
    "collapsed": false
   },
   "outputs": [],
   "source": [
    "%tb\n",
    "rnk = glist\\\n",
    "    .filter(['symbol','pileup']) \\\n",
    "    .pipe(lambda d: d[~d.symbol.str.contains('^AC')])\\\n",
    "    .rename(columns={'symbol':'gene_name'})\n",
    "#res = gsp.prerank(rnk = rnk, gene_sets='/stor/work/Lambowitz/ref/gene_sets/c2.all.v6.2.symbols.gmt')\n",
    "print('\\n'.join(rnk.gene_name.tolist()))\n",
    "\n"
   ]
  },
  {
   "cell_type": "code",
   "execution_count": null,
   "metadata": {
    "collapsed": false
   },
   "outputs": [],
   "source": [
    "peaks\\\n",
    "    .query('merged_type == \"miRNA\"')\\\n",
    "    .filter(regex='log10p|picked_RNA_sense')\\\n",
    "    .set_index('picked_RNA_sense')\\\n",
    "    .nlargest(10, 'log10p')\\\n",
    "    .plot.bar() "
   ]
  },
  {
   "cell_type": "code",
   "execution_count": null,
   "metadata": {
    "collapsed": false
   },
   "outputs": [],
   "source": [
    "peaks.pipe(lambda d: d[d.picked_RNA_sense.str.contains(\"CGGA\")])"
   ]
  },
  {
   "cell_type": "code",
   "execution_count": null,
   "metadata": {
    "collapsed": false
   },
   "outputs": [],
   "source": [
    "peaks\\\n",
    "    .assign(anti_merged_type = lambda d: d.picked_type_anti.map(merge_type)) \\\n",
    "    .query('merged_type == \"Repeats\" | (anti_merged_type == \"Repeats\" & is_sense != \"Sense\")')"
   ]
  },
  {
   "cell_type": "code",
   "execution_count": null,
   "metadata": {
    "collapsed": false
   },
   "outputs": [],
   "source": [
    "peaks\\\n",
    "    .query('merged_type==\"RBP\"')\\\n",
    "    .pipe(lambda d: d[~d.gtype.str.contains(lrna_regex)])"
   ]
  },
  {
   "cell_type": "code",
   "execution_count": null,
   "metadata": {
    "collapsed": false
   },
   "outputs": [],
   "source": [
    "import gseapy as gsp"
   ]
  },
  {
   "cell_type": "code",
   "execution_count": null,
   "metadata": {
    "collapsed": false
   },
   "outputs": [],
   "source": [
    "res = gsp.prerank(rnk = rbp_df.sort_values(0,ascending=False),\n",
    "           gene_sets = 'KEGG_2016')"
   ]
  },
  {
   "cell_type": "code",
   "execution_count": null,
   "metadata": {
    "collapsed": false
   },
   "outputs": [],
   "source": [
    "res.res2d"
   ]
  },
  {
   "cell_type": "code",
   "execution_count": null,
   "metadata": {
    "collapsed": false
   },
   "outputs": [],
   "source": []
  },
  {
   "cell_type": "code",
   "execution_count": null,
   "metadata": {
    "collapsed": false
   },
   "outputs": [],
   "source": [
    "aligner = mp.Aligner('/stor/work/Lambowitz/ref/hg19/genome/chrM.minimap2_idx', preset='sr')\n",
    "aln = aligner.map(fa.fetch('chr17',33981908,33982067))"
   ]
  },
  {
   "cell_type": "code",
   "execution_count": null,
   "metadata": {
    "collapsed": false
   },
   "outputs": [],
   "source": [
    "print(next(aln))"
   ]
  },
  {
   "cell_type": "code",
   "execution_count": null,
   "metadata": {
    "collapsed": false
   },
   "outputs": [],
   "source": [
    "def check_MT(peaks, return_column=False):\n",
    "    mt = 0\n",
    "    aligner = mp.Aligner('/stor/work/Lambowitz/ref/hg19/genome/chrM.minimap2_idx', preset='sr')\n",
    "    fa = pysam.FastaFile('/stor/work/Lambowitz/ref/hg19/genome/hg19_genome.fa')\n",
    "    mts = []\n",
    "    for peak_count, row in peaks.reset_index().iterrows():\n",
    "        seq = fa.fetch(row['chrom'], row['start'], row['end'])\n",
    "        seq = seq if row['strand'] == \"+\" else reverse_complement(seq)\n",
    "    \n",
    "        alns = aligner.map(seq)\n",
    "        try:\n",
    "            aln = next(alns)\n",
    "            mt += 1\n",
    "            mts.append('MT')\n",
    "            #print(aln.cigar_str)\n",
    "        except StopIteration:\n",
    "            #print(row)\n",
    "            mts.append('no')\n",
    "            pass\n",
    "\n",
    "\n",
    "    print('%i seq: %i in MT' %(peak_count, mt))\n",
    "    if return_column:\n",
    "        return mts"
   ]
  },
  {
   "cell_type": "code",
   "execution_count": null,
   "metadata": {
    "collapsed": false
   },
   "outputs": [],
   "source": [
    "anti = peak_df.query('pileup >= 5').query('is_sense == \"Unannotated\"')\n",
    "anti['MT'] = check_MT(anti, return_column=True)"
   ]
  },
  {
   "cell_type": "code",
   "execution_count": null,
   "metadata": {
    "collapsed": false
   },
   "outputs": [],
   "source": [
    "peak_df.query(\"sense_gtype == 'tRF3'\")"
   ]
  },
  {
   "cell_type": "code",
   "execution_count": null,
   "metadata": {
    "collapsed": true
   },
   "outputs": [],
   "source": []
  }
 ],
 "metadata": {
  "kernelspec": {
   "display_name": "miniconda3",
   "language": "python",
   "name": "miniconda3"
  },
  "language_info": {
   "codemirror_mode": {
    "name": "ipython",
    "version": 3
   },
   "file_extension": ".py",
   "mimetype": "text/x-python",
   "name": "python",
   "nbconvert_exporter": "python",
   "pygments_lexer": "ipython3",
   "version": "3.6.4"
  }
 },
 "nbformat": 4,
 "nbformat_minor": 2
}
