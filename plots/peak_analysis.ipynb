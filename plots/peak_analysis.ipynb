{
 "cells": [
  {
   "cell_type": "code",
   "execution_count": 31,
   "metadata": {
    "collapsed": false
   },
   "outputs": [
    {
     "name": "stdout",
     "output_type": "stream",
     "text": [
      "The autoreload extension is already loaded. To reload it, use:\n",
      "  %reload_ext autoreload\n"
     ]
    }
   ],
   "source": [
    "%matplotlib inline\n",
    "%load_ext autoreload\n",
    "%autoreload 2\n",
    "\n",
    "import pandas as pd\n",
    "import numpy as np\n",
    "import matplotlib.pyplot as plt\n",
    "import matplotlib.lines as mlines\n",
    "import seaborn as sns\n",
    "from sequencing_tools.viz_tools import okabeito_palette, color_encoder, simpsons_palette\n",
    "from sequencing_tools.stats_tools import p_adjust\n",
    "from scipy.special import ndtr\n",
    "from collections import defaultdict\n",
    "from sequencing_tools.fastq_tools import reverse_complement\n",
    "from sequencing_tools.bam_tools import get_strand\n",
    "import RNA\n",
    "from multiprocessing import Pool\n",
    "import random\n",
    "import pysam\n",
    "import glob\n",
    "import re\n",
    "#import genomeview\n",
    "from pybedtools import BedTool\n",
    "import mappy as mp\n",
    "from plotting_utils import figure_path\n",
    "from matplotlib import rcParams\n",
    "from peak_utils import *\n",
    "from tblout_parser import read_tbl\n",
    "\n",
    "plt.rc('axes', labelsize=15)\n",
    "plt.rc('xtick', labelsize = 15)\n",
    "plt.rc('ytick', labelsize = 15)\n",
    "rcParams['font.family'] = 'sans-serif'\n",
    "rcParams['font.sans-serif'] = ['Arial']"
   ]
  },
  {
   "cell_type": "code",
   "execution_count": 32,
   "metadata": {
    "collapsed": false
   },
   "outputs": [
    {
     "name": "stdout",
     "output_type": "stream",
     "text": [
      "/stor/work/Lambowitz/cdw2854/cfNA/tgirt_map/bed_files/merged_bed/MACS2/annotated/unfragmented.filtered.tsv\n"
     ]
    },
    {
     "data": {
      "text/html": [
       "<div>\n",
       "<style scoped>\n",
       "    .dataframe tbody tr th:only-of-type {\n",
       "        vertical-align: middle;\n",
       "    }\n",
       "\n",
       "    .dataframe tbody tr th {\n",
       "        vertical-align: top;\n",
       "    }\n",
       "\n",
       "    .dataframe thead th {\n",
       "        text-align: right;\n",
       "    }\n",
       "</style>\n",
       "<table border=\"1\" class=\"dataframe\">\n",
       "  <thead>\n",
       "    <tr style=\"text-align: right;\">\n",
       "      <th></th>\n",
       "      <th>chrom</th>\n",
       "      <th>start</th>\n",
       "      <th>end</th>\n",
       "      <th>peakname</th>\n",
       "      <th>score</th>\n",
       "      <th>fc</th>\n",
       "      <th>log10p</th>\n",
       "      <th>log10q</th>\n",
       "      <th>pileup</th>\n",
       "      <th>sample_count</th>\n",
       "      <th>sense_gname</th>\n",
       "      <th>sense_gtype</th>\n",
       "      <th>strand</th>\n",
       "      <th>antisense_gname</th>\n",
       "      <th>antisense_gtype</th>\n",
       "      <th>pvalue</th>\n",
       "      <th>FDR</th>\n",
       "      <th>is_sense</th>\n",
       "    </tr>\n",
       "  </thead>\n",
       "  <tbody>\n",
       "    <tr>\n",
       "      <th>44484</th>\n",
       "      <td>chr16</td>\n",
       "      <td>223472</td>\n",
       "      <td>223709</td>\n",
       "      <td>unfragmented.filtered.rvs_peak_9279</td>\n",
       "      <td>22749</td>\n",
       "      <td>584.04822</td>\n",
       "      <td>2282.51392</td>\n",
       "      <td>2274.95264</td>\n",
       "      <td>775.0</td>\n",
       "      <td>15</td>\n",
       "      <td>.</td>\n",
       "      <td>Unannotated</td>\n",
       "      <td>-</td>\n",
       "      <td>LSM11</td>\n",
       "      <td>RBP</td>\n",
       "      <td>0.0</td>\n",
       "      <td>0.0</td>\n",
       "      <td>Antisense</td>\n",
       "    </tr>\n",
       "    <tr>\n",
       "      <th>44485</th>\n",
       "      <td>chr16</td>\n",
       "      <td>230338</td>\n",
       "      <td>230554</td>\n",
       "      <td>unfragmented.filtered.rvs_peak_9282</td>\n",
       "      <td>19190</td>\n",
       "      <td>486.79642</td>\n",
       "      <td>1926.43616</td>\n",
       "      <td>1919.02112</td>\n",
       "      <td>691.0</td>\n",
       "      <td>12</td>\n",
       "      <td>.</td>\n",
       "      <td>Unannotated</td>\n",
       "      <td>-</td>\n",
       "      <td>NCBP2</td>\n",
       "      <td>RBP</td>\n",
       "      <td>0.0</td>\n",
       "      <td>0.0</td>\n",
       "      <td>Antisense</td>\n",
       "    </tr>\n",
       "    <tr>\n",
       "      <th>44486</th>\n",
       "      <td>chr16</td>\n",
       "      <td>227336</td>\n",
       "      <td>227447</td>\n",
       "      <td>unfragmented.filtered.rvs_peak_9281</td>\n",
       "      <td>18672</td>\n",
       "      <td>487.01907</td>\n",
       "      <td>1874.54541</td>\n",
       "      <td>1867.29785</td>\n",
       "      <td>660.0</td>\n",
       "      <td>12</td>\n",
       "      <td>.</td>\n",
       "      <td>Unannotated</td>\n",
       "      <td>-</td>\n",
       "      <td>YBX3</td>\n",
       "      <td>RBP</td>\n",
       "      <td>0.0</td>\n",
       "      <td>0.0</td>\n",
       "      <td>Antisense</td>\n",
       "    </tr>\n",
       "    <tr>\n",
       "      <th>0</th>\n",
       "      <td>chr11</td>\n",
       "      <td>65273309</td>\n",
       "      <td>65273587</td>\n",
       "      <td>unfragmented.filtered.fwd_peak_5081</td>\n",
       "      <td>21145</td>\n",
       "      <td>505.96466</td>\n",
       "      <td>2121.81445</td>\n",
       "      <td>2114.55933</td>\n",
       "      <td>512.0</td>\n",
       "      <td>15</td>\n",
       "      <td>GTF2F1</td>\n",
       "      <td>RBP</td>\n",
       "      <td>+</td>\n",
       "      <td>TALAM1</td>\n",
       "      <td>Long RNA</td>\n",
       "      <td>0.0</td>\n",
       "      <td>0.0</td>\n",
       "      <td>Sense</td>\n",
       "    </tr>\n",
       "    <tr>\n",
       "      <th>1</th>\n",
       "      <td>chr16</td>\n",
       "      <td>24228399</td>\n",
       "      <td>24228506</td>\n",
       "      <td>unfragmented.filtered.fwd_peak_10480</td>\n",
       "      <td>16391</td>\n",
       "      <td>413.05743</td>\n",
       "      <td>1646.16150</td>\n",
       "      <td>1639.16919</td>\n",
       "      <td>420.0</td>\n",
       "      <td>14</td>\n",
       "      <td>GA-rich</td>\n",
       "      <td>Repeats</td>\n",
       "      <td>+</td>\n",
       "      <td>.</td>\n",
       "      <td>Unannotated</td>\n",
       "      <td>0.0</td>\n",
       "      <td>0.0</td>\n",
       "      <td>Sense</td>\n",
       "    </tr>\n",
       "  </tbody>\n",
       "</table>\n",
       "</div>"
      ],
      "text/plain": [
       "       chrom     start       end                              peakname  score  \\\n",
       "44484  chr16    223472    223709   unfragmented.filtered.rvs_peak_9279  22749   \n",
       "44485  chr16    230338    230554   unfragmented.filtered.rvs_peak_9282  19190   \n",
       "44486  chr16    227336    227447   unfragmented.filtered.rvs_peak_9281  18672   \n",
       "0      chr11  65273309  65273587   unfragmented.filtered.fwd_peak_5081  21145   \n",
       "1      chr16  24228399  24228506  unfragmented.filtered.fwd_peak_10480  16391   \n",
       "\n",
       "              fc      log10p      log10q  pileup  sample_count sense_gname  \\\n",
       "44484  584.04822  2282.51392  2274.95264   775.0            15           .   \n",
       "44485  486.79642  1926.43616  1919.02112   691.0            12           .   \n",
       "44486  487.01907  1874.54541  1867.29785   660.0            12           .   \n",
       "0      505.96466  2121.81445  2114.55933   512.0            15      GTF2F1   \n",
       "1      413.05743  1646.16150  1639.16919   420.0            14     GA-rich   \n",
       "\n",
       "       sense_gtype strand antisense_gname antisense_gtype  pvalue  FDR  \\\n",
       "44484  Unannotated      -           LSM11             RBP     0.0  0.0   \n",
       "44485  Unannotated      -           NCBP2             RBP     0.0  0.0   \n",
       "44486  Unannotated      -            YBX3             RBP     0.0  0.0   \n",
       "0              RBP      +          TALAM1        Long RNA     0.0  0.0   \n",
       "1          Repeats      +               .     Unannotated     0.0  0.0   \n",
       "\n",
       "        is_sense  \n",
       "44484  Antisense  \n",
       "44485  Antisense  \n",
       "44486  Antisense  \n",
       "0          Sense  \n",
       "1          Sense  "
      ]
     },
     "execution_count": 32,
     "metadata": {},
     "output_type": "execute_result"
    }
   ],
   "source": [
    "project_path = '/stor/work/Lambowitz/cdw2854/cfNA/tgirt_map'\n",
    "peak_path = project_path + '/bed_files/merged_bed/MACS2/annotated'\n",
    "#peak_path = project_path + '/CLAM//BED_files/peaks/annotation'\n",
    "peak_tsv = peak_path + '/unfragmented.filtered.tsv'\n",
    "print(peak_tsv)\n",
    "peak_df = load_peaks(peak_tsv)  \\\n",
    "    .assign(sense_gtype = lambda d: np.where(d.sense_gtype == \".\", 'Unannotated', d.sense_gtype))\\\n",
    "    .assign(antisense_gtype = lambda d: np.where(d.antisense_gtype == \".\", 'Unannotated', d.antisense_gtype)) \\\n",
    "    .sort_values('pileup', ascending=False)\n",
    "peak_df.head()"
   ]
  },
  {
   "cell_type": "code",
   "execution_count": 33,
   "metadata": {
    "collapsed": false,
    "scrolled": false
   },
   "outputs": [
    {
     "name": "stderr",
     "output_type": "stream",
     "text": [
      "/stor/work/Lambowitz/cdw2854/src/miniconda3/lib/python3.6/site-packages/matplotlib/axes/_base.py:3129: UserWarning: Attempted to set non-positive xlimits for log-scale axis; invalid limits will be ignored.\n",
      "  'Attempted to set non-positive xlimits for log-scale axis; '\n"
     ]
    },
    {
     "name": "stdout",
     "output_type": "stream",
     "text": [
      "Plotted:  /stor/work/Lambowitz/cdw2854/cfNA/tgirt_map/figure/peak_qc.pdf\n"
     ]
    },
    {
     "data": {
      "image/png": "[encoded data removed]",
      "text/plain": [
       "<Figure size 720x576 with 4 Axes>"
      ]
     },
     "metadata": {
      "needs_background": "light"
     },
     "output_type": "display_data"
    }
   ],
   "source": [
    "fig = plt.figure(figsize=(10,8))\n",
    "size_ax = fig.add_subplot(221)\n",
    "cov_ax = fig.add_subplot(222)\n",
    "number_ax = fig.add_subplot(224)\n",
    "dist_cov_ax = fig.add_subplot(223)\n",
    "#peak_annotation_ax = fig.add_subplot(224)\n",
    "\n",
    "plot_peak_size(peak_df, ax = size_ax)\n",
    "size_ax.legend(fontsize=15, frameon=False)\n",
    "plot_peak_coverage(peak_df, cov_ax, log=True)\n",
    "#plot_cov_density(peak_df, dist_cov_ax)\n",
    "plot_peak_cum_cov(peak_df, dist_cov_ax)\n",
    "plot_peak_number(peak_df, number_ax, ce)\n",
    "#### add hepG2\n",
    "#combined_peaks = pd.concat([peak_df.assign(annotation = 'K562'),\n",
    "#                        hep_peak_df.assign(annotation = 'K562 + HepG2')])\n",
    "#plot_peak_bar(peak_annotation_ax, combined_peaks)\n",
    "fig.tight_layout()\n",
    "\n",
    "figurename = figure_path + '/peak_qc.pdf'\n",
    "fig.savefig(figurename, bbox_inches = 'tight')\n",
    "print('Plotted: ', figurename)"
   ]
  },
  {
   "cell_type": "code",
   "execution_count": 34,
   "metadata": {
    "collapsed": false
   },
   "outputs": [
    {
     "data": {
      "text/plain": [
       "array(['Unannotated', 'RBP', 'Repeats', 'Long RNA', 'piRNA'], dtype=object)"
      ]
     },
     "execution_count": 34,
     "metadata": {},
     "output_type": "execute_result"
    }
   ],
   "source": [
    "peak_df.sense_gtype.unique()"
   ]
  },
  {
   "cell_type": "code",
   "execution_count": 35,
   "metadata": {
    "collapsed": false
   },
   "outputs": [
    {
     "name": "stdout",
     "output_type": "stream",
     "text": [
      "Saved: /stor/work/Lambowitz/cdw2854/cfNA/tgirt_map/figure/peak_figure.pdf\n"
     ]
    },
    {
     "data": {
      "image/png": "[encoded data removed]",
      "text/plain": [
       "<Figure size 720x720 with 5 Axes>"
      ]
     },
     "metadata": {},
     "output_type": "display_data"
    }
   ],
   "source": [
    "fig = plt.figure(figsize=(10,10))\n",
    "\n",
    "strand_ax = fig.add_axes([-0.1, 0.5, 0.45, 0.45])\n",
    "pie_ax = fig.add_axes([0.6, 0.5, 0.5, 0.5])\n",
    "rbp_ax = fig.add_axes([-0.1, 0, 0.35, 0.5])\n",
    "long_ax = fig.add_axes([0.38, 0, 0.35, 0.5])\n",
    "misc_ax = fig.add_axes([0.84, 0, 0.35, 0.5])\n",
    "\n",
    "top_n = 15\n",
    "plot_peak_strand(peak_df, strand_ax)\n",
    "sense_peaks = peak_df.query('is_sense == \"Sense\"')\n",
    "plot_peak_pie(sense_peaks, pie_ax, ce)\n",
    "plot_repeats_RNA(sense_peaks, misc_ax, ce, rnatype='Repeats', top_n = top_n)\n",
    "rbp_df = plot_rbp(sense_peaks, rbp_ax, ce, top_n = top_n)\n",
    "plot_long_RNA_peak(peak_df, long_ax, ce, top_n = top_n, y_val = 'log10p')\n",
    "fig.text(-0.09,0.5, 'RBP-biding sites', fontsize=18)\n",
    "fig.text(0.39,0.5, 'Long RNA', fontsize=18)\n",
    "fig.text(0.85,0.5, 'Repeats', fontsize=18)\n",
    "\n",
    "figure_name = figure_path + '/peak_figure.pdf'\n",
    "fig.savefig(figure_name, bbox_inches = 'tight')\n",
    "print('Saved:', figure_name)"
   ]
  },
  {
   "cell_type": "code",
   "execution_count": null,
   "metadata": {
    "collapsed": false
   },
   "outputs": [],
   "source": [
    "ec = ecoli_mapper()\n",
    "a = ec.ecoli_map('chr9',9029412,90294292)\n",
    "a"
   ]
  },
  {
   "cell_type": "code",
   "execution_count": null,
   "metadata": {
    "collapsed": false
   },
   "outputs": [],
   "source": [
    "ec = ecoli_mapper()\n",
    "peak_df\\\n",
    "    .query('sample_count >= %i & sense_gtype==\"Long RNA\"' %(sample_cutoff))\\\n",
    "    .nlargest(20,'log10q')\\\n",
    "    .reset_index(drop=True)\\\n",
    "    .assign(is_ecoli = lambda d: list(map(ec.ecoli_map,d.chrom, d.start, d.end))) \\\n",
    "    .assign(seq = lambda d:  list(map(fetch_seq, d.chrom, d.start, d.end, d.strand)))\\\n",
    "    .assign(mt = lambda d: d.seq.map(is_mt))"
   ]
  },
  {
   "cell_type": "markdown",
   "metadata": {},
   "source": [
    "# Intron #"
   ]
  },
  {
   "cell_type": "code",
   "execution_count": 74,
   "metadata": {
    "collapsed": false
   },
   "outputs": [
    {
     "name": "stderr",
     "output_type": "stream",
     "text": [
      "***** WARNING: File /stor/work/Lambowitz/ref/hg19/genome/independent_intron.bed has inconsistent naming convention for record:\n",
      "chr1\t135896\t137620\tENSG00000237683.5\t0\t-\n",
      "\n",
      "***** WARNING: File /stor/work/Lambowitz/ref/hg19/genome/independent_intron.bed has inconsistent naming convention for record:\n",
      "chr1\t135896\t137620\tENSG00000237683.5\t0\t-\n",
      "\n"
     ]
    },
    {
     "data": {
      "text/plain": [
       "(117, 24)"
      ]
     },
     "execution_count": 74,
     "metadata": {},
     "output_type": "execute_result"
    }
   ],
   "source": [
    "columns = peak_df.columns\n",
    "columns = np.append(columns,['intron_chrom','intron_start','intron_end',\n",
    "               'intron_gene','intron_score','intron_strand'])\n",
    "full_peak = pd.read_table(peak_path + '/unfragmented.unfiltered.tsv')\n",
    "intron_df = BedTool()\\\n",
    "    .from_dataframe(full_peak)\\\n",
    "    .intersect('/stor/work/Lambowitz/ref/hg19/genome/independent_intron.bed', \n",
    "               f= 0.8,F=0.8,wb=True)\\\n",
    "    .to_dataframe(names = columns)\n",
    "intron_df.shape"
   ]
  },
  {
   "cell_type": "code",
   "execution_count": 91,
   "metadata": {
    "collapsed": false
   },
   "outputs": [
    {
     "data": {
      "text/html": [
       "<div>\n",
       "<style scoped>\n",
       "    .dataframe tbody tr th:only-of-type {\n",
       "        vertical-align: middle;\n",
       "    }\n",
       "\n",
       "    .dataframe tbody tr th {\n",
       "        vertical-align: top;\n",
       "    }\n",
       "\n",
       "    .dataframe thead th {\n",
       "        text-align: right;\n",
       "    }\n",
       "</style>\n",
       "<table border=\"1\" class=\"dataframe\">\n",
       "  <thead>\n",
       "    <tr style=\"text-align: right;\">\n",
       "      <th></th>\n",
       "      <th>chrom</th>\n",
       "      <th>start</th>\n",
       "      <th>end</th>\n",
       "      <th>peakname</th>\n",
       "      <th>sense_gname</th>\n",
       "      <th>size</th>\n",
       "    </tr>\n",
       "  </thead>\n",
       "  <tbody>\n",
       "    <tr>\n",
       "      <th>0</th>\n",
       "      <td>chr19</td>\n",
       "      <td>11333582</td>\n",
       "      <td>11333668</td>\n",
       "      <td>unfragmented.unfiltered.rvs_peak_13246</td>\n",
       "      <td>EFTUD2</td>\n",
       "      <td>86</td>\n",
       "    </tr>\n",
       "    <tr>\n",
       "      <th>1</th>\n",
       "      <td>chr22</td>\n",
       "      <td>50356514</td>\n",
       "      <td>50356587</td>\n",
       "      <td>unfragmented.unfiltered.fwd_peak_19911</td>\n",
       "      <td>MIR6821</td>\n",
       "      <td>73</td>\n",
       "    </tr>\n",
       "    <tr>\n",
       "      <th>2</th>\n",
       "      <td>chr17</td>\n",
       "      <td>39913789</td>\n",
       "      <td>39913885</td>\n",
       "      <td>unfragmented.unfiltered.rvs_peak_11575</td>\n",
       "      <td>XPO5</td>\n",
       "      <td>96</td>\n",
       "    </tr>\n",
       "    <tr>\n",
       "      <th>3</th>\n",
       "      <td>chr16</td>\n",
       "      <td>18430618</td>\n",
       "      <td>18430707</td>\n",
       "      <td>unfragmented.unfiltered.rvs_peak_10144</td>\n",
       "      <td>RP11-1212A22.1</td>\n",
       "      <td>89</td>\n",
       "    </tr>\n",
       "    <tr>\n",
       "      <th>4</th>\n",
       "      <td>chr16</td>\n",
       "      <td>15027134</td>\n",
       "      <td>15027223</td>\n",
       "      <td>unfragmented.unfiltered.fwd_peak_10945</td>\n",
       "      <td>RP11-958N24.1</td>\n",
       "      <td>89</td>\n",
       "    </tr>\n",
       "    <tr>\n",
       "      <th>5</th>\n",
       "      <td>chr16</td>\n",
       "      <td>2149772</td>\n",
       "      <td>2149861</td>\n",
       "      <td>unfragmented.unfiltered.rvs_peak_9922</td>\n",
       "      <td>EFTUD2</td>\n",
       "      <td>89</td>\n",
       "    </tr>\n",
       "    <tr>\n",
       "      <th>6</th>\n",
       "      <td>chr15</td>\n",
       "      <td>91423005</td>\n",
       "      <td>91423096</td>\n",
       "      <td>unfragmented.unfiltered.fwd_peak_10518</td>\n",
       "      <td>XPO5</td>\n",
       "      <td>91</td>\n",
       "    </tr>\n",
       "    <tr>\n",
       "      <th>7</th>\n",
       "      <td>chr16</td>\n",
       "      <td>18470720</td>\n",
       "      <td>18470809</td>\n",
       "      <td>unfragmented.unfiltered.rvs_peak_10146</td>\n",
       "      <td>RP11-1212A22.4</td>\n",
       "      <td>89</td>\n",
       "    </tr>\n",
       "    <tr>\n",
       "      <th>8</th>\n",
       "      <td>chr16</td>\n",
       "      <td>16425621</td>\n",
       "      <td>16425710</td>\n",
       "      <td>unfragmented.unfiltered.fwd_peak_10961</td>\n",
       "      <td>PKD1P1</td>\n",
       "      <td>89</td>\n",
       "    </tr>\n",
       "    <tr>\n",
       "      <th>9</th>\n",
       "      <td>chr17</td>\n",
       "      <td>73500562</td>\n",
       "      <td>73500652</td>\n",
       "      <td>unfragmented.unfiltered.rvs_peak_12022</td>\n",
       "      <td>CASKIN2</td>\n",
       "      <td>90</td>\n",
       "    </tr>\n",
       "    <tr>\n",
       "      <th>10</th>\n",
       "      <td>chr6</td>\n",
       "      <td>31323001</td>\n",
       "      <td>31323093</td>\n",
       "      <td>unfragmented.unfiltered.rvs_peak_23462</td>\n",
       "      <td>MIR6891</td>\n",
       "      <td>92</td>\n",
       "    </tr>\n",
       "    <tr>\n",
       "      <th>11</th>\n",
       "      <td>chr17</td>\n",
       "      <td>48216682</td>\n",
       "      <td>48216793</td>\n",
       "      <td>unfragmented.unfiltered.rvs_peak_11725</td>\n",
       "      <td>PRPF8</td>\n",
       "      <td>111</td>\n",
       "    </tr>\n",
       "    <tr>\n",
       "      <th>12</th>\n",
       "      <td>chr2</td>\n",
       "      <td>97529532</td>\n",
       "      <td>97529662</td>\n",
       "      <td>unfragmented.unfiltered.rvs_peak_15065</td>\n",
       "      <td>LIN28B</td>\n",
       "      <td>130</td>\n",
       "    </tr>\n",
       "    <tr>\n",
       "      <th>13</th>\n",
       "      <td>chr3</td>\n",
       "      <td>52265012</td>\n",
       "      <td>52265142</td>\n",
       "      <td>unfragmented.unfiltered.rvs_peak_18862</td>\n",
       "      <td>SF3A3</td>\n",
       "      <td>130</td>\n",
       "    </tr>\n",
       "    <tr>\n",
       "      <th>14</th>\n",
       "      <td>chr9</td>\n",
       "      <td>130279299</td>\n",
       "      <td>130279390</td>\n",
       "      <td>unfragmented.unfiltered.rvs_peak_28652</td>\n",
       "      <td>HNRNPM</td>\n",
       "      <td>91</td>\n",
       "    </tr>\n",
       "    <tr>\n",
       "      <th>15</th>\n",
       "      <td>chr19</td>\n",
       "      <td>17316962</td>\n",
       "      <td>17317050</td>\n",
       "      <td>unfragmented.unfiltered.fwd_peak_14526</td>\n",
       "      <td>MYO9B</td>\n",
       "      <td>88</td>\n",
       "    </tr>\n",
       "    <tr>\n",
       "      <th>16</th>\n",
       "      <td>chr8</td>\n",
       "      <td>144899953</td>\n",
       "      <td>144900031</td>\n",
       "      <td>unfragmented.unfiltered.rvs_peak_27583</td>\n",
       "      <td>XRN2</td>\n",
       "      <td>78</td>\n",
       "    </tr>\n",
       "    <tr>\n",
       "      <th>17</th>\n",
       "      <td>chr11</td>\n",
       "      <td>67068619</td>\n",
       "      <td>67068752</td>\n",
       "      <td>unfragmented.unfiltered.fwd_peak_5429</td>\n",
       "      <td>PRPF8</td>\n",
       "      <td>133</td>\n",
       "    </tr>\n",
       "    <tr>\n",
       "      <th>18</th>\n",
       "      <td>chr6</td>\n",
       "      <td>31748716</td>\n",
       "      <td>31748795</td>\n",
       "      <td>unfragmented.unfiltered.rvs_peak_23478</td>\n",
       "      <td>SF3B4</td>\n",
       "      <td>79</td>\n",
       "    </tr>\n",
       "    <tr>\n",
       "      <th>19</th>\n",
       "      <td>chr1</td>\n",
       "      <td>54717368</td>\n",
       "      <td>54717466</td>\n",
       "      <td>unfragmented.unfiltered.rvs_peak_943</td>\n",
       "      <td>RBM22</td>\n",
       "      <td>98</td>\n",
       "    </tr>\n",
       "    <tr>\n",
       "      <th>20</th>\n",
       "      <td>chr19</td>\n",
       "      <td>40913939</td>\n",
       "      <td>40914064</td>\n",
       "      <td>unfragmented.unfiltered.rvs_peak_13703</td>\n",
       "      <td>PRX</td>\n",
       "      <td>125</td>\n",
       "    </tr>\n",
       "    <tr>\n",
       "      <th>21</th>\n",
       "      <td>chr11</td>\n",
       "      <td>71715146</td>\n",
       "      <td>71715270</td>\n",
       "      <td>unfragmented.unfiltered.rvs_peak_5062</td>\n",
       "      <td>NUMA1</td>\n",
       "      <td>124</td>\n",
       "    </tr>\n",
       "    <tr>\n",
       "      <th>22</th>\n",
       "      <td>chrX</td>\n",
       "      <td>47045787</td>\n",
       "      <td>47045871</td>\n",
       "      <td>unfragmented.unfiltered.fwd_peak_31846</td>\n",
       "      <td>RBM10</td>\n",
       "      <td>84</td>\n",
       "    </tr>\n",
       "    <tr>\n",
       "      <th>23</th>\n",
       "      <td>chr19</td>\n",
       "      <td>6415313</td>\n",
       "      <td>6415390</td>\n",
       "      <td>unfragmented.unfiltered.rvs_peak_13125</td>\n",
       "      <td>PRPF8</td>\n",
       "      <td>77</td>\n",
       "    </tr>\n",
       "    <tr>\n",
       "      <th>24</th>\n",
       "      <td>chr16</td>\n",
       "      <td>2025440</td>\n",
       "      <td>2025529</td>\n",
       "      <td>unfragmented.unfiltered.fwd_peak_10714</td>\n",
       "      <td>EFTUD2</td>\n",
       "      <td>89</td>\n",
       "    </tr>\n",
       "  </tbody>\n",
       "</table>\n",
       "</div>"
      ],
      "text/plain": [
       "    chrom      start        end                                peakname  \\\n",
       "0   chr19   11333582   11333668  unfragmented.unfiltered.rvs_peak_13246   \n",
       "1   chr22   50356514   50356587  unfragmented.unfiltered.fwd_peak_19911   \n",
       "2   chr17   39913789   39913885  unfragmented.unfiltered.rvs_peak_11575   \n",
       "3   chr16   18430618   18430707  unfragmented.unfiltered.rvs_peak_10144   \n",
       "4   chr16   15027134   15027223  unfragmented.unfiltered.fwd_peak_10945   \n",
       "5   chr16    2149772    2149861   unfragmented.unfiltered.rvs_peak_9922   \n",
       "6   chr15   91423005   91423096  unfragmented.unfiltered.fwd_peak_10518   \n",
       "7   chr16   18470720   18470809  unfragmented.unfiltered.rvs_peak_10146   \n",
       "8   chr16   16425621   16425710  unfragmented.unfiltered.fwd_peak_10961   \n",
       "9   chr17   73500562   73500652  unfragmented.unfiltered.rvs_peak_12022   \n",
       "10   chr6   31323001   31323093  unfragmented.unfiltered.rvs_peak_23462   \n",
       "11  chr17   48216682   48216793  unfragmented.unfiltered.rvs_peak_11725   \n",
       "12   chr2   97529532   97529662  unfragmented.unfiltered.rvs_peak_15065   \n",
       "13   chr3   52265012   52265142  unfragmented.unfiltered.rvs_peak_18862   \n",
       "14   chr9  130279299  130279390  unfragmented.unfiltered.rvs_peak_28652   \n",
       "15  chr19   17316962   17317050  unfragmented.unfiltered.fwd_peak_14526   \n",
       "16   chr8  144899953  144900031  unfragmented.unfiltered.rvs_peak_27583   \n",
       "17  chr11   67068619   67068752   unfragmented.unfiltered.fwd_peak_5429   \n",
       "18   chr6   31748716   31748795  unfragmented.unfiltered.rvs_peak_23478   \n",
       "19   chr1   54717368   54717466    unfragmented.unfiltered.rvs_peak_943   \n",
       "20  chr19   40913939   40914064  unfragmented.unfiltered.rvs_peak_13703   \n",
       "21  chr11   71715146   71715270   unfragmented.unfiltered.rvs_peak_5062   \n",
       "22   chrX   47045787   47045871  unfragmented.unfiltered.fwd_peak_31846   \n",
       "23  chr19    6415313    6415390  unfragmented.unfiltered.rvs_peak_13125   \n",
       "24  chr16    2025440    2025529  unfragmented.unfiltered.fwd_peak_10714   \n",
       "\n",
       "       sense_gname  size  \n",
       "0           EFTUD2    86  \n",
       "1          MIR6821    73  \n",
       "2             XPO5    96  \n",
       "3   RP11-1212A22.1    89  \n",
       "4    RP11-958N24.1    89  \n",
       "5           EFTUD2    89  \n",
       "6             XPO5    91  \n",
       "7   RP11-1212A22.4    89  \n",
       "8           PKD1P1    89  \n",
       "9          CASKIN2    90  \n",
       "10         MIR6891    92  \n",
       "11           PRPF8   111  \n",
       "12          LIN28B   130  \n",
       "13           SF3A3   130  \n",
       "14          HNRNPM    91  \n",
       "15           MYO9B    88  \n",
       "16            XRN2    78  \n",
       "17           PRPF8   133  \n",
       "18           SF3B4    79  \n",
       "19           RBM22    98  \n",
       "20             PRX   125  \n",
       "21           NUMA1   124  \n",
       "22           RBM10    84  \n",
       "23           PRPF8    77  \n",
       "24          EFTUD2    89  "
      ]
     },
     "execution_count": 91,
     "metadata": {},
     "output_type": "execute_result"
    }
   ],
   "source": [
    "intron_df \\\n",
    "    .query('pileup >= 5 & sample_count >= 5' )\\\n",
    "    .filter(['chrom','start','end','peakname','sense_gname'])\\\n",
    "    .drop_duplicates()\\\n",
    "    .reset_index(drop=True) \\\n",
    "    .assign(size = lambda d: d.end - d.start)"
   ]
  },
  {
   "cell_type": "code",
   "execution_count": 92,
   "metadata": {
    "collapsed": false
   },
   "outputs": [
    {
     "data": {
      "text/html": [
       "<div>\n",
       "<style scoped>\n",
       "    .dataframe tbody tr th:only-of-type {\n",
       "        vertical-align: middle;\n",
       "    }\n",
       "\n",
       "    .dataframe tbody tr th {\n",
       "        vertical-align: top;\n",
       "    }\n",
       "\n",
       "    .dataframe thead th {\n",
       "        text-align: right;\n",
       "    }\n",
       "</style>\n",
       "<table border=\"1\" class=\"dataframe\">\n",
       "  <thead>\n",
       "    <tr style=\"text-align: right;\">\n",
       "      <th></th>\n",
       "      <th>chrom</th>\n",
       "      <th>start</th>\n",
       "      <th>end</th>\n",
       "      <th>peakname</th>\n",
       "      <th>score</th>\n",
       "      <th>fc</th>\n",
       "      <th>log10p</th>\n",
       "      <th>log10q</th>\n",
       "      <th>pileup</th>\n",
       "      <th>sample_count</th>\n",
       "      <th>...</th>\n",
       "      <th>FDR</th>\n",
       "      <th>is_sense</th>\n",
       "      <th>intron_chrom</th>\n",
       "      <th>intron_start</th>\n",
       "      <th>intron_end</th>\n",
       "      <th>intron_gene</th>\n",
       "      <th>intron_score</th>\n",
       "      <th>intron_strand</th>\n",
       "      <th>seq</th>\n",
       "      <th>dinucleotide</th>\n",
       "    </tr>\n",
       "  </thead>\n",
       "  <tbody>\n",
       "    <tr>\n",
       "      <th>0</th>\n",
       "      <td>chr19</td>\n",
       "      <td>11333582</td>\n",
       "      <td>11333668</td>\n",
       "      <td>unfragmented.unfiltered.rvs_peak_13246</td>\n",
       "      <td>13842</td>\n",
       "      <td>375.16605</td>\n",
       "      <td>1390.00916</td>\n",
       "      <td>1384.28540</td>\n",
       "      <td>389.0</td>\n",
       "      <td>15</td>\n",
       "      <td>...</td>\n",
       "      <td>11333582</td>\n",
       "      <td>11333668</td>\n",
       "      <td>ENSG00000130158.9</td>\n",
       "      <td>0</td>\n",
       "      <td>-</td>\n",
       "      <td>NaN</td>\n",
       "      <td>NaN</td>\n",
       "      <td>NaN</td>\n",
       "      <td>GTAGGAGTGGGCGTGGGCAGGGTGGGCATGGCATGGATGGAAGGCG...</td>\n",
       "      <td>GT:CA</td>\n",
       "    </tr>\n",
       "    <tr>\n",
       "      <th>1</th>\n",
       "      <td>chr22</td>\n",
       "      <td>50356514</td>\n",
       "      <td>50356587</td>\n",
       "      <td>unfragmented.unfiltered.fwd_peak_19911</td>\n",
       "      <td>3828</td>\n",
       "      <td>119.13328</td>\n",
       "      <td>388.20734</td>\n",
       "      <td>382.81543</td>\n",
       "      <td>122.0</td>\n",
       "      <td>14</td>\n",
       "      <td>...</td>\n",
       "      <td>50356514</td>\n",
       "      <td>50356587</td>\n",
       "      <td>ENSG00000198355.4</td>\n",
       "      <td>0</td>\n",
       "      <td>+</td>\n",
       "      <td>NaN</td>\n",
       "      <td>NaN</td>\n",
       "      <td>NaN</td>\n",
       "      <td>TGCGTGGTGGCTCGAGGCGGGGGTGGGGGCCTCGCCCTGCTTGGGC...</td>\n",
       "      <td>TG:AG</td>\n",
       "    </tr>\n",
       "    <tr>\n",
       "      <th>2</th>\n",
       "      <td>chr17</td>\n",
       "      <td>39913789</td>\n",
       "      <td>39913885</td>\n",
       "      <td>unfragmented.unfiltered.rvs_peak_11575</td>\n",
       "      <td>1262</td>\n",
       "      <td>45.64637</td>\n",
       "      <td>131.23683</td>\n",
       "      <td>126.22630</td>\n",
       "      <td>46.0</td>\n",
       "      <td>15</td>\n",
       "      <td>...</td>\n",
       "      <td>39913789</td>\n",
       "      <td>39913885</td>\n",
       "      <td>ENSG00000173801.12</td>\n",
       "      <td>0</td>\n",
       "      <td>-</td>\n",
       "      <td>NaN</td>\n",
       "      <td>NaN</td>\n",
       "      <td>NaN</td>\n",
       "      <td>GTGAGCTGGGGGAGGGCAGGAGGCTGGGTCCCACTCCCCCAGCCAC...</td>\n",
       "      <td>GT:CA</td>\n",
       "    </tr>\n",
       "    <tr>\n",
       "      <th>3</th>\n",
       "      <td>chr16</td>\n",
       "      <td>18430618</td>\n",
       "      <td>18430707</td>\n",
       "      <td>unfragmented.unfiltered.rvs_peak_10144</td>\n",
       "      <td>1092</td>\n",
       "      <td>42.15805</td>\n",
       "      <td>114.26573</td>\n",
       "      <td>109.28957</td>\n",
       "      <td>43.0</td>\n",
       "      <td>14</td>\n",
       "      <td>...</td>\n",
       "      <td>18430618</td>\n",
       "      <td>18430707</td>\n",
       "      <td>ENSG00000214940.4</td>\n",
       "      <td>0</td>\n",
       "      <td>-</td>\n",
       "      <td>NaN</td>\n",
       "      <td>NaN</td>\n",
       "      <td>NaN</td>\n",
       "      <td>GTGGGTGCCGTAGGGGTCGGGACAGCCTCTTCCTGCCCAGCCCTTC...</td>\n",
       "      <td>GT:CA</td>\n",
       "    </tr>\n",
       "    <tr>\n",
       "      <th>4</th>\n",
       "      <td>chr16</td>\n",
       "      <td>15027134</td>\n",
       "      <td>15027223</td>\n",
       "      <td>unfragmented.unfiltered.fwd_peak_10945</td>\n",
       "      <td>1018</td>\n",
       "      <td>40.75145</td>\n",
       "      <td>106.90894</td>\n",
       "      <td>101.89374</td>\n",
       "      <td>42.0</td>\n",
       "      <td>13</td>\n",
       "      <td>...</td>\n",
       "      <td>15027134</td>\n",
       "      <td>15027223</td>\n",
       "      <td>ENSG00000183426.11</td>\n",
       "      <td>0</td>\n",
       "      <td>+</td>\n",
       "      <td>NaN</td>\n",
       "      <td>NaN</td>\n",
       "      <td>NaN</td>\n",
       "      <td>TGGGTGCCGTAGGGGTCGGGACAGCCTCTTCCTGCCCAGCCCTTCC...</td>\n",
       "      <td>TG:AG</td>\n",
       "    </tr>\n",
       "  </tbody>\n",
       "</table>\n",
       "<p>5 rows × 26 columns</p>\n",
       "</div>"
      ],
      "text/plain": [
       "   chrom     start       end                                peakname  score  \\\n",
       "0  chr19  11333582  11333668  unfragmented.unfiltered.rvs_peak_13246  13842   \n",
       "1  chr22  50356514  50356587  unfragmented.unfiltered.fwd_peak_19911   3828   \n",
       "2  chr17  39913789  39913885  unfragmented.unfiltered.rvs_peak_11575   1262   \n",
       "3  chr16  18430618  18430707  unfragmented.unfiltered.rvs_peak_10144   1092   \n",
       "4  chr16  15027134  15027223  unfragmented.unfiltered.fwd_peak_10945   1018   \n",
       "\n",
       "          fc      log10p      log10q  pileup  sample_count      ...       \\\n",
       "0  375.16605  1390.00916  1384.28540   389.0            15      ...        \n",
       "1  119.13328   388.20734   382.81543   122.0            14      ...        \n",
       "2   45.64637   131.23683   126.22630    46.0            15      ...        \n",
       "3   42.15805   114.26573   109.28957    43.0            14      ...        \n",
       "4   40.75145   106.90894   101.89374    42.0            13      ...        \n",
       "\n",
       "        FDR  is_sense        intron_chrom intron_start intron_end intron_gene  \\\n",
       "0  11333582  11333668   ENSG00000130158.9            0          -         NaN   \n",
       "1  50356514  50356587   ENSG00000198355.4            0          +         NaN   \n",
       "2  39913789  39913885  ENSG00000173801.12            0          -         NaN   \n",
       "3  18430618  18430707   ENSG00000214940.4            0          -         NaN   \n",
       "4  15027134  15027223  ENSG00000183426.11            0          +         NaN   \n",
       "\n",
       "   intron_score  intron_strand  \\\n",
       "0           NaN            NaN   \n",
       "1           NaN            NaN   \n",
       "2           NaN            NaN   \n",
       "3           NaN            NaN   \n",
       "4           NaN            NaN   \n",
       "\n",
       "                                                 seq  dinucleotide  \n",
       "0  GTAGGAGTGGGCGTGGGCAGGGTGGGCATGGCATGGATGGAAGGCG...         GT:CA  \n",
       "1  TGCGTGGTGGCTCGAGGCGGGGGTGGGGGCCTCGCCCTGCTTGGGC...         TG:AG  \n",
       "2  GTGAGCTGGGGGAGGGCAGGAGGCTGGGTCCCACTCCCCCAGCCAC...         GT:CA  \n",
       "3  GTGGGTGCCGTAGGGGTCGGGACAGCCTCTTCCTGCCCAGCCCTTC...         GT:CA  \n",
       "4  TGGGTGCCGTAGGGGTCGGGACAGCCTCTTCCTGCCCAGCCCTTCC...         TG:AG  \n",
       "\n",
       "[5 rows x 26 columns]"
      ]
     },
     "execution_count": 92,
     "metadata": {},
     "output_type": "execute_result"
    }
   ],
   "source": [
    "ss_dinucleotide = defaultdict(int)\n",
    "ss_dinucleotide_seq = defaultdict(list)\n",
    "seqs = []       \n",
    "\n",
    "intron_df = intron_df.query('pileup >=3') \\\n",
    "    .assign(seq = lambda d: list(map(fetch_seq, d.chrom, d.start, d.end, d.strand))) \\\n",
    "    .assign(dinucleotide = lambda d: d.seq.str.slice(0,2) + ':' + (d.seq + 'N').str.slice(-3,-1))\n",
    "intron_df.head()"
   ]
  },
  {
   "cell_type": "code",
   "execution_count": 93,
   "metadata": {
    "collapsed": false
   },
   "outputs": [
    {
     "name": "stdout",
     "output_type": "stream",
     "text": [
      "Written:  /stor/work/Lambowitz/cdw2854/cfNA/tgirt_map/figure/intron_table.csv\n"
     ]
    }
   ],
   "source": [
    "tablename = figure_path + '/intron_table.csv'\n",
    "intron_df \\\n",
    "    .filter(regex='chrom|start|end|log10|pileup|intron_gene|seq') \\\n",
    "    .sort_values('pileup', ascending=False)\\\n",
    "    .to_csv(tablename, index=False)\n",
    "print('Written: ', tablename)"
   ]
  },
  {
   "cell_type": "code",
   "execution_count": 98,
   "metadata": {
    "collapsed": false
   },
   "outputs": [],
   "source": [
    "seqfile = peak_path  + '/unfragmented.intron.fa'\n",
    "with open(seqfile, 'w')  as fa:\n",
    "    for i, row in intron_df\\\n",
    "            .query('pileup >= 5 & sample_count >= 5' )\\\n",
    "            .filter(['seq'])\\\n",
    "            .drop_duplicates()\\\n",
    "            .iterrows():\n",
    "        print('>%s\\n%s' %('peak'+str(i), row['seq']), file = fa)"
   ]
  },
  {
   "cell_type": "code",
   "execution_count": null,
   "metadata": {
    "collapsed": false
   },
   "outputs": [],
   "source": [
    "intron_df.query('pileup >= %i' %pileup_cutoff) \\\n",
    "    .assign(length = lambda d: d.end - d.start) \\\n",
    "    .describe()"
   ]
  },
  {
   "cell_type": "code",
   "execution_count": null,
   "metadata": {
    "collapsed": false
   },
   "outputs": [],
   "source": [
    "sns.jointplot(peak_df.pileup.transform(np.log),\n",
    "            peak_df.sample_count)"
   ]
  },
  {
   "cell_type": "code",
   "execution_count": null,
   "metadata": {
    "collapsed": false
   },
   "outputs": [],
   "source": [
    "','.join(rbp_df.head(15).index)"
   ]
  },
  {
   "cell_type": "code",
   "execution_count": null,
   "metadata": {
    "collapsed": false
   },
   "outputs": [],
   "source": [
    "peak_df\\\n",
    "    .query('pileup >= %i' %pileup_cutoff)\\\n",
    "    .to_csv(peak_path + '/peaks.tsv',sep='\\t', index=False)"
   ]
  },
  {
   "cell_type": "code",
   "execution_count": null,
   "metadata": {
    "collapsed": false
   },
   "outputs": [],
   "source": [
    "ax = plt.subplot()\n",
    "pdf = peak_df\\\n",
    "    .pipe(lambda d: d[~d.sense_gtype.str.contains('tRF')])\\\n",
    "    .query('pileup >= %i' %pileup_cutoff)\\\n",
    "    .assign(peak_width = lambda d: d.end-d.start)\\\n",
    "    .assign(log_pile = lambda d: d.pileup.transform(np.log10))\n",
    "\n",
    "pdf.plot.scatter('peak_width','pileup', \n",
    "                  color = ce.transform(pdf.sense_gtype), ax = ax,\n",
    "                 alpha = 0.2)\n",
    "ax.set_xscale('log')\n",
    "ax.set_yscale('log')\n",
    "ce.show_legend(ax = ax, bbox_to_anchor =(1,1), frameon=False)\n",
    "sns.despine()"
   ]
  },
  {
   "cell_type": "code",
   "execution_count": null,
   "metadata": {
    "collapsed": false
   },
   "outputs": [],
   "source": [
    "ax = plt.subplot()\n",
    "\n",
    "for gt, gd in peak_df\\\n",
    "            .query('pileup >= %i' %(pileup_cutoff))\\\n",
    "            .assign(peak_width = lambda d: (d.end-d.start))\\\n",
    "            .groupby('sense_gtype'):\n",
    "    alpha = 1 if gt in [\"Long RNA\"] else 1\n",
    "    sns.distplot(gd.peak_width, ax = ax, kde_kws={'alpha':alpha},\n",
    "                label = gt, color = ce.encoder[gt],\n",
    "                hist=False)\n",
    "lgd = ax.legend(frameon=False)\n",
    "for lh in lgd.legendHandles: \n",
    "    lh.set_alpha(1)\n",
    "ax.set_ylabel('Density')\n",
    "ax.set_xlabel('Peak width ($log_{10}$ nt)')\n",
    "\n",
    "x_range = np.arange(1,500, 50)\n",
    "ax.set_xlim(x_range.min(), x_range.max())\n",
    "ax.set_xticks(x_range)\n",
    "for xt, x in zip(ax.get_xticklabels(), x_range):\n",
    "    xt.set_text(r'$10^{%s}$' %(x))"
   ]
  },
  {
   "cell_type": "code",
   "execution_count": null,
   "metadata": {
    "collapsed": false
   },
   "outputs": [],
   "source": [
    "lR_peak = peak_df[peak_df.sense_gtype.str.contains('Long RNA')] \\\n",
    "    .sort_values('log10p', ascending=False) \n",
    "lR_peak.head(20)"
   ]
  },
  {
   "cell_type": "code",
   "execution_count": null,
   "metadata": {
    "collapsed": false
   },
   "outputs": [],
   "source": [
    "%load_ext autoreload\n",
    "%autoreload 2\n",
    "import mygene as mg\n",
    "import gseapy as gsp\n",
    "mgi = mg.MyGeneInfo()\n",
    "\n",
    "glist = intron_df.query('pileup >= %i' %pileup_cutoff) \\\n",
    "    .filter(['pileup','gid']) \\\n",
    "    .assign(ensg = lambda d: d.gid.str.extract('(ENSG[0-9]+)')) \\\n",
    "    .assign(symbol = lambda d: list(map(lambda x: x['symbol'], mgi.getgenes(d.ensg))))"
   ]
  },
  {
   "cell_type": "code",
   "execution_count": null,
   "metadata": {
    "collapsed": false
   },
   "outputs": [],
   "source": [
    "glist"
   ]
  },
  {
   "cell_type": "code",
   "execution_count": null,
   "metadata": {
    "collapsed": false
   },
   "outputs": [],
   "source": [
    "%tb\n",
    "rnk = glist\\\n",
    "    .filter(['symbol','pileup']) \\\n",
    "    .pipe(lambda d: d[~d.symbol.str.contains('^AC')])\\\n",
    "    .rename(columns={'symbol':'gene_name'})\n",
    "#res = gsp.prerank(rnk = rnk, gene_sets='/stor/work/Lambowitz/ref/gene_sets/c2.all.v6.2.symbols.gmt')\n",
    "print('\\n'.join(rnk.gene_name.tolist()))\n",
    "\n"
   ]
  },
  {
   "cell_type": "code",
   "execution_count": null,
   "metadata": {
    "collapsed": false
   },
   "outputs": [],
   "source": [
    "peaks\\\n",
    "    .query('merged_type == \"miRNA\"')\\\n",
    "    .filter(regex='log10p|picked_RNA_sense')\\\n",
    "    .set_index('picked_RNA_sense')\\\n",
    "    .nlargest(10, 'log10p')\\\n",
    "    .plot.bar() "
   ]
  },
  {
   "cell_type": "code",
   "execution_count": null,
   "metadata": {
    "collapsed": false
   },
   "outputs": [],
   "source": [
    "peaks.pipe(lambda d: d[d.picked_RNA_sense.str.contains(\"CGGA\")])"
   ]
  },
  {
   "cell_type": "code",
   "execution_count": null,
   "metadata": {
    "collapsed": false
   },
   "outputs": [],
   "source": [
    "peaks\\\n",
    "    .assign(anti_merged_type = lambda d: d.picked_type_anti.map(merge_type)) \\\n",
    "    .query('merged_type == \"Repeats\" | (anti_merged_type == \"Repeats\" & is_sense != \"Sense\")')"
   ]
  },
  {
   "cell_type": "code",
   "execution_count": null,
   "metadata": {
    "collapsed": false
   },
   "outputs": [],
   "source": [
    "peaks\\\n",
    "    .query('merged_type==\"RBP\"')\\\n",
    "    .pipe(lambda d: d[~d.gtype.str.contains(lrna_regex)])"
   ]
  },
  {
   "cell_type": "code",
   "execution_count": null,
   "metadata": {
    "collapsed": false
   },
   "outputs": [],
   "source": [
    "import gseapy as gsp"
   ]
  },
  {
   "cell_type": "code",
   "execution_count": null,
   "metadata": {
    "collapsed": false
   },
   "outputs": [],
   "source": [
    "res = gsp.prerank(rnk = rbp_df.sort_values(0,ascending=False),\n",
    "           gene_sets = 'KEGG_2016')"
   ]
  },
  {
   "cell_type": "code",
   "execution_count": 85,
   "metadata": {
    "collapsed": false
   },
   "outputs": [],
   "source": [
    "    rbp_count = defaultdict(int)\n",
    "    for i, row in peaks.query('pileup >= %i & sample_count >= %i' %(pileup_cutoff, sample_cutoff)).iterrows():\n",
    "        added = set()\n",
    "        for btype, bp in zip(row['sense_gtype'].split(','),\n",
    "                        row['sense_gname'].split(',')):\n",
    "            if btype == \"RBP\":\n",
    "                if bp not in added:\n",
    "                    rbp_count[bp] += 1\n",
    "                    added.add(bp)\n",
    "\n",
    "    rbp_df = pd.DataFrame\\\n",
    "        .from_dict(rbp_count, orient='index')\\\n",
    "        .sort_values(0, ascending=False)"
   ]
  },
  {
   "cell_type": "code",
   "execution_count": 90,
   "metadata": {
    "collapsed": false
   },
   "outputs": [
    {
     "data": {
      "text/plain": [
       "'DDX3X,ZNF622,DDX55,DDX6,UPF1,EFTUD2,DHX30,SND1,YBX3,PRPF8,RBM15,FAM120A,UCHL5,METAP2,TRA2A'"
      ]
     },
     "execution_count": 90,
     "metadata": {},
     "output_type": "execute_result"
    }
   ],
   "source": [
    "','.join(rbp_df.head(15).index)"
   ]
  },
  {
   "cell_type": "code",
   "execution_count": null,
   "metadata": {
    "collapsed": true
   },
   "outputs": [],
   "source": []
  }
 ],
 "metadata": {
  "kernelspec": {
   "display_name": "miniconda3",
   "language": "python",
   "name": "miniconda3"
  },
  "language_info": {
   "codemirror_mode": {
    "name": "ipython",
    "version": 3
   },
   "file_extension": ".py",
   "mimetype": "text/x-python",
   "name": "python",
   "nbconvert_exporter": "python",
   "pygments_lexer": "ipython3",
   "version": "3.6.8"
  }
 },
 "nbformat": 4,
 "nbformat_minor": 2
}
