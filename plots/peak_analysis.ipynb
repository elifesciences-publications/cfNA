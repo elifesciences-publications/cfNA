{
 "cells": [
  {
   "cell_type": "code",
   "execution_count": 114,
   "metadata": {
    "collapsed": false
   },
   "outputs": [
    {
     "name": "stdout",
     "output_type": "stream",
     "text": [
      "The autoreload extension is already loaded. To reload it, use:\n",
      "  %reload_ext autoreload\n"
     ]
    }
   ],
   "source": [
    "%matplotlib inline\n",
    "%load_ext autoreload\n",
    "%autoreload 2\n",
    "\n",
    "import pandas as pd\n",
    "import numpy as np\n",
    "import matplotlib.pyplot as plt\n",
    "import matplotlib.lines as mlines\n",
    "import seaborn as sns\n",
    "from sequencing_tools.viz_tools import okabeito_palette, color_encoder, simpsons_palette\n",
    "from sequencing_tools.stats_tools import p_adjust\n",
    "from scipy.special import ndtr\n",
    "from collections import defaultdict\n",
    "from sequencing_tools.fastq_tools import reverse_complement\n",
    "from sequencing_tools.bam_tools import get_strand\n",
    "import RNA\n",
    "from multiprocessing import Pool\n",
    "import random\n",
    "import pysam\n",
    "import glob\n",
    "import re\n",
    "import genomeview\n",
    "from pybedtools import BedTool\n",
    "import mappy as mp\n",
    "from plotting_utils import figure_path\n",
    "from matplotlib import rcParams\n",
    "from peak_utils import *\n",
    "\n",
    "plt.rc('axes', labelsize=15)\n",
    "plt.rc('xtick', labelsize = 15)\n",
    "plt.rc('ytick', labelsize = 15)\n",
    "rcParams['font.family'] = 'sans-serif'\n",
    "rcParams['font.sans-serif'] = ['Arial']"
   ]
  },
  {
   "cell_type": "code",
   "execution_count": 119,
   "metadata": {
    "collapsed": false
   },
   "outputs": [
    {
     "name": "stdout",
     "output_type": "stream",
     "text": [
      "/stor/work/Lambowitz/cdw2854/cfNA/tgirt_map/bed_files/merged_bed/MACS2/annotated/unfragmented.tsv\n"
     ]
    },
    {
     "data": {
      "text/html": [
       "<div>\n",
       "<style scoped>\n",
       "    .dataframe tbody tr th:only-of-type {\n",
       "        vertical-align: middle;\n",
       "    }\n",
       "\n",
       "    .dataframe tbody tr th {\n",
       "        vertical-align: top;\n",
       "    }\n",
       "\n",
       "    .dataframe thead th {\n",
       "        text-align: right;\n",
       "    }\n",
       "</style>\n",
       "<table border=\"1\" class=\"dataframe\">\n",
       "  <thead>\n",
       "    <tr style=\"text-align: right;\">\n",
       "      <th></th>\n",
       "      <th>chrom</th>\n",
       "      <th>start</th>\n",
       "      <th>end</th>\n",
       "      <th>peakname</th>\n",
       "      <th>score</th>\n",
       "      <th>fc</th>\n",
       "      <th>log10p</th>\n",
       "      <th>log10q</th>\n",
       "      <th>pileup</th>\n",
       "      <th>sample_count</th>\n",
       "      <th>sense_gname</th>\n",
       "      <th>sense_gtype</th>\n",
       "      <th>strand</th>\n",
       "      <th>antisense_gname</th>\n",
       "      <th>antisense_gtype</th>\n",
       "      <th>pvalue</th>\n",
       "      <th>FDR</th>\n",
       "      <th>is_sense</th>\n",
       "    </tr>\n",
       "  </thead>\n",
       "  <tbody>\n",
       "    <tr>\n",
       "      <th>0</th>\n",
       "      <td>chr1</td>\n",
       "      <td>28975111</td>\n",
       "      <td>28975251</td>\n",
       "      <td>unfragmented.fwd_peak_575</td>\n",
       "      <td>406557</td>\n",
       "      <td>7776.06055</td>\n",
       "      <td>40663.78516</td>\n",
       "      <td>40655.76562</td>\n",
       "      <td>7950.0</td>\n",
       "      <td>13</td>\n",
       "      <td>RNU11</td>\n",
       "      <td>snRNA</td>\n",
       "      <td>+</td>\n",
       "      <td>.</td>\n",
       "      <td>Unannotated</td>\n",
       "      <td>0.0</td>\n",
       "      <td>0.0</td>\n",
       "      <td>Sense</td>\n",
       "    </tr>\n",
       "    <tr>\n",
       "      <th>1</th>\n",
       "      <td>chr6</td>\n",
       "      <td>95156834</td>\n",
       "      <td>95156909</td>\n",
       "      <td>unfragmented.rvs_peak_21883</td>\n",
       "      <td>226391</td>\n",
       "      <td>4793.16650</td>\n",
       "      <td>22647.25391</td>\n",
       "      <td>22639.17383</td>\n",
       "      <td>5383.0</td>\n",
       "      <td>13</td>\n",
       "      <td>MTPAP</td>\n",
       "      <td>RBP</td>\n",
       "      <td>-</td>\n",
       "      <td>.</td>\n",
       "      <td>Unannotated</td>\n",
       "      <td>0.0</td>\n",
       "      <td>0.0</td>\n",
       "      <td>Sense</td>\n",
       "    </tr>\n",
       "    <tr>\n",
       "      <th>2</th>\n",
       "      <td>chr1</td>\n",
       "      <td>17067009</td>\n",
       "      <td>17067186</td>\n",
       "      <td>unfragmented.fwd_peak_340</td>\n",
       "      <td>115434</td>\n",
       "      <td>2533.84814</td>\n",
       "      <td>11550.93359</td>\n",
       "      <td>11543.46289</td>\n",
       "      <td>2635.0</td>\n",
       "      <td>13</td>\n",
       "      <td>RNU1-4</td>\n",
       "      <td>snRNA</td>\n",
       "      <td>+</td>\n",
       "      <td>RP5-1182A14.7</td>\n",
       "      <td>Long RNA</td>\n",
       "      <td>0.0</td>\n",
       "      <td>0.0</td>\n",
       "      <td>Sense</td>\n",
       "    </tr>\n",
       "    <tr>\n",
       "      <th>3</th>\n",
       "      <td>chr1</td>\n",
       "      <td>149223883</td>\n",
       "      <td>149224222</td>\n",
       "      <td>unfragmented.rvs_peak_1454</td>\n",
       "      <td>111122</td>\n",
       "      <td>2457.10229</td>\n",
       "      <td>11119.83008</td>\n",
       "      <td>11112.27832</td>\n",
       "      <td>2563.0</td>\n",
       "      <td>13</td>\n",
       "      <td>RNVU1-18</td>\n",
       "      <td>snRNA</td>\n",
       "      <td>-</td>\n",
       "      <td>.</td>\n",
       "      <td>Unannotated</td>\n",
       "      <td>0.0</td>\n",
       "      <td>0.0</td>\n",
       "      <td>Sense</td>\n",
       "    </tr>\n",
       "    <tr>\n",
       "      <th>4</th>\n",
       "      <td>chr1</td>\n",
       "      <td>17222473</td>\n",
       "      <td>17222648</td>\n",
       "      <td>unfragmented.fwd_peak_344</td>\n",
       "      <td>107924</td>\n",
       "      <td>2320.96216</td>\n",
       "      <td>10799.73438</td>\n",
       "      <td>10792.40625</td>\n",
       "      <td>2379.0</td>\n",
       "      <td>13</td>\n",
       "      <td>RNU1-2</td>\n",
       "      <td>snRNA</td>\n",
       "      <td>+</td>\n",
       "      <td>.</td>\n",
       "      <td>Unannotated</td>\n",
       "      <td>0.0</td>\n",
       "      <td>0.0</td>\n",
       "      <td>Sense</td>\n",
       "    </tr>\n",
       "  </tbody>\n",
       "</table>\n",
       "</div>"
      ],
      "text/plain": [
       "  chrom      start        end                     peakname   score  \\\n",
       "0  chr1   28975111   28975251    unfragmented.fwd_peak_575  406557   \n",
       "1  chr6   95156834   95156909  unfragmented.rvs_peak_21883  226391   \n",
       "2  chr1   17067009   17067186    unfragmented.fwd_peak_340  115434   \n",
       "3  chr1  149223883  149224222   unfragmented.rvs_peak_1454  111122   \n",
       "4  chr1   17222473   17222648    unfragmented.fwd_peak_344  107924   \n",
       "\n",
       "           fc       log10p       log10q  pileup  sample_count sense_gname  \\\n",
       "0  7776.06055  40663.78516  40655.76562  7950.0            13       RNU11   \n",
       "1  4793.16650  22647.25391  22639.17383  5383.0            13       MTPAP   \n",
       "2  2533.84814  11550.93359  11543.46289  2635.0            13      RNU1-4   \n",
       "3  2457.10229  11119.83008  11112.27832  2563.0            13    RNVU1-18   \n",
       "4  2320.96216  10799.73438  10792.40625  2379.0            13      RNU1-2   \n",
       "\n",
       "  sense_gtype strand antisense_gname antisense_gtype  pvalue  FDR is_sense  \n",
       "0       snRNA      +               .     Unannotated     0.0  0.0    Sense  \n",
       "1         RBP      -               .     Unannotated     0.0  0.0    Sense  \n",
       "2       snRNA      +   RP5-1182A14.7        Long RNA     0.0  0.0    Sense  \n",
       "3       snRNA      -               .     Unannotated     0.0  0.0    Sense  \n",
       "4       snRNA      +               .     Unannotated     0.0  0.0    Sense  "
      ]
     },
     "execution_count": 119,
     "metadata": {},
     "output_type": "execute_result"
    }
   ],
   "source": [
    "project_path = '/stor/work/Lambowitz/cdw2854/cfNA/tgirt_map'\n",
    "peak_path = project_path + '/bed_files/merged_bed/MACS2/annotated'\n",
    "#peak_path = project_path + '/CLAM//BED_files/peaks/annotation'\n",
    "peak_tsv = peak_path + '/unfragmented.tsv'\n",
    "print(peak_tsv)\n",
    "peak_df = load_peaks(peak_tsv)  \\\n",
    "    .assign(sense_gtype = lambda d: np.where(d.sense_gtype == \".\", 'Unannotated', d.sense_gtype))\\\n",
    "    .assign(antisense_gtype = lambda d: np.where(d.antisense_gtype == \".\", 'Unannotated', d.antisense_gtype)) \\\n",
    "    .sort_values('pileup', ascending=False)\n",
    "peak_df.head()"
   ]
  },
  {
   "cell_type": "code",
   "execution_count": null,
   "metadata": {
    "collapsed": false
   },
   "outputs": [],
   "source": [
    "ce = color_encoder()\n",
    "colors = simpsons_palette()\n",
    "#colors.extend(['black','white'])\n",
    "random.seed(12)\n",
    "colors = random.sample(colors, k = len(peak_df.sense_gtype.unique()))\n",
    "ce.fit(peak_df.sense_gtype, colors)\n",
    "ce.encoder = {'Long RNA': '#370335',\n",
    "     'RBP': '#91331F',\n",
    "     'Repeats': '#197EC0',\n",
    "     'Unannotated': '#46732E',\n",
    "     'miRNA': '#FD7446',\n",
    "     'misc RNA': '#FD8CC1',\n",
    "     'tRF3':'black',\n",
    "     'tRF5':'black',\n",
    "     'piRNA': '#D5E4A2',\n",
    "     'snRNA': '#8A9197',\n",
    "     'snoRNA': '#FED439'}"
   ]
  },
  {
   "cell_type": "markdown",
   "metadata": {
    "collapsed": false
   },
   "source": [
    "peak_df\\\n",
    "        .assign(peak_count = 1)\\\n",
    "        .groupby(['sense_gtype', 'pileup'], as_index=False)\\\n",
    "        .agg({'peak_count':'sum'}) \\\n",
    "        .sort_values('pileup')\\\n",
    "        .reset_index() \\\n",
    "        .assign(cum_count = lambda d: d.groupby('sense_gtype').peak_count.cumsum())\\\n",
    "        .assign(log_pile = lambda d: d.pileup.transform(np.log10))\\\n",
    "        .query('sense_gtype == \"Long RNA\"')"
   ]
  },
  {
   "cell_type": "code",
   "execution_count": null,
   "metadata": {
    "collapsed": false
   },
   "outputs": [],
   "source": [
    "peak_df\\\n",
    "    .query('pileup >= %i & sample_count > %i' %(pileup_cutoff, sample_cutoff))\\\n",
    "    .query('sense_gtype == \"Long RNA\"')\\\n",
    "    .sort_values('pileup', ascending=False)\\\n",
    "    .assign(seq = lambda d: list(map(fetch_seq, d.chrom, d.start, d.end, d.strand)))\\\n",
    "    .assign(is_mt = lambda d: d.seq.map(is_mt))"
   ]
  },
  {
   "cell_type": "code",
   "execution_count": null,
   "metadata": {
    "collapsed": false
   },
   "outputs": [],
   "source": [
    "peak_df.sense_gtype.unique()"
   ]
  },
  {
   "cell_type": "code",
   "execution_count": null,
   "metadata": {
    "collapsed": false
   },
   "outputs": [],
   "source": [
    "fig = plt.figure(figsize=(10,10))\n",
    "\n",
    "strand_ax = fig.add_axes([-0.1, 0.5, 0.45, 0.45])\n",
    "pie_ax = fig.add_axes([0.6, 0.5, 0.5, 0.5])\n",
    "rbp_ax = fig.add_axes([-0.1, 0, 0.35, 0.5])\n",
    "long_ax = fig.add_axes([0.38, 0, 0.35, 0.5])\n",
    "misc_ax = fig.add_axes([0.84, 0, 0.35, 0.5])\n",
    "\n",
    "top_n = 15\n",
    "plot_peak_strand(peak_df, strand_ax)\n",
    "sense_peaks = peak_df.query('is_sense == \"Sense\"')\n",
    "plot_peak_pie(sense_peaks, pie_ax, ce)\n",
    "plot_RNA(sense_peaks, misc_ax, ce, rnatype='Repeats', top_n = top_n)\n",
    "rbp_df = plot_rbp(sense_peaks, rbp_ax, ce, top_n = top_n)\n",
    "plot_long_RNA_peak(peak_df, long_ax, ce, top_n = top_n, y_val = 'log10p')\n",
    "l1 = mlines.Line2D([0.3,0.85],[0.9,0.955], color= 'black',\n",
    "                   figure = fig,  transform=fig.transFigure)\n",
    "l2 = mlines.Line2D([0.3,0.7],[0.58,0.51], color= 'black',\n",
    "                   figure = fig,  transform=fig.transFigure)\n",
    "fig.lines.extend([l1, l2])\n",
    "figure_name = figure_path + '/peak_figure.pdf'\n",
    "fig.savefig(figure_name, bbox_inches = 'tight')\n",
    "print('Saved:', figure_name)"
   ]
  },
  {
   "cell_type": "code",
   "execution_count": 73,
   "metadata": {
    "collapsed": false
   },
   "outputs": [
    {
     "data": {
      "text/html": [
       "<div>\n",
       "<style scoped>\n",
       "    .dataframe tbody tr th:only-of-type {\n",
       "        vertical-align: middle;\n",
       "    }\n",
       "\n",
       "    .dataframe tbody tr th {\n",
       "        vertical-align: top;\n",
       "    }\n",
       "\n",
       "    .dataframe thead th {\n",
       "        text-align: right;\n",
       "    }\n",
       "</style>\n",
       "<table border=\"1\" class=\"dataframe\">\n",
       "  <thead>\n",
       "    <tr style=\"text-align: right;\">\n",
       "      <th></th>\n",
       "      <th>chrom</th>\n",
       "      <th>start</th>\n",
       "      <th>end</th>\n",
       "      <th>peakname</th>\n",
       "      <th>score</th>\n",
       "      <th>fc</th>\n",
       "      <th>log10p</th>\n",
       "      <th>log10q</th>\n",
       "      <th>pileup</th>\n",
       "      <th>sample_count</th>\n",
       "      <th>...</th>\n",
       "      <th>antisense_gname</th>\n",
       "      <th>antisense_gtype</th>\n",
       "      <th>pvalue</th>\n",
       "      <th>FDR</th>\n",
       "      <th>is_sense</th>\n",
       "      <th>seq</th>\n",
       "      <th>mt</th>\n",
       "      <th>shape</th>\n",
       "      <th>energy</th>\n",
       "      <th>width</th>\n",
       "    </tr>\n",
       "  </thead>\n",
       "  <tbody>\n",
       "    <tr>\n",
       "      <th>12</th>\n",
       "      <td>chr9</td>\n",
       "      <td>35657742</td>\n",
       "      <td>35658018</td>\n",
       "      <td>unfragmented.rvs_peak_21459</td>\n",
       "      <td>45607</td>\n",
       "      <td>1078.74915</td>\n",
       "      <td>4567.49023</td>\n",
       "      <td>4560.78662</td>\n",
       "      <td>1113.0</td>\n",
       "      <td>13</td>\n",
       "      <td>...</td>\n",
       "      <td>.</td>\n",
       "      <td>Unannotated</td>\n",
       "      <td>0.000000e+00</td>\n",
       "      <td>0.000000e+00</td>\n",
       "      <td>Sense</td>\n",
       "      <td>CGTGGTTCGTGCTGAAGGCCTGTATCCTAGGCTACACACTGAGGAC...</td>\n",
       "      <td>not_MT</td>\n",
       "      <td>...(((.((((((((((.(((((....(((((........(((((....</td>\n",
       "      <td>-103.900002</td>\n",
       "      <td>276</td>\n",
       "    </tr>\n",
       "    <tr>\n",
       "      <th>15</th>\n",
       "      <td>chr14</td>\n",
       "      <td>20811226</td>\n",
       "      <td>20811574</td>\n",
       "      <td>unfragmented.rvs_peak_6094</td>\n",
       "      <td>38983</td>\n",
       "      <td>962.66785</td>\n",
       "      <td>3904.95923</td>\n",
       "      <td>3898.39575</td>\n",
       "      <td>1012.0</td>\n",
       "      <td>13</td>\n",
       "      <td>...</td>\n",
       "      <td>.</td>\n",
       "      <td>Unannotated</td>\n",
       "      <td>0.000000e+00</td>\n",
       "      <td>0.000000e+00</td>\n",
       "      <td>Sense</td>\n",
       "      <td>TCCCATAGGGCGGAGGGAAGCTCATCAGTGGGGCCACGAGCTGAGT...</td>\n",
       "      <td>not_MT</td>\n",
       "      <td>.......((((((((((((((((....(((....))))))))((((...</td>\n",
       "      <td>-166.100006</td>\n",
       "      <td>348</td>\n",
       "    </tr>\n",
       "    <tr>\n",
       "      <th>21</th>\n",
       "      <td>chr2</td>\n",
       "      <td>140977935</td>\n",
       "      <td>140978004</td>\n",
       "      <td>unfragmented.rvs_peak_11840</td>\n",
       "      <td>21664</td>\n",
       "      <td>511.72336</td>\n",
       "      <td>2172.87769</td>\n",
       "      <td>2166.49268</td>\n",
       "      <td>517.0</td>\n",
       "      <td>13</td>\n",
       "      <td>...</td>\n",
       "      <td>.</td>\n",
       "      <td>Unannotated</td>\n",
       "      <td>0.000000e+00</td>\n",
       "      <td>0.000000e+00</td>\n",
       "      <td>Sense</td>\n",
       "      <td>AAGTAAGGTCAGCTATAAGCTATCGGGCCCATACCCCAAAAATGTT...</td>\n",
       "      <td>not_MT</td>\n",
       "      <td>.((((.((..((((...))))...(((......))).......(.....</td>\n",
       "      <td>-9.800000</td>\n",
       "      <td>69</td>\n",
       "    </tr>\n",
       "    <tr>\n",
       "      <th>28</th>\n",
       "      <td>chr9</td>\n",
       "      <td>95301666</td>\n",
       "      <td>95301808</td>\n",
       "      <td>unfragmented.fwd_peak_22401</td>\n",
       "      <td>10183</td>\n",
       "      <td>259.76184</td>\n",
       "      <td>1024.66833</td>\n",
       "      <td>1018.36090</td>\n",
       "      <td>262.0</td>\n",
       "      <td>11</td>\n",
       "      <td>...</td>\n",
       "      <td>.</td>\n",
       "      <td>Unannotated</td>\n",
       "      <td>0.000000e+00</td>\n",
       "      <td>0.000000e+00</td>\n",
       "      <td>Sense</td>\n",
       "      <td>TAGATTGAAGCCAGTTGATTAGGGTATTTAGCTGTTAACTACATTT...</td>\n",
       "      <td>not_MT</td>\n",
       "      <td>..(((((((((.(((((((((....(((.(((((....((((.......</td>\n",
       "      <td>-32.099998</td>\n",
       "      <td>142</td>\n",
       "    </tr>\n",
       "    <tr>\n",
       "      <th>49</th>\n",
       "      <td>chr7</td>\n",
       "      <td>63571925</td>\n",
       "      <td>63571997</td>\n",
       "      <td>unfragmented.rvs_peak_19427</td>\n",
       "      <td>5475</td>\n",
       "      <td>150.03883</td>\n",
       "      <td>553.44427</td>\n",
       "      <td>547.50531</td>\n",
       "      <td>151.0</td>\n",
       "      <td>13</td>\n",
       "      <td>...</td>\n",
       "      <td>RP11-165H4.1</td>\n",
       "      <td>Long RNA</td>\n",
       "      <td>0.000000e+00</td>\n",
       "      <td>0.000000e+00</td>\n",
       "      <td>Sense</td>\n",
       "      <td>AAGTAAGGTCAGCTAAATAAGCTATCTGGCCCATACCCCAAAAATG...</td>\n",
       "      <td>not_MT</td>\n",
       "      <td>..(((.((((((.((.......)).))))))..))).((((........</td>\n",
       "      <td>-9.500000</td>\n",
       "      <td>72</td>\n",
       "    </tr>\n",
       "    <tr>\n",
       "      <th>52</th>\n",
       "      <td>chr4</td>\n",
       "      <td>91759633</td>\n",
       "      <td>91760266</td>\n",
       "      <td>unfragmented.rvs_peak_15996</td>\n",
       "      <td>4987</td>\n",
       "      <td>137.31573</td>\n",
       "      <td>504.66000</td>\n",
       "      <td>498.75940</td>\n",
       "      <td>138.0</td>\n",
       "      <td>13</td>\n",
       "      <td>...</td>\n",
       "      <td>CCSER1</td>\n",
       "      <td>Long RNA</td>\n",
       "      <td>0.000000e+00</td>\n",
       "      <td>0.000000e+00</td>\n",
       "      <td>Sense</td>\n",
       "      <td>GACAACTCGGTGGTGGCCACTGCGCAGACCAGACTTCGCTCGTACT...</td>\n",
       "      <td>not_MT</td>\n",
       "      <td>.......((((((...)))))).(((..(((.....(((.((.......</td>\n",
       "      <td>-160.899994</td>\n",
       "      <td>633</td>\n",
       "    </tr>\n",
       "    <tr>\n",
       "      <th>55</th>\n",
       "      <td>chr1</td>\n",
       "      <td>181391920</td>\n",
       "      <td>181392117</td>\n",
       "      <td>unfragmented.fwd_peak_1604</td>\n",
       "      <td>4750</td>\n",
       "      <td>135.69624</td>\n",
       "      <td>481.12512</td>\n",
       "      <td>475.09064</td>\n",
       "      <td>137.0</td>\n",
       "      <td>13</td>\n",
       "      <td>...</td>\n",
       "      <td>.</td>\n",
       "      <td>Unannotated</td>\n",
       "      <td>0.000000e+00</td>\n",
       "      <td>0.000000e+00</td>\n",
       "      <td>Sense</td>\n",
       "      <td>TATAGTTTAACCAAAACATTAGATTGTGAATCTAACAATAGAAGCC...</td>\n",
       "      <td>not_MT</td>\n",
       "      <td>((((((((((........))))))))))............((((((...</td>\n",
       "      <td>-35.700001</td>\n",
       "      <td>197</td>\n",
       "    </tr>\n",
       "    <tr>\n",
       "      <th>56</th>\n",
       "      <td>chr2</td>\n",
       "      <td>131029982</td>\n",
       "      <td>131030053</td>\n",
       "      <td>unfragmented.fwd_peak_12076</td>\n",
       "      <td>4721</td>\n",
       "      <td>141.12009</td>\n",
       "      <td>478.22864</td>\n",
       "      <td>472.19611</td>\n",
       "      <td>144.0</td>\n",
       "      <td>10</td>\n",
       "      <td>...</td>\n",
       "      <td>nmt-tRNA-Gln-TTG-7-1-tRF3</td>\n",
       "      <td>tRF3</td>\n",
       "      <td>0.000000e+00</td>\n",
       "      <td>0.000000e+00</td>\n",
       "      <td>Sense</td>\n",
       "      <td>AAGTAAGGTCAGCTAAATAAGCTATCAGGCCCATATCCCAAAAATG...</td>\n",
       "      <td>not_MT</td>\n",
       "      <td>.((((.((..((((.....))))....((((.((((.......)))...</td>\n",
       "      <td>-8.600000</td>\n",
       "      <td>71</td>\n",
       "    </tr>\n",
       "    <tr>\n",
       "      <th>59</th>\n",
       "      <td>chr1</td>\n",
       "      <td>238105789</td>\n",
       "      <td>238105861</td>\n",
       "      <td>unfragmented.rvs_peak_2030</td>\n",
       "      <td>4234</td>\n",
       "      <td>127.66264</td>\n",
       "      <td>429.26782</td>\n",
       "      <td>423.43698</td>\n",
       "      <td>130.0</td>\n",
       "      <td>8</td>\n",
       "      <td>...</td>\n",
       "      <td>nmt-tRNA-Pro-TGG-1-1-tRF5</td>\n",
       "      <td>tRF5</td>\n",
       "      <td>0.000000e+00</td>\n",
       "      <td>0.000000e+00</td>\n",
       "      <td>Sense</td>\n",
       "      <td>AAGTAAGGTCAGCTAAATAAGCTATCAGGCCCATACCCCAAAACTG...</td>\n",
       "      <td>not_MT</td>\n",
       "      <td>..(((.((((((((.....))))....))))..))).((((........</td>\n",
       "      <td>-9.000000</td>\n",
       "      <td>72</td>\n",
       "    </tr>\n",
       "    <tr>\n",
       "      <th>80</th>\n",
       "      <td>chr9</td>\n",
       "      <td>94872791</td>\n",
       "      <td>94872858</td>\n",
       "      <td>unfragmented.fwd_peak_22396</td>\n",
       "      <td>2394</td>\n",
       "      <td>72.99653</td>\n",
       "      <td>245.29840</td>\n",
       "      <td>239.46759</td>\n",
       "      <td>73.0</td>\n",
       "      <td>10</td>\n",
       "      <td>...</td>\n",
       "      <td>SPTLC1</td>\n",
       "      <td>Long RNA</td>\n",
       "      <td>5.030371e-246</td>\n",
       "      <td>2.319248e-243</td>\n",
       "      <td>Sense</td>\n",
       "      <td>AACTGGTAAATAGTTTAAATTAAATGATTTCGACTCATTAGATTAT...</td>\n",
       "      <td>not_MT</td>\n",
       "      <td>...((((((((((((((((((.(((((.......))))).)))).....</td>\n",
       "      <td>-13.300000</td>\n",
       "      <td>67</td>\n",
       "    </tr>\n",
       "    <tr>\n",
       "      <th>84</th>\n",
       "      <td>chr16</td>\n",
       "      <td>20733602</td>\n",
       "      <td>20733722</td>\n",
       "      <td>unfragmented.rvs_peak_7853</td>\n",
       "      <td>2224</td>\n",
       "      <td>73.08930</td>\n",
       "      <td>228.10538</td>\n",
       "      <td>222.46870</td>\n",
       "      <td>74.0</td>\n",
       "      <td>13</td>\n",
       "      <td>...</td>\n",
       "      <td>SFPQ</td>\n",
       "      <td>RBP</td>\n",
       "      <td>7.845489e-229</td>\n",
       "      <td>3.448129e-226</td>\n",
       "      <td>Sense</td>\n",
       "      <td>GAACTGCTAACTCATGCCACCATGTTTAATAACATGGCTTTCTCAA...</td>\n",
       "      <td>not_MT</td>\n",
       "      <td>.....(((((((.(((...(((((((....)))))))........(...</td>\n",
       "      <td>-21.299999</td>\n",
       "      <td>120</td>\n",
       "    </tr>\n",
       "    <tr>\n",
       "      <th>85</th>\n",
       "      <td>chr7</td>\n",
       "      <td>57257214</td>\n",
       "      <td>57257286</td>\n",
       "      <td>unfragmented.fwd_peak_20050</td>\n",
       "      <td>2181</td>\n",
       "      <td>68.83143</td>\n",
       "      <td>223.99475</td>\n",
       "      <td>218.18591</td>\n",
       "      <td>69.0</td>\n",
       "      <td>9</td>\n",
       "      <td>...</td>\n",
       "      <td>.</td>\n",
       "      <td>Unannotated</td>\n",
       "      <td>1.012162e-224</td>\n",
       "      <td>4.407309e-222</td>\n",
       "      <td>Sense</td>\n",
       "      <td>ATAAGATATTAGTAAAATTATTTCATAACTTTGTCAAAGTTAAGTT...</td>\n",
       "      <td>not_MT</td>\n",
       "      <td>.(((((((((((.....((((..(.(((((((...))))))).).....</td>\n",
       "      <td>-10.600000</td>\n",
       "      <td>72</td>\n",
       "    </tr>\n",
       "    <tr>\n",
       "      <th>86</th>\n",
       "      <td>chr1</td>\n",
       "      <td>149824232</td>\n",
       "      <td>149824685</td>\n",
       "      <td>unfragmented.fwd_peak_1305</td>\n",
       "      <td>2170</td>\n",
       "      <td>76.77817</td>\n",
       "      <td>222.82549</td>\n",
       "      <td>217.01976</td>\n",
       "      <td>80.0</td>\n",
       "      <td>13</td>\n",
       "      <td>...</td>\n",
       "      <td>.</td>\n",
       "      <td>Unannotated</td>\n",
       "      <td>1.494548e-223</td>\n",
       "      <td>6.448085e-221</td>\n",
       "      <td>Sense</td>\n",
       "      <td>AGACTGCTCGCAAGTCGACCGGCGGCAAGGCCCCGAGGAAGCAGCT...</td>\n",
       "      <td>not_MT</td>\n",
       "      <td>.((((.......))))...(((.(((...)))))).(((.((.((....</td>\n",
       "      <td>-196.399994</td>\n",
       "      <td>453</td>\n",
       "    </tr>\n",
       "    <tr>\n",
       "      <th>88</th>\n",
       "      <td>chr10</td>\n",
       "      <td>101817567</td>\n",
       "      <td>101817659</td>\n",
       "      <td>unfragmented.rvs_peak_2874</td>\n",
       "      <td>2033</td>\n",
       "      <td>65.71162</td>\n",
       "      <td>208.97951</td>\n",
       "      <td>203.36159</td>\n",
       "      <td>66.0</td>\n",
       "      <td>8</td>\n",
       "      <td>...</td>\n",
       "      <td>.</td>\n",
       "      <td>Unannotated</td>\n",
       "      <td>1.048311e-209</td>\n",
       "      <td>4.401688e-207</td>\n",
       "      <td>Sense</td>\n",
       "      <td>TCACTGTAAAGCTAACCCAGCATTAACCTTTTAAGTTAAAGACTAA...</td>\n",
       "      <td>not_MT</td>\n",
       "      <td>(((((((((.(((.....)))......((((......))))....(...</td>\n",
       "      <td>-16.400000</td>\n",
       "      <td>92</td>\n",
       "    </tr>\n",
       "    <tr>\n",
       "      <th>93</th>\n",
       "      <td>chr15</td>\n",
       "      <td>58444707</td>\n",
       "      <td>58444778</td>\n",
       "      <td>unfragmented.fwd_peak_7275</td>\n",
       "      <td>1794</td>\n",
       "      <td>56.29819</td>\n",
       "      <td>185.15683</td>\n",
       "      <td>179.40584</td>\n",
       "      <td>56.0</td>\n",
       "      <td>9</td>\n",
       "      <td>...</td>\n",
       "      <td>ALDH1A2</td>\n",
       "      <td>Long RNA</td>\n",
       "      <td>6.968993e-186</td>\n",
       "      <td>2.777380e-183</td>\n",
       "      <td>Sense</td>\n",
       "      <td>TGTAAATATAGTATAACCAAAACATTAGATTGTGGATCTAATAACA...</td>\n",
       "      <td>not_MT</td>\n",
       "      <td>........(((((..........((((((((...))))))))...(...</td>\n",
       "      <td>-9.000000</td>\n",
       "      <td>71</td>\n",
       "    </tr>\n",
       "  </tbody>\n",
       "</table>\n",
       "<p>15 rows × 23 columns</p>\n",
       "</div>"
      ],
      "text/plain": [
       "    chrom      start        end                     peakname  score  \\\n",
       "12   chr9   35657742   35658018  unfragmented.rvs_peak_21459  45607   \n",
       "15  chr14   20811226   20811574   unfragmented.rvs_peak_6094  38983   \n",
       "21   chr2  140977935  140978004  unfragmented.rvs_peak_11840  21664   \n",
       "28   chr9   95301666   95301808  unfragmented.fwd_peak_22401  10183   \n",
       "49   chr7   63571925   63571997  unfragmented.rvs_peak_19427   5475   \n",
       "52   chr4   91759633   91760266  unfragmented.rvs_peak_15996   4987   \n",
       "55   chr1  181391920  181392117   unfragmented.fwd_peak_1604   4750   \n",
       "56   chr2  131029982  131030053  unfragmented.fwd_peak_12076   4721   \n",
       "59   chr1  238105789  238105861   unfragmented.rvs_peak_2030   4234   \n",
       "80   chr9   94872791   94872858  unfragmented.fwd_peak_22396   2394   \n",
       "84  chr16   20733602   20733722   unfragmented.rvs_peak_7853   2224   \n",
       "85   chr7   57257214   57257286  unfragmented.fwd_peak_20050   2181   \n",
       "86   chr1  149824232  149824685   unfragmented.fwd_peak_1305   2170   \n",
       "88  chr10  101817567  101817659   unfragmented.rvs_peak_2874   2033   \n",
       "93  chr15   58444707   58444778   unfragmented.fwd_peak_7275   1794   \n",
       "\n",
       "            fc      log10p      log10q  pileup  sample_count  ...   \\\n",
       "12  1078.74915  4567.49023  4560.78662  1113.0            13  ...    \n",
       "15   962.66785  3904.95923  3898.39575  1012.0            13  ...    \n",
       "21   511.72336  2172.87769  2166.49268   517.0            13  ...    \n",
       "28   259.76184  1024.66833  1018.36090   262.0            11  ...    \n",
       "49   150.03883   553.44427   547.50531   151.0            13  ...    \n",
       "52   137.31573   504.66000   498.75940   138.0            13  ...    \n",
       "55   135.69624   481.12512   475.09064   137.0            13  ...    \n",
       "56   141.12009   478.22864   472.19611   144.0            10  ...    \n",
       "59   127.66264   429.26782   423.43698   130.0             8  ...    \n",
       "80    72.99653   245.29840   239.46759    73.0            10  ...    \n",
       "84    73.08930   228.10538   222.46870    74.0            13  ...    \n",
       "85    68.83143   223.99475   218.18591    69.0             9  ...    \n",
       "86    76.77817   222.82549   217.01976    80.0            13  ...    \n",
       "88    65.71162   208.97951   203.36159    66.0             8  ...    \n",
       "93    56.29819   185.15683   179.40584    56.0             9  ...    \n",
       "\n",
       "              antisense_gname antisense_gtype         pvalue            FDR  \\\n",
       "12                          .     Unannotated   0.000000e+00   0.000000e+00   \n",
       "15                          .     Unannotated   0.000000e+00   0.000000e+00   \n",
       "21                          .     Unannotated   0.000000e+00   0.000000e+00   \n",
       "28                          .     Unannotated   0.000000e+00   0.000000e+00   \n",
       "49               RP11-165H4.1        Long RNA   0.000000e+00   0.000000e+00   \n",
       "52                     CCSER1        Long RNA   0.000000e+00   0.000000e+00   \n",
       "55                          .     Unannotated   0.000000e+00   0.000000e+00   \n",
       "56  nmt-tRNA-Gln-TTG-7-1-tRF3            tRF3   0.000000e+00   0.000000e+00   \n",
       "59  nmt-tRNA-Pro-TGG-1-1-tRF5            tRF5   0.000000e+00   0.000000e+00   \n",
       "80                     SPTLC1        Long RNA  5.030371e-246  2.319248e-243   \n",
       "84                       SFPQ             RBP  7.845489e-229  3.448129e-226   \n",
       "85                          .     Unannotated  1.012162e-224  4.407309e-222   \n",
       "86                          .     Unannotated  1.494548e-223  6.448085e-221   \n",
       "88                          .     Unannotated  1.048311e-209  4.401688e-207   \n",
       "93                    ALDH1A2        Long RNA  6.968993e-186  2.777380e-183   \n",
       "\n",
       "   is_sense                                                seq      mt  \\\n",
       "12    Sense  CGTGGTTCGTGCTGAAGGCCTGTATCCTAGGCTACACACTGAGGAC...  not_MT   \n",
       "15    Sense  TCCCATAGGGCGGAGGGAAGCTCATCAGTGGGGCCACGAGCTGAGT...  not_MT   \n",
       "21    Sense  AAGTAAGGTCAGCTATAAGCTATCGGGCCCATACCCCAAAAATGTT...  not_MT   \n",
       "28    Sense  TAGATTGAAGCCAGTTGATTAGGGTATTTAGCTGTTAACTACATTT...  not_MT   \n",
       "49    Sense  AAGTAAGGTCAGCTAAATAAGCTATCTGGCCCATACCCCAAAAATG...  not_MT   \n",
       "52    Sense  GACAACTCGGTGGTGGCCACTGCGCAGACCAGACTTCGCTCGTACT...  not_MT   \n",
       "55    Sense  TATAGTTTAACCAAAACATTAGATTGTGAATCTAACAATAGAAGCC...  not_MT   \n",
       "56    Sense  AAGTAAGGTCAGCTAAATAAGCTATCAGGCCCATATCCCAAAAATG...  not_MT   \n",
       "59    Sense  AAGTAAGGTCAGCTAAATAAGCTATCAGGCCCATACCCCAAAACTG...  not_MT   \n",
       "80    Sense  AACTGGTAAATAGTTTAAATTAAATGATTTCGACTCATTAGATTAT...  not_MT   \n",
       "84    Sense  GAACTGCTAACTCATGCCACCATGTTTAATAACATGGCTTTCTCAA...  not_MT   \n",
       "85    Sense  ATAAGATATTAGTAAAATTATTTCATAACTTTGTCAAAGTTAAGTT...  not_MT   \n",
       "86    Sense  AGACTGCTCGCAAGTCGACCGGCGGCAAGGCCCCGAGGAAGCAGCT...  not_MT   \n",
       "88    Sense  TCACTGTAAAGCTAACCCAGCATTAACCTTTTAAGTTAAAGACTAA...  not_MT   \n",
       "93    Sense  TGTAAATATAGTATAACCAAAACATTAGATTGTGGATCTAATAACA...  not_MT   \n",
       "\n",
       "                                                shape      energy width  \n",
       "12  ...(((.((((((((((.(((((....(((((........(((((.... -103.900002   276  \n",
       "15  .......((((((((((((((((....(((....))))))))((((... -166.100006   348  \n",
       "21  .((((.((..((((...))))...(((......))).......(.....   -9.800000    69  \n",
       "28  ..(((((((((.(((((((((....(((.(((((....((((.......  -32.099998   142  \n",
       "49  ..(((.((((((.((.......)).))))))..))).((((........   -9.500000    72  \n",
       "52  .......((((((...)))))).(((..(((.....(((.((....... -160.899994   633  \n",
       "55  ((((((((((........))))))))))............((((((...  -35.700001   197  \n",
       "56  .((((.((..((((.....))))....((((.((((.......)))...   -8.600000    71  \n",
       "59  ..(((.((((((((.....))))....))))..))).((((........   -9.000000    72  \n",
       "80  ...((((((((((((((((((.(((((.......))))).)))).....  -13.300000    67  \n",
       "84  .....(((((((.(((...(((((((....)))))))........(...  -21.299999   120  \n",
       "85  .(((((((((((.....((((..(.(((((((...))))))).).....  -10.600000    72  \n",
       "86  .((((.......))))...(((.(((...)))))).(((.((.((.... -196.399994   453  \n",
       "88  (((((((((.(((.....)))......((((......))))....(...  -16.400000    92  \n",
       "93  ........(((((..........((((((((...))))))))...(...   -9.000000    71  \n",
       "\n",
       "[15 rows x 23 columns]"
      ]
     },
     "execution_count": 73,
     "metadata": {},
     "output_type": "execute_result"
    }
   ],
   "source": [
    "import RNA \n",
    "\n",
    "rbp = peak_df\\\n",
    "    .query('sense_gtype==\"Long RNA\"') \\\n",
    "    .query('pileup >= %i & sample_count >= %i'%(pileup_cutoff, sample_cutoff))\\\n",
    "    .assign(seq = lambda d: list(map(fetch_seq, d.chrom, d.start, d.end, d.strand))) \\\n",
    "    .assign(mt = lambda d: d.seq.map(is_mt))  \\\n",
    "    .assign(shape = lambda d: d.seq.map(RNA.fold))\\\n",
    "    .assign(energy = lambda d: list(map(lambda x: x[1], d['shape'])))\\\n",
    "    .assign(shape = lambda d: list(map(lambda x: x[0], d['shape'])))\\\n",
    "    .assign(width = lambda d: d.end - d.start)\\\n",
    "    .sort_values('log10p', ascending=False)\n",
    "rbp.head(15)"
   ]
  },
  {
   "cell_type": "code",
   "execution_count": 106,
   "metadata": {
    "collapsed": false
   },
   "outputs": [
    {
     "data": {
      "text/html": [
       "<div>\n",
       "<style scoped>\n",
       "    .dataframe tbody tr th:only-of-type {\n",
       "        vertical-align: middle;\n",
       "    }\n",
       "\n",
       "    .dataframe tbody tr th {\n",
       "        vertical-align: top;\n",
       "    }\n",
       "\n",
       "    .dataframe thead th {\n",
       "        text-align: right;\n",
       "    }\n",
       "</style>\n",
       "<table border=\"1\" class=\"dataframe\">\n",
       "  <thead>\n",
       "    <tr style=\"text-align: right;\">\n",
       "      <th></th>\n",
       "      <th>chrom</th>\n",
       "      <th>start</th>\n",
       "      <th>end</th>\n",
       "      <th>peakname</th>\n",
       "      <th>score</th>\n",
       "      <th>fc</th>\n",
       "      <th>log10p</th>\n",
       "      <th>log10q</th>\n",
       "      <th>pileup</th>\n",
       "      <th>sample_count</th>\n",
       "      <th>...</th>\n",
       "      <th>antisense_gname</th>\n",
       "      <th>antisense_gtype</th>\n",
       "      <th>pvalue</th>\n",
       "      <th>FDR</th>\n",
       "      <th>is_sense</th>\n",
       "      <th>seq</th>\n",
       "      <th>mt</th>\n",
       "      <th>shape</th>\n",
       "      <th>energy</th>\n",
       "      <th>width</th>\n",
       "    </tr>\n",
       "  </thead>\n",
       "  <tbody>\n",
       "    <tr>\n",
       "      <th>184</th>\n",
       "      <td>chr16</td>\n",
       "      <td>15027133</td>\n",
       "      <td>15027223</td>\n",
       "      <td>unfragmented.fwd_peak_7928</td>\n",
       "      <td>710</td>\n",
       "      <td>29.01481</td>\n",
       "      <td>76.51092</td>\n",
       "      <td>71.08939</td>\n",
       "      <td>29.0</td>\n",
       "      <td>11</td>\n",
       "      <td>...</td>\n",
       "      <td>.</td>\n",
       "      <td>Unannotated</td>\n",
       "      <td>3.083756e-77</td>\n",
       "      <td>6.503130e-75</td>\n",
       "      <td>Sense</td>\n",
       "      <td>GTGGGTGCCGTAGGGGTCGGGACAGCCTCTTCCTGCCCAGCCCTTC...</td>\n",
       "      <td>not_MT</td>\n",
       "      <td>(.(((.((.(.((((((.(((.(((.......)))))).))))))....</td>\n",
       "      <td>-35.5</td>\n",
       "      <td>90</td>\n",
       "    </tr>\n",
       "  </tbody>\n",
       "</table>\n",
       "<p>1 rows × 23 columns</p>\n",
       "</div>"
      ],
      "text/plain": [
       "     chrom     start       end                    peakname  score        fc  \\\n",
       "184  chr16  15027133  15027223  unfragmented.fwd_peak_7928    710  29.01481   \n",
       "\n",
       "       log10p    log10q  pileup  sample_count  ...  antisense_gname  \\\n",
       "184  76.51092  71.08939    29.0            11  ...                .   \n",
       "\n",
       "    antisense_gtype        pvalue           FDR is_sense  \\\n",
       "184     Unannotated  3.083756e-77  6.503130e-75    Sense   \n",
       "\n",
       "                                                   seq      mt  \\\n",
       "184  GTGGGTGCCGTAGGGGTCGGGACAGCCTCTTCCTGCCCAGCCCTTC...  not_MT   \n",
       "\n",
       "                                                 shape energy width  \n",
       "184  (.(((.((.(.((((((.(((.(((.......)))))).))))))....  -35.5    90  \n",
       "\n",
       "[1 rows x 23 columns]"
      ]
     },
     "execution_count": 106,
     "metadata": {},
     "output_type": "execute_result"
    }
   ],
   "source": [
    "rbp.query('sense_gname == \"RP11-958N24.1\"')"
   ]
  },
  {
   "cell_type": "code",
   "execution_count": 80,
   "metadata": {
    "collapsed": false
   },
   "outputs": [
    {
     "data": {
      "text/html": [
       "<div>\n",
       "<style scoped>\n",
       "    .dataframe tbody tr th:only-of-type {\n",
       "        vertical-align: middle;\n",
       "    }\n",
       "\n",
       "    .dataframe tbody tr th {\n",
       "        vertical-align: top;\n",
       "    }\n",
       "\n",
       "    .dataframe thead th {\n",
       "        text-align: right;\n",
       "    }\n",
       "</style>\n",
       "<table border=\"1\" class=\"dataframe\">\n",
       "  <thead>\n",
       "    <tr style=\"text-align: right;\">\n",
       "      <th></th>\n",
       "      <th>chrom</th>\n",
       "      <th>start</th>\n",
       "      <th>end</th>\n",
       "      <th>peakname</th>\n",
       "      <th>score</th>\n",
       "      <th>fc</th>\n",
       "      <th>log10p</th>\n",
       "      <th>log10q</th>\n",
       "      <th>pileup</th>\n",
       "      <th>sample_count</th>\n",
       "      <th>...</th>\n",
       "      <th>antisense_gname</th>\n",
       "      <th>antisense_gtype</th>\n",
       "      <th>pvalue</th>\n",
       "      <th>FDR</th>\n",
       "      <th>is_sense</th>\n",
       "      <th>seq</th>\n",
       "      <th>mt</th>\n",
       "      <th>shape</th>\n",
       "      <th>energy</th>\n",
       "      <th>width</th>\n",
       "    </tr>\n",
       "  </thead>\n",
       "  <tbody>\n",
       "    <tr>\n",
       "      <th>21</th>\n",
       "      <td>chr2</td>\n",
       "      <td>140977935</td>\n",
       "      <td>140978004</td>\n",
       "      <td>unfragmented.rvs_peak_11840</td>\n",
       "      <td>21664</td>\n",
       "      <td>511.72336</td>\n",
       "      <td>2172.87769</td>\n",
       "      <td>2166.49268</td>\n",
       "      <td>517.0</td>\n",
       "      <td>13</td>\n",
       "      <td>...</td>\n",
       "      <td>.</td>\n",
       "      <td>Unannotated</td>\n",
       "      <td>0.000000e+00</td>\n",
       "      <td>0.000000e+00</td>\n",
       "      <td>Sense</td>\n",
       "      <td>AAGTAAGGTCAGCTATAAGCTATCGGGCCCATACCCCAAAAATGTT...</td>\n",
       "      <td>not_MT</td>\n",
       "      <td>.((((.((..((((...))))...(((......))).......(.....</td>\n",
       "      <td>-9.800000</td>\n",
       "      <td>69</td>\n",
       "    </tr>\n",
       "    <tr>\n",
       "      <th>28</th>\n",
       "      <td>chr9</td>\n",
       "      <td>95301666</td>\n",
       "      <td>95301808</td>\n",
       "      <td>unfragmented.fwd_peak_22401</td>\n",
       "      <td>10183</td>\n",
       "      <td>259.76184</td>\n",
       "      <td>1024.66833</td>\n",
       "      <td>1018.36090</td>\n",
       "      <td>262.0</td>\n",
       "      <td>11</td>\n",
       "      <td>...</td>\n",
       "      <td>.</td>\n",
       "      <td>Unannotated</td>\n",
       "      <td>0.000000e+00</td>\n",
       "      <td>0.000000e+00</td>\n",
       "      <td>Sense</td>\n",
       "      <td>TAGATTGAAGCCAGTTGATTAGGGTATTTAGCTGTTAACTACATTT...</td>\n",
       "      <td>not_MT</td>\n",
       "      <td>..(((((((((.(((((((((....(((.(((((....((((.......</td>\n",
       "      <td>-32.099998</td>\n",
       "      <td>142</td>\n",
       "    </tr>\n",
       "    <tr>\n",
       "      <th>49</th>\n",
       "      <td>chr7</td>\n",
       "      <td>63571925</td>\n",
       "      <td>63571997</td>\n",
       "      <td>unfragmented.rvs_peak_19427</td>\n",
       "      <td>5475</td>\n",
       "      <td>150.03883</td>\n",
       "      <td>553.44427</td>\n",
       "      <td>547.50531</td>\n",
       "      <td>151.0</td>\n",
       "      <td>13</td>\n",
       "      <td>...</td>\n",
       "      <td>RP11-165H4.1</td>\n",
       "      <td>Long RNA</td>\n",
       "      <td>0.000000e+00</td>\n",
       "      <td>0.000000e+00</td>\n",
       "      <td>Sense</td>\n",
       "      <td>AAGTAAGGTCAGCTAAATAAGCTATCTGGCCCATACCCCAAAAATG...</td>\n",
       "      <td>not_MT</td>\n",
       "      <td>..(((.((((((.((.......)).))))))..))).((((........</td>\n",
       "      <td>-9.500000</td>\n",
       "      <td>72</td>\n",
       "    </tr>\n",
       "    <tr>\n",
       "      <th>55</th>\n",
       "      <td>chr1</td>\n",
       "      <td>181391920</td>\n",
       "      <td>181392117</td>\n",
       "      <td>unfragmented.fwd_peak_1604</td>\n",
       "      <td>4750</td>\n",
       "      <td>135.69624</td>\n",
       "      <td>481.12512</td>\n",
       "      <td>475.09064</td>\n",
       "      <td>137.0</td>\n",
       "      <td>13</td>\n",
       "      <td>...</td>\n",
       "      <td>.</td>\n",
       "      <td>Unannotated</td>\n",
       "      <td>0.000000e+00</td>\n",
       "      <td>0.000000e+00</td>\n",
       "      <td>Sense</td>\n",
       "      <td>TATAGTTTAACCAAAACATTAGATTGTGAATCTAACAATAGAAGCC...</td>\n",
       "      <td>not_MT</td>\n",
       "      <td>((((((((((........))))))))))............((((((...</td>\n",
       "      <td>-35.700001</td>\n",
       "      <td>197</td>\n",
       "    </tr>\n",
       "    <tr>\n",
       "      <th>56</th>\n",
       "      <td>chr2</td>\n",
       "      <td>131029982</td>\n",
       "      <td>131030053</td>\n",
       "      <td>unfragmented.fwd_peak_12076</td>\n",
       "      <td>4721</td>\n",
       "      <td>141.12009</td>\n",
       "      <td>478.22864</td>\n",
       "      <td>472.19611</td>\n",
       "      <td>144.0</td>\n",
       "      <td>10</td>\n",
       "      <td>...</td>\n",
       "      <td>nmt-tRNA-Gln-TTG-7-1-tRF3</td>\n",
       "      <td>tRF3</td>\n",
       "      <td>0.000000e+00</td>\n",
       "      <td>0.000000e+00</td>\n",
       "      <td>Sense</td>\n",
       "      <td>AAGTAAGGTCAGCTAAATAAGCTATCAGGCCCATATCCCAAAAATG...</td>\n",
       "      <td>not_MT</td>\n",
       "      <td>.((((.((..((((.....))))....((((.((((.......)))...</td>\n",
       "      <td>-8.600000</td>\n",
       "      <td>71</td>\n",
       "    </tr>\n",
       "    <tr>\n",
       "      <th>59</th>\n",
       "      <td>chr1</td>\n",
       "      <td>238105789</td>\n",
       "      <td>238105861</td>\n",
       "      <td>unfragmented.rvs_peak_2030</td>\n",
       "      <td>4234</td>\n",
       "      <td>127.66264</td>\n",
       "      <td>429.26782</td>\n",
       "      <td>423.43698</td>\n",
       "      <td>130.0</td>\n",
       "      <td>8</td>\n",
       "      <td>...</td>\n",
       "      <td>nmt-tRNA-Pro-TGG-1-1-tRF5</td>\n",
       "      <td>tRF5</td>\n",
       "      <td>0.000000e+00</td>\n",
       "      <td>0.000000e+00</td>\n",
       "      <td>Sense</td>\n",
       "      <td>AAGTAAGGTCAGCTAAATAAGCTATCAGGCCCATACCCCAAAACTG...</td>\n",
       "      <td>not_MT</td>\n",
       "      <td>..(((.((((((((.....))))....))))..))).((((........</td>\n",
       "      <td>-9.000000</td>\n",
       "      <td>72</td>\n",
       "    </tr>\n",
       "    <tr>\n",
       "      <th>80</th>\n",
       "      <td>chr9</td>\n",
       "      <td>94872791</td>\n",
       "      <td>94872858</td>\n",
       "      <td>unfragmented.fwd_peak_22396</td>\n",
       "      <td>2394</td>\n",
       "      <td>72.99653</td>\n",
       "      <td>245.29840</td>\n",
       "      <td>239.46759</td>\n",
       "      <td>73.0</td>\n",
       "      <td>10</td>\n",
       "      <td>...</td>\n",
       "      <td>SPTLC1</td>\n",
       "      <td>Long RNA</td>\n",
       "      <td>5.030371e-246</td>\n",
       "      <td>2.319248e-243</td>\n",
       "      <td>Sense</td>\n",
       "      <td>AACTGGTAAATAGTTTAAATTAAATGATTTCGACTCATTAGATTAT...</td>\n",
       "      <td>not_MT</td>\n",
       "      <td>...((((((((((((((((((.(((((.......))))).)))).....</td>\n",
       "      <td>-13.300000</td>\n",
       "      <td>67</td>\n",
       "    </tr>\n",
       "    <tr>\n",
       "      <th>84</th>\n",
       "      <td>chr16</td>\n",
       "      <td>20733602</td>\n",
       "      <td>20733722</td>\n",
       "      <td>unfragmented.rvs_peak_7853</td>\n",
       "      <td>2224</td>\n",
       "      <td>73.08930</td>\n",
       "      <td>228.10538</td>\n",
       "      <td>222.46870</td>\n",
       "      <td>74.0</td>\n",
       "      <td>13</td>\n",
       "      <td>...</td>\n",
       "      <td>SFPQ</td>\n",
       "      <td>RBP</td>\n",
       "      <td>7.845489e-229</td>\n",
       "      <td>3.448129e-226</td>\n",
       "      <td>Sense</td>\n",
       "      <td>GAACTGCTAACTCATGCCACCATGTTTAATAACATGGCTTTCTCAA...</td>\n",
       "      <td>not_MT</td>\n",
       "      <td>.....(((((((.(((...(((((((....)))))))........(...</td>\n",
       "      <td>-21.299999</td>\n",
       "      <td>120</td>\n",
       "    </tr>\n",
       "    <tr>\n",
       "      <th>85</th>\n",
       "      <td>chr7</td>\n",
       "      <td>57257214</td>\n",
       "      <td>57257286</td>\n",
       "      <td>unfragmented.fwd_peak_20050</td>\n",
       "      <td>2181</td>\n",
       "      <td>68.83143</td>\n",
       "      <td>223.99475</td>\n",
       "      <td>218.18591</td>\n",
       "      <td>69.0</td>\n",
       "      <td>9</td>\n",
       "      <td>...</td>\n",
       "      <td>.</td>\n",
       "      <td>Unannotated</td>\n",
       "      <td>1.012162e-224</td>\n",
       "      <td>4.407309e-222</td>\n",
       "      <td>Sense</td>\n",
       "      <td>ATAAGATATTAGTAAAATTATTTCATAACTTTGTCAAAGTTAAGTT...</td>\n",
       "      <td>not_MT</td>\n",
       "      <td>.(((((((((((.....((((..(.(((((((...))))))).).....</td>\n",
       "      <td>-10.600000</td>\n",
       "      <td>72</td>\n",
       "    </tr>\n",
       "    <tr>\n",
       "      <th>88</th>\n",
       "      <td>chr10</td>\n",
       "      <td>101817567</td>\n",
       "      <td>101817659</td>\n",
       "      <td>unfragmented.rvs_peak_2874</td>\n",
       "      <td>2033</td>\n",
       "      <td>65.71162</td>\n",
       "      <td>208.97951</td>\n",
       "      <td>203.36159</td>\n",
       "      <td>66.0</td>\n",
       "      <td>8</td>\n",
       "      <td>...</td>\n",
       "      <td>.</td>\n",
       "      <td>Unannotated</td>\n",
       "      <td>1.048311e-209</td>\n",
       "      <td>4.401688e-207</td>\n",
       "      <td>Sense</td>\n",
       "      <td>TCACTGTAAAGCTAACCCAGCATTAACCTTTTAAGTTAAAGACTAA...</td>\n",
       "      <td>not_MT</td>\n",
       "      <td>(((((((((.(((.....)))......((((......))))....(...</td>\n",
       "      <td>-16.400000</td>\n",
       "      <td>92</td>\n",
       "    </tr>\n",
       "    <tr>\n",
       "      <th>93</th>\n",
       "      <td>chr15</td>\n",
       "      <td>58444707</td>\n",
       "      <td>58444778</td>\n",
       "      <td>unfragmented.fwd_peak_7275</td>\n",
       "      <td>1794</td>\n",
       "      <td>56.29819</td>\n",
       "      <td>185.15683</td>\n",
       "      <td>179.40584</td>\n",
       "      <td>56.0</td>\n",
       "      <td>9</td>\n",
       "      <td>...</td>\n",
       "      <td>ALDH1A2</td>\n",
       "      <td>Long RNA</td>\n",
       "      <td>6.968993e-186</td>\n",
       "      <td>2.777380e-183</td>\n",
       "      <td>Sense</td>\n",
       "      <td>TGTAAATATAGTATAACCAAAACATTAGATTGTGGATCTAATAACA...</td>\n",
       "      <td>not_MT</td>\n",
       "      <td>........(((((..........((((((((...))))))))...(...</td>\n",
       "      <td>-9.000000</td>\n",
       "      <td>71</td>\n",
       "    </tr>\n",
       "  </tbody>\n",
       "</table>\n",
       "<p>11 rows × 23 columns</p>\n",
       "</div>"
      ],
      "text/plain": [
       "    chrom      start        end                     peakname  score  \\\n",
       "21   chr2  140977935  140978004  unfragmented.rvs_peak_11840  21664   \n",
       "28   chr9   95301666   95301808  unfragmented.fwd_peak_22401  10183   \n",
       "49   chr7   63571925   63571997  unfragmented.rvs_peak_19427   5475   \n",
       "55   chr1  181391920  181392117   unfragmented.fwd_peak_1604   4750   \n",
       "56   chr2  131029982  131030053  unfragmented.fwd_peak_12076   4721   \n",
       "59   chr1  238105789  238105861   unfragmented.rvs_peak_2030   4234   \n",
       "80   chr9   94872791   94872858  unfragmented.fwd_peak_22396   2394   \n",
       "84  chr16   20733602   20733722   unfragmented.rvs_peak_7853   2224   \n",
       "85   chr7   57257214   57257286  unfragmented.fwd_peak_20050   2181   \n",
       "88  chr10  101817567  101817659   unfragmented.rvs_peak_2874   2033   \n",
       "93  chr15   58444707   58444778   unfragmented.fwd_peak_7275   1794   \n",
       "\n",
       "           fc      log10p      log10q  pileup  sample_count  ...   \\\n",
       "21  511.72336  2172.87769  2166.49268   517.0            13  ...    \n",
       "28  259.76184  1024.66833  1018.36090   262.0            11  ...    \n",
       "49  150.03883   553.44427   547.50531   151.0            13  ...    \n",
       "55  135.69624   481.12512   475.09064   137.0            13  ...    \n",
       "56  141.12009   478.22864   472.19611   144.0            10  ...    \n",
       "59  127.66264   429.26782   423.43698   130.0             8  ...    \n",
       "80   72.99653   245.29840   239.46759    73.0            10  ...    \n",
       "84   73.08930   228.10538   222.46870    74.0            13  ...    \n",
       "85   68.83143   223.99475   218.18591    69.0             9  ...    \n",
       "88   65.71162   208.97951   203.36159    66.0             8  ...    \n",
       "93   56.29819   185.15683   179.40584    56.0             9  ...    \n",
       "\n",
       "              antisense_gname antisense_gtype         pvalue            FDR  \\\n",
       "21                          .     Unannotated   0.000000e+00   0.000000e+00   \n",
       "28                          .     Unannotated   0.000000e+00   0.000000e+00   \n",
       "49               RP11-165H4.1        Long RNA   0.000000e+00   0.000000e+00   \n",
       "55                          .     Unannotated   0.000000e+00   0.000000e+00   \n",
       "56  nmt-tRNA-Gln-TTG-7-1-tRF3            tRF3   0.000000e+00   0.000000e+00   \n",
       "59  nmt-tRNA-Pro-TGG-1-1-tRF5            tRF5   0.000000e+00   0.000000e+00   \n",
       "80                     SPTLC1        Long RNA  5.030371e-246  2.319248e-243   \n",
       "84                       SFPQ             RBP  7.845489e-229  3.448129e-226   \n",
       "85                          .     Unannotated  1.012162e-224  4.407309e-222   \n",
       "88                          .     Unannotated  1.048311e-209  4.401688e-207   \n",
       "93                    ALDH1A2        Long RNA  6.968993e-186  2.777380e-183   \n",
       "\n",
       "   is_sense                                                seq      mt  \\\n",
       "21    Sense  AAGTAAGGTCAGCTATAAGCTATCGGGCCCATACCCCAAAAATGTT...  not_MT   \n",
       "28    Sense  TAGATTGAAGCCAGTTGATTAGGGTATTTAGCTGTTAACTACATTT...  not_MT   \n",
       "49    Sense  AAGTAAGGTCAGCTAAATAAGCTATCTGGCCCATACCCCAAAAATG...  not_MT   \n",
       "55    Sense  TATAGTTTAACCAAAACATTAGATTGTGAATCTAACAATAGAAGCC...  not_MT   \n",
       "56    Sense  AAGTAAGGTCAGCTAAATAAGCTATCAGGCCCATATCCCAAAAATG...  not_MT   \n",
       "59    Sense  AAGTAAGGTCAGCTAAATAAGCTATCAGGCCCATACCCCAAAACTG...  not_MT   \n",
       "80    Sense  AACTGGTAAATAGTTTAAATTAAATGATTTCGACTCATTAGATTAT...  not_MT   \n",
       "84    Sense  GAACTGCTAACTCATGCCACCATGTTTAATAACATGGCTTTCTCAA...  not_MT   \n",
       "85    Sense  ATAAGATATTAGTAAAATTATTTCATAACTTTGTCAAAGTTAAGTT...  not_MT   \n",
       "88    Sense  TCACTGTAAAGCTAACCCAGCATTAACCTTTTAAGTTAAAGACTAA...  not_MT   \n",
       "93    Sense  TGTAAATATAGTATAACCAAAACATTAGATTGTGGATCTAATAACA...  not_MT   \n",
       "\n",
       "                                                shape     energy width  \n",
       "21  .((((.((..((((...))))...(((......))).......(.....  -9.800000    69  \n",
       "28  ..(((((((((.(((((((((....(((.(((((....((((....... -32.099998   142  \n",
       "49  ..(((.((((((.((.......)).))))))..))).((((........  -9.500000    72  \n",
       "55  ((((((((((........))))))))))............((((((... -35.700001   197  \n",
       "56  .((((.((..((((.....))))....((((.((((.......)))...  -8.600000    71  \n",
       "59  ..(((.((((((((.....))))....))))..))).((((........  -9.000000    72  \n",
       "80  ...((((((((((((((((((.(((((.......))))).))))..... -13.300000    67  \n",
       "84  .....(((((((.(((...(((((((....)))))))........(... -21.299999   120  \n",
       "85  .(((((((((((.....((((..(.(((((((...))))))).)..... -10.600000    72  \n",
       "88  (((((((((.(((.....)))......((((......))))....(... -16.400000    92  \n",
       "93  ........(((((..........((((((((...))))))))...(...  -9.000000    71  \n",
       "\n",
       "[11 rows x 23 columns]"
      ]
     },
     "execution_count": 80,
     "metadata": {},
     "output_type": "execute_result"
    }
   ],
   "source": [
    "fold = rbp.nlargest(15,'log10p').pipe(lambda d: d[~d.sense_gname.str.contains('RMRP|RPPH1|AC019188.1|HIST')])\n",
    "fold"
   ]
  },
  {
   "cell_type": "code",
   "execution_count": 110,
   "metadata": {
    "collapsed": false
   },
   "outputs": [],
   "source": [
    "import random\n",
    "from collections import Counter\n",
    "from scipy.stats import ranksums\n",
    "\n",
    "es = []\n",
    "bases = list('ACTG')\n",
    "for w, seq in zip(fold.width, fold.seq):\n",
    "    b = Counter(seq.upper())\n",
    "    weights = [b[n] for n in bases]\n",
    "    for i in range(40):\n",
    "        random_seq = ''.join(random.choices(list('ACTG'), \n",
    "                                            k=w, weights=weights))\n",
    "        s, e = RNA.fold(random_seq)\n",
    "        es.append(e)"
   ]
  },
  {
   "cell_type": "code",
   "execution_count": 111,
   "metadata": {
    "collapsed": false
   },
   "outputs": [],
   "source": [
    "w, p = ranksums(es, fold.energy.values)"
   ]
  },
  {
   "cell_type": "code",
   "execution_count": 112,
   "metadata": {
    "collapsed": false
   },
   "outputs": [
    {
     "name": "stderr",
     "output_type": "stream",
     "text": [
      "/stor/work/Lambowitz/cdw2854/src/miniconda3/lib/python3.6/site-packages/matplotlib/font_manager.py:1328: UserWarning: findfont: Font family ['sans-serif'] not found. Falling back to DejaVu Sans\n",
      "  (prop.get_family(), self.defaultFamily[fontext]))\n"
     ]
    },
    {
     "data": {
      "image/png": "[encoded data removed]",
      "text/plain": [
       "<Figure size 432x288 with 1 Axes>"
      ]
     },
     "metadata": {},
     "output_type": "display_data"
    }
   ],
   "source": [
    "ax = plt.subplot()\n",
    "sns.distplot(fold.energy, label = 'RBP', ax = ax, hist=False)\n",
    "sns.distplot(es, label = 'Random', ax = ax, hist=False)\n",
    "ax.text(-40,0.05, 'Wilcoxon test $p$: %.3f' %p)\n",
    "ax.legend(frameon=False)\n",
    "sns.despine()\n",
    "ax.set_xlabel('Folding energy')\n",
    "ax.set_ylabel('Density')\n",
    "plt.savefig(figure_path + '/fold_energy.pdf', bbox_inches='tight')"
   ]
  },
  {
   "cell_type": "code",
   "execution_count": 56,
   "metadata": {
    "collapsed": false
   },
   "outputs": [],
   "source": [
    "colnames = rbp.columns.tolist()\n",
    "colnames.extend(['tRNA_chrom','tRNA_start','tRNA_end','tRNA_name', \n",
    "                'tRNA_score','tRNA_strand', 'tRNA_type',\n",
    "               'tRNA_id','distance'])\n",
    "\n",
    "closest = BedTool().from_dataframe(rbp.sort_values(['chrom','start','end']))\\\n",
    "    .closest(b = '/stor/work/Lambowitz/ref/hg19/new_genes/tRNA.sorted.bed', d= True) \\\n",
    "    .to_dataframe(names = colnames) "
   ]
  },
  {
   "cell_type": "code",
   "execution_count": 70,
   "metadata": {
    "collapsed": false
   },
   "outputs": [
    {
     "data": {
      "text/plain": [
       "'AC092156.2|CENPP|RP11-3N2.6|AC068137.4|RP11-193H5.8|RP11-1217F2.24|AC073869.8'"
      ]
     },
     "execution_count": 70,
     "metadata": {},
     "output_type": "execute_result"
    }
   ],
   "source": [
    "'|'.join(closest.nlargest(20, 'log10p').query('distance < 100').sense_gname)"
   ]
  },
  {
   "cell_type": "code",
   "execution_count": 28,
   "metadata": {
    "collapsed": false
   },
   "outputs": [
    {
     "data": {
      "text/plain": [
       "['.((((.((..((((...))))...(((......))).......(..((......))..))).))))...',\n",
       " -9.800000190734863]"
      ]
     },
     "execution_count": 28,
     "metadata": {},
     "output_type": "execute_result"
    }
   ],
   "source": [
    "RNA.fold(rbp.seq.values[2])"
   ]
  },
  {
   "cell_type": "code",
   "execution_count": 8,
   "metadata": {
    "collapsed": false
   },
   "outputs": [
    {
     "name": "stderr",
     "output_type": "stream",
     "text": [
      "/stor/work/Lambowitz/cdw2854/src/miniconda3/lib/python3.6/site-packages/matplotlib/font_manager.py:1328: UserWarning: findfont: Font family ['sans-serif'] not found. Falling back to DejaVu Sans\n",
      "  (prop.get_family(), self.defaultFamily[fontext]))\n",
      "/stor/work/Lambowitz/cdw2854/src/miniconda3/lib/python3.6/site-packages/matplotlib/axes/_axes.py:6462: UserWarning: The 'normed' kwarg is deprecated, and has been replaced by the 'density' kwarg.\n",
      "  warnings.warn(\"The 'normed' kwarg is deprecated, and has been \"\n"
     ]
    },
    {
     "data": {
      "text/plain": [
       "<seaborn.axisgrid.JointGrid at 0x7f7fd84918d0>"
      ]
     },
     "execution_count": 8,
     "metadata": {},
     "output_type": "execute_result"
    },
    {
     "data": {
      "image/png": "[encoded data removed]",
      "text/plain": [
       "<Figure size 432x432 with 3 Axes>"
      ]
     },
     "metadata": {},
     "output_type": "display_data"
    }
   ],
   "source": [
    "sns.jointplot(peak_df.pileup.transform(np.log),\n",
    "            peak_df.sample_count)"
   ]
  },
  {
   "cell_type": "code",
   "execution_count": 9,
   "metadata": {
    "collapsed": false
   },
   "outputs": [
    {
     "data": {
      "text/plain": [
       "'UCHL5,LARP4,DHX30,EFTUD2,YBX3,XPO5,DDX6,METAP2,SND1,SRSF7,MTPAP,PCBP2,SUB1,EIF3D,TIA1'"
      ]
     },
     "execution_count": 9,
     "metadata": {},
     "output_type": "execute_result"
    }
   ],
   "source": [
    "','.join(rbp_df.head(15).index)"
   ]
  },
  {
   "cell_type": "code",
   "execution_count": 10,
   "metadata": {
    "collapsed": false
   },
   "outputs": [],
   "source": [
    "peak_df\\\n",
    "    .query('pileup >= %i' %pileup_cutoff)\\\n",
    "    .to_csv(peak_path + '/peaks.tsv',sep='\\t', index=False)"
   ]
  },
  {
   "cell_type": "code",
   "execution_count": 11,
   "metadata": {
    "collapsed": false
   },
   "outputs": [
    {
     "name": "stderr",
     "output_type": "stream",
     "text": [
      "/stor/work/Lambowitz/cdw2854/src/miniconda3/lib/python3.6/site-packages/matplotlib/font_manager.py:1328: UserWarning: findfont: Font family ['sans-serif'] not found. Falling back to DejaVu Sans\n",
      "  (prop.get_family(), self.defaultFamily[fontext]))\n"
     ]
    },
    {
     "data": {
      "image/png": "[encoded data removed]",
      "text/plain": [
       "<Figure size 432x288 with 1 Axes>"
      ]
     },
     "metadata": {},
     "output_type": "display_data"
    }
   ],
   "source": [
    "ax = plt.subplot()\n",
    "pdf = peak_df\\\n",
    "    .pipe(lambda d: d[~d.sense_gtype.str.contains('tRF')])\\\n",
    "    .query('pileup >= %i' %pileup_cutoff)\\\n",
    "    .assign(peak_width = lambda d: d.end-d.start)\\\n",
    "    .assign(log_pile = lambda d: d.pileup.transform(np.log10))\n",
    "\n",
    "pdf.plot.scatter('peak_width','pileup', \n",
    "                  color = ce.transform(pdf.sense_gtype), ax = ax,\n",
    "                 alpha = 0.2)\n",
    "ax.set_xscale('log')\n",
    "ax.set_yscale('log')\n",
    "ce.show_legend(ax = ax, bbox_to_anchor =(1,1), frameon=False)\n",
    "sns.despine()"
   ]
  },
  {
   "cell_type": "code",
   "execution_count": 12,
   "metadata": {
    "collapsed": false
   },
   "outputs": [
    {
     "name": "stderr",
     "output_type": "stream",
     "text": [
      "/stor/work/Lambowitz/cdw2854/src/miniconda3/lib/python3.6/site-packages/numpy/core/_methods.py:135: RuntimeWarning: Degrees of freedom <= 0 for slice\n",
      "  keepdims=keepdims)\n",
      "/stor/work/Lambowitz/cdw2854/src/miniconda3/lib/python3.6/site-packages/numpy/core/_methods.py:127: RuntimeWarning: invalid value encountered in double_scalars\n",
      "  ret = ret.dtype.type(ret / rcount)\n",
      "/stor/work/Lambowitz/cdw2854/src/miniconda3/lib/python3.6/site-packages/matplotlib/font_manager.py:1328: UserWarning: findfont: Font family ['sans-serif'] not found. Falling back to DejaVu Sans\n",
      "  (prop.get_family(), self.defaultFamily[fontext]))\n"
     ]
    },
    {
     "data": {
      "image/png": "[encoded data removed]",
      "text/plain": [
       "<Figure size 432x288 with 1 Axes>"
      ]
     },
     "metadata": {},
     "output_type": "display_data"
    }
   ],
   "source": [
    "ax = plt.subplot()\n",
    "\n",
    "for gt, gd in peak_df\\\n",
    "            .query('pileup >= %i' %(pileup_cutoff))\\\n",
    "            .assign(peak_width = lambda d: (d.end-d.start))\\\n",
    "            .groupby('sense_gtype'):\n",
    "    alpha = 1 if gt in [\"Long RNA\"] else 1\n",
    "    sns.distplot(gd.peak_width, ax = ax, kde_kws={'alpha':alpha},\n",
    "                label = gt, color = ce.encoder[gt],\n",
    "                hist=False)\n",
    "lgd = ax.legend(frameon=False)\n",
    "for lh in lgd.legendHandles: \n",
    "    lh.set_alpha(1)\n",
    "ax.set_ylabel('Density')\n",
    "ax.set_xlabel('Peak width ($log_{10}$ nt)')\n",
    "\n",
    "x_range = np.arange(1,500, 50)\n",
    "ax.set_xlim(x_range.min(), x_range.max())\n",
    "ax.set_xticks(x_range)\n",
    "for xt, x in zip(ax.get_xticklabels(), x_range):\n",
    "    xt.set_text(r'$10^{%s}$' %(x))"
   ]
  },
  {
   "cell_type": "code",
   "execution_count": null,
   "metadata": {
    "collapsed": false,
    "scrolled": false
   },
   "outputs": [],
   "source": [
    "fig = plt.figure(figsize=(10,8))\n",
    "cov_ax = fig.add_subplot(221)\n",
    "number_ax = fig.add_subplot(223)\n",
    "dist_cov_ax = fig.add_subplot(222)\n",
    "#peak_annotation_ax = fig.add_subplot(224)\n",
    "\n",
    "plot_peak_coverage(peak_df, cov_ax, log=True)\n",
    "#plot_cov_density(peak_df, dist_cov_ax)\n",
    "plot_peak_cum_cov(peak_df, dist_cov_ax)\n",
    "plot_peak_number(peak_df, number_ax, ce)\n",
    "#### add hepG2\n",
    "#combined_peaks = pd.concat([peak_df.assign(annotation = 'K562'),\n",
    "#                        hep_peak_df.assign(annotation = 'K562 + HepG2')])\n",
    "#plot_peak_bar(peak_annotation_ax, combined_peaks)\n",
    "fig.tight_layout()\n",
    "\n",
    "figurename = figure_path + '/peak_qc.pdf'\n",
    "fig.savefig(figurename, bbox_inches = 'tight')\n",
    "print('Plotted: ', figurename)"
   ]
  },
  {
   "cell_type": "code",
   "execution_count": null,
   "metadata": {
    "collapsed": false
   },
   "outputs": [],
   "source": [
    "lR_peak = peak_df[peak_df.sense_gtype.str.contains('Long RNA')] \\\n",
    "    .sort_values('log10p', ascending=False) \n",
    "lR_peak.head(20)"
   ]
  },
  {
   "cell_type": "code",
   "execution_count": null,
   "metadata": {
    "collapsed": false
   },
   "outputs": [],
   "source": [
    "anti_peaks.antisense_gtype.unique()"
   ]
  },
  {
   "cell_type": "code",
   "execution_count": null,
   "metadata": {
    "collapsed": false
   },
   "outputs": [],
   "source": [
    "anti_peaks = peak_df.query('is_sense == \"Antisense\"')\\\n",
    "    .pipe(lambda d: d[~d.antisense_gtype.str.contains('tRF')])"
   ]
  },
  {
   "cell_type": "code",
   "execution_count": null,
   "metadata": {
    "collapsed": false
   },
   "outputs": [],
   "source": [
    "fig = plt.figure(figsize=(10,5))\n",
    "ax = fig.add_axes([0,0.1,0.4,0.8])\n",
    "plot_peak_pie(anti_peaks, ax, ce, gtype='antisense_gtype')\n",
    "ax = fig.add_axes([0.7, 0, 0.4, 1])\n",
    "anti_plot = anti_peaks.nlargest(15, 'log10p')\n",
    "anti_plot.plot\\\n",
    "    .bar('antisense_gname', 'log10p', \n",
    "         color = ce.transform(anti_plot\\\n",
    "                               .antisense_gtype),\n",
    "        ax = ax)\n",
    "ax.legend().set_visible(False)\n",
    "ax.set_xlabel('RNA type')\n",
    "ax.set_ylabel('-$log_{10}$ p-value')\n",
    "sns.despine()\n",
    "fig.tight_layout()\n",
    "figurename = figure_path + '/peak_anti.pdf'\n",
    "fig.savefig(figurename, bbox_inches = 'tight')\n",
    "print('Plotted: ', figurename)"
   ]
  },
  {
   "cell_type": "code",
   "execution_count": null,
   "metadata": {
    "collapsed": true
   },
   "outputs": [],
   "source": [
    "bam_path = '/stor/work/Lambowitz/cdw2854/cell_Free_nucleotides/tgirt_map/merged_bam'\n",
    "ref_path = '/stor/work/Lambowitz/ref/hg19'\n",
    "tracks = {'DNase I': bam_path + '/unfragmented.bam',\n",
    "         'NaOH': bam_path + '/alkaline_hydrolysis.bam',\n",
    "         'sncRNA': ref_path + '/new_genes/sncRNA_viz.bed',\n",
    "         'Protein': ref_path + '/new_genes/genes.bed12.bed'}\n",
    "genome = ref_path + '/genome/hg19_genome.fa'\n",
    "\n",
    "def color_func(interval):\n",
    "    return 'salmon' if get_strand(interval.read) == '+' else 'steelblue'"
   ]
  },
  {
   "cell_type": "markdown",
   "metadata": {
    "collapsed": false
   },
   "source": [
    "regions = 'chr14:50329268-50329569'\n",
    "matches = re.search('(chr[0-9XY]+):([0-9]+)-([0-9]+)', regions)\n",
    "chrom, start, end = matches.groups()\n",
    "\n",
    "viz = genomeview.visualize_data(tracks, chrom, int(start)-400, int(end)+400, genome)\n",
    "for track in ['DNase I', 'NaOH']:\n",
    "    tr = genomeview.get_one_track(viz, track)\n",
    "    tr.color_fn = color_func\n",
    "    if track == \"DNase I\":\n",
    "        tr.row_height = 0.02\n",
    "\n",
    "viz"
   ]
  },
  {
   "cell_type": "code",
   "execution_count": null,
   "metadata": {
    "collapsed": false
   },
   "outputs": [],
   "source": [
    "fa = pysam.FastaFile('/stor/work/Lambowitz/ref/hg19/genome/hg19_genome.fa')\n",
    "fa.fetch('chr12',22158771,22158870)"
   ]
  },
  {
   "cell_type": "code",
   "execution_count": null,
   "metadata": {
    "collapsed": false
   },
   "outputs": [],
   "source": [
    "columns = peak_df.columns\n",
    "columns = np.append(columns,['intron_chrom','intron_start','intron_end',\n",
    "               'intron_gene','intron_score','intron_strand'])\n",
    "intron_df = BedTool()\\\n",
    "    .from_dataframe(peak_df )\\\n",
    "    .intersect('/stor/work/Lambowitz/ref/hg19/genome/independent_intron.bed', \n",
    "               f= 0.8,F=0.8,wb=True)\\\n",
    "    .to_dataframe(names = columns)\n",
    "intron_df.shape"
   ]
  },
  {
   "cell_type": "code",
   "execution_count": null,
   "metadata": {
    "collapsed": false
   },
   "outputs": [],
   "source": [
    "intron_df \\\n",
    "    .query('pileup >= 5' )"
   ]
  },
  {
   "cell_type": "code",
   "execution_count": null,
   "metadata": {
    "collapsed": false
   },
   "outputs": [],
   "source": [
    "ss_dinucleotide = defaultdict(int)\n",
    "ss_dinucleotide_seq = defaultdict(list)\n",
    "seqs = []\n",
    "fa = pysam.Fastafile('/stor/work/Lambowitz/ref/hg19/genome/hg19_genome.fa')\n",
    "def fetch_seq(chrom, start, end, strand):\n",
    "    intron_seq = fa.fetch(chrom, start - 1, end)\n",
    "    intron_seq = intron_seq if strand == \"+\" else reverse_complement(intron_seq)\n",
    "    return intron_seq\n",
    "    \n",
    "    \n",
    "\n",
    "intron_df = intron_df.query('pileup >=3') \\\n",
    "    .assign(seq = lambda d: list(map(fetch_seq, d.chrom, d.start, d.end, d.strand))) \\\n",
    "    .assign(dinucleotide = lambda d: d.seq.str.slice(0,2) + ':' + (d.seq + 'N').str.slice(-3,-1))\n",
    "intron_df.head()"
   ]
  },
  {
   "cell_type": "code",
   "execution_count": null,
   "metadata": {
    "collapsed": false
   },
   "outputs": [],
   "source": [
    "tablename = figure_path + '/intron_table.csv'\n",
    "intron_df \\\n",
    "    .filter(regex='chrom|start|end|log10|pileup|intron_gene|seq') \\\n",
    "    .sort_values('pileup', ascending=False)\\\n",
    "    .to_csv(tablename, index=False)\n",
    "print('Written: ', tablename)"
   ]
  },
  {
   "cell_type": "code",
   "execution_count": null,
   "metadata": {
    "collapsed": false
   },
   "outputs": [],
   "source": [
    "intron_df.query('pileup >= %i' %pileup_cutoff) \\\n",
    "    .assign(length = lambda d: d.end - d.start) \\\n",
    "    .describe()"
   ]
  },
  {
   "cell_type": "code",
   "execution_count": null,
   "metadata": {
    "collapsed": false
   },
   "outputs": [],
   "source": [
    "%load_ext autoreload\n",
    "%autoreload 2\n",
    "import mygene as mg\n",
    "import gseapy as gsp\n",
    "mgi = mg.MyGeneInfo()\n",
    "\n",
    "glist = intron_df.query('pileup >= %i' %pileup_cutoff) \\\n",
    "    .filter(['pileup','gid']) \\\n",
    "    .assign(ensg = lambda d: d.gid.str.extract('(ENSG[0-9]+)')) \\\n",
    "    .assign(symbol = lambda d: list(map(lambda x: x['symbol'], mgi.getgenes(d.ensg))))"
   ]
  },
  {
   "cell_type": "code",
   "execution_count": null,
   "metadata": {
    "collapsed": false
   },
   "outputs": [],
   "source": [
    "glist"
   ]
  },
  {
   "cell_type": "code",
   "execution_count": null,
   "metadata": {
    "collapsed": false
   },
   "outputs": [],
   "source": [
    "%tb\n",
    "rnk = glist\\\n",
    "    .filter(['symbol','pileup']) \\\n",
    "    .pipe(lambda d: d[~d.symbol.str.contains('^AC')])\\\n",
    "    .rename(columns={'symbol':'gene_name'})\n",
    "#res = gsp.prerank(rnk = rnk, gene_sets='/stor/work/Lambowitz/ref/gene_sets/c2.all.v6.2.symbols.gmt')\n",
    "print('\\n'.join(rnk.gene_name.tolist()))\n",
    "\n"
   ]
  },
  {
   "cell_type": "code",
   "execution_count": null,
   "metadata": {
    "collapsed": false
   },
   "outputs": [],
   "source": [
    "peaks\\\n",
    "    .query('merged_type == \"miRNA\"')\\\n",
    "    .filter(regex='log10p|picked_RNA_sense')\\\n",
    "    .set_index('picked_RNA_sense')\\\n",
    "    .nlargest(10, 'log10p')\\\n",
    "    .plot.bar() "
   ]
  },
  {
   "cell_type": "code",
   "execution_count": null,
   "metadata": {
    "collapsed": false
   },
   "outputs": [],
   "source": [
    "peaks.pipe(lambda d: d[d.picked_RNA_sense.str.contains(\"CGGA\")])"
   ]
  },
  {
   "cell_type": "code",
   "execution_count": null,
   "metadata": {
    "collapsed": false
   },
   "outputs": [],
   "source": [
    "peaks\\\n",
    "    .assign(anti_merged_type = lambda d: d.picked_type_anti.map(merge_type)) \\\n",
    "    .query('merged_type == \"Repeats\" | (anti_merged_type == \"Repeats\" & is_sense != \"Sense\")')"
   ]
  },
  {
   "cell_type": "code",
   "execution_count": null,
   "metadata": {
    "collapsed": false
   },
   "outputs": [],
   "source": [
    "peaks\\\n",
    "    .query('merged_type==\"RBP\"')\\\n",
    "    .pipe(lambda d: d[~d.gtype.str.contains(lrna_regex)])"
   ]
  },
  {
   "cell_type": "code",
   "execution_count": null,
   "metadata": {
    "collapsed": false
   },
   "outputs": [],
   "source": [
    "import gseapy as gsp"
   ]
  },
  {
   "cell_type": "code",
   "execution_count": null,
   "metadata": {
    "collapsed": false
   },
   "outputs": [],
   "source": [
    "res = gsp.prerank(rnk = rbp_df.sort_values(0,ascending=False),\n",
    "           gene_sets = 'KEGG_2016')"
   ]
  },
  {
   "cell_type": "code",
   "execution_count": null,
   "metadata": {
    "collapsed": false
   },
   "outputs": [],
   "source": [
    "res.res2d"
   ]
  },
  {
   "cell_type": "code",
   "execution_count": null,
   "metadata": {
    "collapsed": false
   },
   "outputs": [],
   "source": []
  },
  {
   "cell_type": "code",
   "execution_count": null,
   "metadata": {
    "collapsed": false
   },
   "outputs": [],
   "source": [
    "aligner = mp.Aligner('/stor/work/Lambowitz/ref/hg19/genome/chrM.minimap2_idx', preset='sr')\n",
    "aln = aligner.map(fa.fetch('chr17',33981908,33982067))"
   ]
  },
  {
   "cell_type": "code",
   "execution_count": null,
   "metadata": {
    "collapsed": false
   },
   "outputs": [],
   "source": [
    "print(next(aln))"
   ]
  },
  {
   "cell_type": "code",
   "execution_count": null,
   "metadata": {
    "collapsed": false
   },
   "outputs": [],
   "source": [
    "def check_MT(peaks, return_column=False):\n",
    "    mt = 0\n",
    "    aligner = mp.Aligner('/stor/work/Lambowitz/ref/hg19/genome/chrM.minimap2_idx', preset='sr')\n",
    "    fa = pysam.FastaFile('/stor/work/Lambowitz/ref/hg19/genome/hg19_genome.fa')\n",
    "    mts = []\n",
    "    for peak_count, row in peaks.reset_index().iterrows():\n",
    "        seq = fa.fetch(row['chrom'], row['start'], row['end'])\n",
    "        seq = seq if row['strand'] == \"+\" else reverse_complement(seq)\n",
    "    \n",
    "        alns = aligner.map(seq)\n",
    "        try:\n",
    "            aln = next(alns)\n",
    "            mt += 1\n",
    "            mts.append('MT')\n",
    "            #print(aln.cigar_str)\n",
    "        except StopIteration:\n",
    "            #print(row)\n",
    "            mts.append('no')\n",
    "            pass\n",
    "\n",
    "\n",
    "    print('%i seq: %i in MT' %(peak_count, mt))\n",
    "    if return_column:\n",
    "        return mts"
   ]
  },
  {
   "cell_type": "code",
   "execution_count": null,
   "metadata": {
    "collapsed": false
   },
   "outputs": [],
   "source": [
    "anti = peak_df.query('pileup >= 5').query('is_sense == \"Unannotated\"')\n",
    "anti['MT'] = check_MT(anti, return_column=True)"
   ]
  },
  {
   "cell_type": "code",
   "execution_count": null,
   "metadata": {
    "collapsed": false
   },
   "outputs": [],
   "source": [
    "peak_df.query(\"sense_gtype == 'tRF3'\")"
   ]
  },
  {
   "cell_type": "code",
   "execution_count": null,
   "metadata": {
    "collapsed": true
   },
   "outputs": [],
   "source": []
  }
 ],
 "metadata": {
  "kernelspec": {
   "display_name": "miniconda3",
   "language": "python",
   "name": "python3"
  },
  "language_info": {
   "codemirror_mode": {
    "name": "ipython",
    "version": 3
   },
   "file_extension": ".py",
   "mimetype": "text/x-python",
   "name": "python",
   "nbconvert_exporter": "python",
   "pygments_lexer": "ipython3",
   "version": "3.6.3"
  }
 },
 "nbformat": 4,
 "nbformat_minor": 2
}
