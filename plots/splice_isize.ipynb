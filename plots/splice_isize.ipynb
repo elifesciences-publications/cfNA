{
 "cells": [
  {
   "cell_type": "code",
   "execution_count": 88,
   "metadata": {
    "collapsed": true
   },
   "outputs": [],
   "source": [
    "%matplotlib inline\n",
    "\n",
    "import matplotlib.pyplot as plt\n",
    "import pysam\n",
    "import seaborn as sns\n",
    "from operator import itemgetter\n",
    "from collections import defaultdict, Counter\n",
    "import pandas as pd\n",
    "import re\n",
    "from sequencing_tools.bam_tools import concordant_alignment, cigar_to_str\n",
    "\n",
    "plt.rc('axes', labelsize=15)\n",
    "plt.rc('xtick', labelsize =15)\n",
    "plt.rc('ytick', labelsize = 15)"
   ]
  },
  {
   "cell_type": "code",
   "execution_count": 89,
   "metadata": {
    "collapsed": false
   },
   "outputs": [],
   "source": [
    "bed_file = '/stor/work/Lambowitz/cdw2854/cell_Free_nucleotides/tgirt_map/merged_bam/filtered_bam/unfragmented.protein_sense.bed'\n",
    "splice_finder = re.compile('[0-9]+N')\n",
    "bases_finder = re.compile('[0-9]+')\n",
    "\n",
    "isize_dict = defaultdict(lambda: defaultdict(int))\n",
    "for bed_line in open(bed_file):\n",
    "    fields = bed_line.strip().split('\\t')\n",
    "    start, end, cigars = itemgetter(1,2,-1)(fields)\n",
    "    frag_size = int(end) - int(start)\n",
    "    spliced = splice_finder.findall(cigars)\n",
    "    label = 'Not spliced'\n",
    "    if spliced and len(spliced)==1:\n",
    "        label = 'Spliced'\n",
    "        bases = set()\n",
    "        for splice in spliced:\n",
    "            bases.add(int(bases_finder.search(splice).group(0)))\n",
    "        frag_size -= sum(bases)\n",
    "        if frag_size < 0:\n",
    "            print(bases, frag_size, int(end) - int(start), bed_line)\n",
    "    \n",
    "    isize_dict[label][frag_size] += 1"
   ]
  },
  {
   "cell_type": "code",
   "execution_count": 92,
   "metadata": {
    "collapsed": false
   },
   "outputs": [],
   "source": [
    "dfs = []\n",
    "for label, label_df in isize_dict.items():\n",
    "    dfs.append(pd.DataFrame({'isize': list(label_df.keys()),\n",
    "                 'isize_count': list(label_df.values())}) \\\n",
    "        .assign(label = label))\n",
    "df = pd.concat(dfs) \\\n",
    "    .sort_values('isize')\\\n",
    "    .query('isize < 500')\\\n",
    "    .assign(fraction = lambda d: d.groupby('label').isize_count.transform(lambda x: 100 * x/x.sum()))\\\n"
   ]
  },
  {
   "cell_type": "code",
   "execution_count": 94,
   "metadata": {
    "collapsed": false
   },
   "outputs": [
    {
     "data": {
      "text/plain": [
       "<seaborn.axisgrid.FacetGrid at 0x7fbb7c4d8d30>"
      ]
     },
     "execution_count": 94,
     "metadata": {},
     "output_type": "execute_result"
    },
    {
     "data": {
      "image/png": "[encoded data removed]",
      "text/plain": [
       "<Figure size 451.75x360 with 1 Axes>"
      ]
     },
     "metadata": {},
     "output_type": "display_data"
    }
   ],
   "source": [
    "p = sns.FacetGrid(data = df.sort_values('isize'), \n",
    "                  hue = 'label',\n",
    "                 size=5)\n",
    "p.map(plt.plot, 'isize', 'fraction')\n",
    "p.add_legend(title = '')\n",
    "p.set_axis_labels('Fragment size', '% fragments ')"
   ]
  },
  {
   "cell_type": "code",
   "execution_count": 66,
   "metadata": {
    "collapsed": false
   },
   "outputs": [
    {
     "data": {
      "text/html": [
       "<div>\n",
       "<style scoped>\n",
       "    .dataframe tbody tr th:only-of-type {\n",
       "        vertical-align: middle;\n",
       "    }\n",
       "\n",
       "    .dataframe tbody tr th {\n",
       "        vertical-align: top;\n",
       "    }\n",
       "\n",
       "    .dataframe thead th {\n",
       "        text-align: right;\n",
       "    }\n",
       "</style>\n",
       "<table border=\"1\" class=\"dataframe\">\n",
       "  <thead>\n",
       "    <tr style=\"text-align: right;\">\n",
       "      <th></th>\n",
       "      <th>isize</th>\n",
       "      <th>isize_count</th>\n",
       "      <th>label</th>\n",
       "    </tr>\n",
       "  </thead>\n",
       "  <tbody>\n",
       "    <tr>\n",
       "      <th>0</th>\n",
       "      <td>159</td>\n",
       "      <td>329222</td>\n",
       "      <td>Not spliced</td>\n",
       "    </tr>\n",
       "    <tr>\n",
       "      <th>0</th>\n",
       "      <td>159</td>\n",
       "      <td>8625</td>\n",
       "      <td>Spliced</td>\n",
       "    </tr>\n",
       "  </tbody>\n",
       "</table>\n",
       "</div>"
      ],
      "text/plain": [
       "   isize  isize_count        label\n",
       "0    159       329222  Not spliced\n",
       "0    159         8625      Spliced"
      ]
     },
     "execution_count": 66,
     "metadata": {},
     "output_type": "execute_result"
    }
   ],
   "source": [
    "df"
   ]
  },
  {
   "cell_type": "code",
   "execution_count": null,
   "metadata": {
    "collapsed": true
   },
   "outputs": [],
   "source": []
  }
 ],
 "metadata": {
  "kernelspec": {
   "display_name": "miniconda3",
   "language": "python",
   "name": "python3"
  },
  "language_info": {
   "codemirror_mode": {
    "name": "ipython",
    "version": 3
   },
   "file_extension": ".py",
   "mimetype": "text/x-python",
   "name": "python",
   "nbconvert_exporter": "python",
   "pygments_lexer": "ipython3",
   "version": "3.6.4"
  }
 },
 "nbformat": 4,
 "nbformat_minor": 2
}
