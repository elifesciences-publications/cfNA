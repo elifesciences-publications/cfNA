{
 "cells": [
  {
   "cell_type": "code",
   "execution_count": 16,
   "metadata": {
    "collapsed": true
   },
   "outputs": [],
   "source": [
    "%matplotlib inline\n",
    "\n",
    "import matplotlib.pyplot as plt\n",
    "import seaborn as sns\n",
    "import pandas as pd\n",
    "import numpy as np\n",
    "import glob\n",
    "import re\n",
    "import os\n",
    "plt.rc('axes', labelsize=15)\n",
    "plt.rc('xtick', labelsize = 15)\n",
    "plt.rc('ytick', labelsize = 15)\n",
    "\n",
    "def label_sample(x):\n",
    "    if 'HS' in x:\n",
    "        return 'High salt'\n",
    "    elif 'Frag' in x:\n",
    "        return 'Fragmented'\n",
    "    elif re.search('N[aA]', x):\n",
    "        return 'Alkaline hydrolysis'\n",
    "    elif re.search('L[12]',x):\n",
    "        return 'PolyA-selected'\n",
    "    elif re.search('Exo|ED|DE', x):\n",
    "        return 'Exonuclease I'\n",
    "    elif 'All' in x:\n",
    "        return 'Untreated'\n",
    "    else:\n",
    "        return 'Unfragmented'\n",
    "    \n",
    "def read_dedup(x):\n",
    "    samplename = os.path.basename(x)\n",
    "    dedup_file = x + '/Combined/primary.deduplicated.dedup_metric'\n",
    "    if os.path.isfile(dedup_file)  and os.stat(dedup_file).st_size != 0:\n",
    "        return pd.read_table(dedup_file,\n",
    "                         skiprows = 6, nrows = 1)\\\n",
    "            .pipe(pd.melt)\\\n",
    "            .assign(samplename = samplename) "
   ]
  },
  {
   "cell_type": "code",
   "execution_count": 22,
   "metadata": {
    "collapsed": false
   },
   "outputs": [
    {
     "data": {
      "text/html": [
       "<div>\n",
       "<style scoped>\n",
       "    .dataframe tbody tr th:only-of-type {\n",
       "        vertical-align: middle;\n",
       "    }\n",
       "\n",
       "    .dataframe tbody tr th {\n",
       "        vertical-align: top;\n",
       "    }\n",
       "\n",
       "    .dataframe thead th {\n",
       "        text-align: right;\n",
       "    }\n",
       "</style>\n",
       "<table border=\"1\" class=\"dataframe\">\n",
       "  <thead>\n",
       "    <tr style=\"text-align: right;\">\n",
       "      <th>variable</th>\n",
       "      <th>samplename</th>\n",
       "      <th>prep</th>\n",
       "      <th>ESTIMATED_LIBRARY_SIZE</th>\n",
       "      <th>READ_PAIRS_EXAMINED</th>\n",
       "    </tr>\n",
       "  </thead>\n",
       "  <tbody>\n",
       "    <tr>\n",
       "      <th>0</th>\n",
       "      <td>QCF1_R1_001</td>\n",
       "      <td>Unfragmented</td>\n",
       "      <td>299326</td>\n",
       "      <td>1303952</td>\n",
       "    </tr>\n",
       "    <tr>\n",
       "      <th>1</th>\n",
       "      <td>QCF2_R1_001</td>\n",
       "      <td>Unfragmented</td>\n",
       "      <td>352664</td>\n",
       "      <td>1672014</td>\n",
       "    </tr>\n",
       "    <tr>\n",
       "      <th>2</th>\n",
       "      <td>Qcf10_R1_001</td>\n",
       "      <td>Unfragmented</td>\n",
       "      <td>367874</td>\n",
       "      <td>566922</td>\n",
       "    </tr>\n",
       "    <tr>\n",
       "      <th>3</th>\n",
       "      <td>Qcf4_R1_001</td>\n",
       "      <td>Unfragmented</td>\n",
       "      <td>271336</td>\n",
       "      <td>659257</td>\n",
       "    </tr>\n",
       "    <tr>\n",
       "      <th>4</th>\n",
       "      <td>Qcf5_R1_001</td>\n",
       "      <td>Unfragmented</td>\n",
       "      <td>231661</td>\n",
       "      <td>446012</td>\n",
       "    </tr>\n",
       "  </tbody>\n",
       "</table>\n",
       "</div>"
      ],
      "text/plain": [
       "variable    samplename          prep  ESTIMATED_LIBRARY_SIZE  \\\n",
       "0          QCF1_R1_001  Unfragmented                  299326   \n",
       "1          QCF2_R1_001  Unfragmented                  352664   \n",
       "2         Qcf10_R1_001  Unfragmented                  367874   \n",
       "3          Qcf4_R1_001  Unfragmented                  271336   \n",
       "4          Qcf5_R1_001  Unfragmented                  231661   \n",
       "\n",
       "variable  READ_PAIRS_EXAMINED  \n",
       "0                     1303952  \n",
       "1                     1672014  \n",
       "2                      566922  \n",
       "3                      659257  \n",
       "4                      446012  "
      ]
     },
     "execution_count": 22,
     "metadata": {},
     "output_type": "execute_result"
    }
   ],
   "source": [
    "project_path = '/stor/work/Lambowitz/cdw2854/cell_Free_nucleotides/tgirt_map'\n",
    "samples = glob.glob(project_path + '/*R1_001')\n",
    "samples = filter(lambda x: re.search('Q[cC][fF]', x), samples)\n",
    "samples = filter(lambda x:  not re.search('L[12]', x), samples)\n",
    "samples = list(samples)\n",
    "\n",
    "df = map(read_dedup, samples)\n",
    "df = filter(lambda x: x is not None, df)\n",
    "\n",
    "\n",
    "y = 'ESTIMATED_LIBRARY_SIZE'\n",
    "x = 'READ_PAIRS_EXAMINED'\n",
    "df = pd.concat(df) \\\n",
    "    .pipe(lambda d: d[d.variable.str.contains(\"^%s$|^%s$\" %(y,x))]) \\\n",
    "    .assign(prep = lambda d: d.samplename.map(label_sample)) \\\n",
    "    .assign(value = lambda d: d['value'].astype(int))\\\n",
    "    .pipe(pd.pivot_table, \n",
    "              columns = 'variable', \n",
    "              values = 'value',\n",
    "              index = ['samplename', 'prep'])\\\n",
    "    .reset_index()\n",
    "df.head()"
   ]
  },
  {
   "cell_type": "code",
   "execution_count": 23,
   "metadata": {
    "collapsed": false
   },
   "outputs": [
    {
     "name": "stderr",
     "output_type": "stream",
     "text": [
      "/stor/work/Lambowitz/cdw2854/src/miniconda3/lib/python3.6/site-packages/matplotlib/font_manager.py:1328: UserWarning: findfont: Font family ['sans-serif'] not found. Falling back to DejaVu Sans\n",
      "  (prop.get_family(), self.defaultFamily[fontext]))\n"
     ]
    },
    {
     "data": {
      "text/plain": [
       "<seaborn.axisgrid.FacetGrid at 0x7f38aedc5780>"
      ]
     },
     "execution_count": 23,
     "metadata": {},
     "output_type": "execute_result"
    },
    {
     "data": {
      "image/png": "[encoded data removed]",
      "text/plain": [
       "<Figure size 468.5x360 with 1 Axes>"
      ]
     },
     "metadata": {},
     "output_type": "display_data"
    }
   ],
   "source": [
    "p = sns.FacetGrid(data = df\\\n",
    "                      .pipe(lambda d: d[~d.prep.str.contains('Unt|Al|^Fra')]), \n",
    "                  hue = 'prep',size = 5)\n",
    "#p.map(sns.regplot, x, y,, hue='prep', size = 5)\n",
    "#      scatter_kws = {'alpha':1},\n",
    "#      ci=None)\n",
    "p.map(plt.scatter, x,y)\n",
    "p.add_legend()\n",
    "#p.set(xlim = (df[x].min()-100000,df[x].max()),\n",
    "#     ylim = (df[y].min()-1000000, df[y].max()))"
   ]
  },
  {
   "cell_type": "code",
   "execution_count": 24,
   "metadata": {
    "collapsed": false
   },
   "outputs": [
    {
     "data": {
      "text/html": [
       "<div>\n",
       "<style scoped>\n",
       "    .dataframe tbody tr th:only-of-type {\n",
       "        vertical-align: middle;\n",
       "    }\n",
       "\n",
       "    .dataframe tbody tr th {\n",
       "        vertical-align: top;\n",
       "    }\n",
       "\n",
       "    .dataframe thead th {\n",
       "        text-align: right;\n",
       "    }\n",
       "</style>\n",
       "<table border=\"1\" class=\"dataframe\">\n",
       "  <thead>\n",
       "    <tr style=\"text-align: right;\">\n",
       "      <th></th>\n",
       "      <th>variable</th>\n",
       "      <th>value</th>\n",
       "      <th>samplename</th>\n",
       "      <th>prep</th>\n",
       "    </tr>\n",
       "  </thead>\n",
       "  <tbody>\n",
       "    <tr>\n",
       "      <th>8</th>\n",
       "      <td>PERCENT_DUPLICATION</td>\n",
       "      <td>0.056994</td>\n",
       "      <td>Qcf_NA2_R1_001</td>\n",
       "      <td>Alkaline hydrolysis</td>\n",
       "    </tr>\n",
       "    <tr>\n",
       "      <th>8</th>\n",
       "      <td>PERCENT_DUPLICATION</td>\n",
       "      <td>0.070474</td>\n",
       "      <td>Qcf_All1_R1_001</td>\n",
       "      <td>Untreated</td>\n",
       "    </tr>\n",
       "    <tr>\n",
       "      <th>8</th>\n",
       "      <td>PERCENT_DUPLICATION</td>\n",
       "      <td>0.102279</td>\n",
       "      <td>Qcf_Na1_R1_001</td>\n",
       "      <td>Alkaline hydrolysis</td>\n",
       "    </tr>\n",
       "    <tr>\n",
       "      <th>8</th>\n",
       "      <td>PERCENT_DUPLICATION</td>\n",
       "      <td>0.147922</td>\n",
       "      <td>Qcf_Frag1_R1_001</td>\n",
       "      <td>Fragmented</td>\n",
       "    </tr>\n",
       "    <tr>\n",
       "      <th>8</th>\n",
       "      <td>PERCENT_DUPLICATION</td>\n",
       "      <td>0.444108</td>\n",
       "      <td>Qcf_ED1_R1_001</td>\n",
       "      <td>Exonuclease I</td>\n",
       "    </tr>\n",
       "    <tr>\n",
       "      <th>8</th>\n",
       "      <td>PERCENT_DUPLICATION</td>\n",
       "      <td>0.490064</td>\n",
       "      <td>Qcf10_R1_001</td>\n",
       "      <td>Unfragmented</td>\n",
       "    </tr>\n",
       "    <tr>\n",
       "      <th>8</th>\n",
       "      <td>PERCENT_DUPLICATION</td>\n",
       "      <td>0.491696</td>\n",
       "      <td>Qcf_Exo1_R1_001</td>\n",
       "      <td>Exonuclease I</td>\n",
       "    </tr>\n",
       "    <tr>\n",
       "      <th>8</th>\n",
       "      <td>PERCENT_DUPLICATION</td>\n",
       "      <td>0.513787</td>\n",
       "      <td>Qcf9_R1_001</td>\n",
       "      <td>Unfragmented</td>\n",
       "    </tr>\n",
       "    <tr>\n",
       "      <th>8</th>\n",
       "      <td>PERCENT_DUPLICATION</td>\n",
       "      <td>0.517283</td>\n",
       "      <td>Qcf_Frag2_R1_001</td>\n",
       "      <td>Fragmented</td>\n",
       "    </tr>\n",
       "    <tr>\n",
       "      <th>8</th>\n",
       "      <td>PERCENT_DUPLICATION</td>\n",
       "      <td>0.538991</td>\n",
       "      <td>Qcf8_R1_001</td>\n",
       "      <td>Unfragmented</td>\n",
       "    </tr>\n",
       "    <tr>\n",
       "      <th>8</th>\n",
       "      <td>PERCENT_DUPLICATION</td>\n",
       "      <td>0.539505</td>\n",
       "      <td>Qcf6_SS_R1_001</td>\n",
       "      <td>Unfragmented</td>\n",
       "    </tr>\n",
       "    <tr>\n",
       "      <th>8</th>\n",
       "      <td>PERCENT_DUPLICATION</td>\n",
       "      <td>0.556342</td>\n",
       "      <td>Qcf5_R1_001</td>\n",
       "      <td>Unfragmented</td>\n",
       "    </tr>\n",
       "    <tr>\n",
       "      <th>8</th>\n",
       "      <td>PERCENT_DUPLICATION</td>\n",
       "      <td>0.560656</td>\n",
       "      <td>Qcf_DE1_R1_001</td>\n",
       "      <td>Exonuclease I</td>\n",
       "    </tr>\n",
       "    <tr>\n",
       "      <th>8</th>\n",
       "      <td>PERCENT_DUPLICATION</td>\n",
       "      <td>0.624667</td>\n",
       "      <td>Qcf4_R1_001</td>\n",
       "      <td>Unfragmented</td>\n",
       "    </tr>\n",
       "    <tr>\n",
       "      <th>8</th>\n",
       "      <td>PERCENT_DUPLICATION</td>\n",
       "      <td>0.654456</td>\n",
       "      <td>Qcf7_R1_001</td>\n",
       "      <td>Unfragmented</td>\n",
       "    </tr>\n",
       "    <tr>\n",
       "      <th>8</th>\n",
       "      <td>PERCENT_DUPLICATION</td>\n",
       "      <td>0.700712</td>\n",
       "      <td>Qcf_HS3_R1_001</td>\n",
       "      <td>High salt</td>\n",
       "    </tr>\n",
       "    <tr>\n",
       "      <th>8</th>\n",
       "      <td>PERCENT_DUPLICATION</td>\n",
       "      <td>0.738205</td>\n",
       "      <td>Qcf_HS2_R1_001</td>\n",
       "      <td>High salt</td>\n",
       "    </tr>\n",
       "    <tr>\n",
       "      <th>8</th>\n",
       "      <td>PERCENT_DUPLICATION</td>\n",
       "      <td>0.773391</td>\n",
       "      <td>QCF1_R1_001</td>\n",
       "      <td>Unfragmented</td>\n",
       "    </tr>\n",
       "    <tr>\n",
       "      <th>8</th>\n",
       "      <td>PERCENT_DUPLICATION</td>\n",
       "      <td>0.790919</td>\n",
       "      <td>QCF2_R1_001</td>\n",
       "      <td>Unfragmented</td>\n",
       "    </tr>\n",
       "    <tr>\n",
       "      <th>8</th>\n",
       "      <td>PERCENT_DUPLICATION</td>\n",
       "      <td>0.904744</td>\n",
       "      <td>Qcf_HS1_R1_001</td>\n",
       "      <td>High salt</td>\n",
       "    </tr>\n",
       "  </tbody>\n",
       "</table>\n",
       "</div>"
      ],
      "text/plain": [
       "              variable     value        samplename                 prep\n",
       "8  PERCENT_DUPLICATION  0.056994    Qcf_NA2_R1_001  Alkaline hydrolysis\n",
       "8  PERCENT_DUPLICATION  0.070474   Qcf_All1_R1_001            Untreated\n",
       "8  PERCENT_DUPLICATION  0.102279    Qcf_Na1_R1_001  Alkaline hydrolysis\n",
       "8  PERCENT_DUPLICATION  0.147922  Qcf_Frag1_R1_001           Fragmented\n",
       "8  PERCENT_DUPLICATION  0.444108    Qcf_ED1_R1_001        Exonuclease I\n",
       "8  PERCENT_DUPLICATION  0.490064      Qcf10_R1_001         Unfragmented\n",
       "8  PERCENT_DUPLICATION  0.491696   Qcf_Exo1_R1_001        Exonuclease I\n",
       "8  PERCENT_DUPLICATION  0.513787       Qcf9_R1_001         Unfragmented\n",
       "8  PERCENT_DUPLICATION  0.517283  Qcf_Frag2_R1_001           Fragmented\n",
       "8  PERCENT_DUPLICATION  0.538991       Qcf8_R1_001         Unfragmented\n",
       "8  PERCENT_DUPLICATION  0.539505    Qcf6_SS_R1_001         Unfragmented\n",
       "8  PERCENT_DUPLICATION  0.556342       Qcf5_R1_001         Unfragmented\n",
       "8  PERCENT_DUPLICATION  0.560656    Qcf_DE1_R1_001        Exonuclease I\n",
       "8  PERCENT_DUPLICATION  0.624667       Qcf4_R1_001         Unfragmented\n",
       "8  PERCENT_DUPLICATION  0.654456       Qcf7_R1_001         Unfragmented\n",
       "8  PERCENT_DUPLICATION  0.700712    Qcf_HS3_R1_001            High salt\n",
       "8  PERCENT_DUPLICATION  0.738205    Qcf_HS2_R1_001            High salt\n",
       "8  PERCENT_DUPLICATION  0.773391       QCF1_R1_001         Unfragmented\n",
       "8  PERCENT_DUPLICATION  0.790919       QCF2_R1_001         Unfragmented\n",
       "8  PERCENT_DUPLICATION  0.904744    Qcf_HS1_R1_001            High salt"
      ]
     },
     "execution_count": 24,
     "metadata": {},
     "output_type": "execute_result"
    }
   ],
   "source": [
    "df = pd.concat(map(read_dedup, samples)) \\\n",
    "    .pipe(lambda d: d[d.variable.str.contains(\"PERCEN\")]) \\\n",
    "    .assign(prep = lambda d: d.samplename.map(label_sample)) \\\n",
    "    .sort_values('value')\n",
    "df"
   ]
  },
  {
   "cell_type": "code",
   "execution_count": 25,
   "metadata": {
    "collapsed": false
   },
   "outputs": [
    {
     "data": {
      "text/plain": [
       "(0.5, 1)"
      ]
     },
     "execution_count": 25,
     "metadata": {},
     "output_type": "execute_result"
    },
    {
     "name": "stderr",
     "output_type": "stream",
     "text": [
      "/stor/work/Lambowitz/cdw2854/src/miniconda3/lib/python3.6/site-packages/matplotlib/font_manager.py:1328: UserWarning: findfont: Font family ['sans-serif'] not found. Falling back to DejaVu Sans\n",
      "  (prop.get_family(), self.defaultFamily[fontext]))\n"
     ]
    },
    {
     "data": {
      "image/png": "[encoded data removed]",
      "text/plain": [
       "<Figure size 432x288 with 1 Axes>"
      ]
     },
     "metadata": {},
     "output_type": "display_data"
    }
   ],
   "source": [
    "ax = plt.subplot() \n",
    "sns.swarmplot(data = df.pipe(lambda d: d[d.prep.str.contains('Unf|Hi')]), x = 'prep', y = 'value', ax = ax)\n",
    "xt = ax.set_xticklabels(ax.get_xticklabels(), rotation = 70, ha = 'right')\n",
    "ax.set_ylim(0.5,1)"
   ]
  },
  {
   "cell_type": "code",
   "execution_count": 32,
   "metadata": {
    "collapsed": false
   },
   "outputs": [
    {
     "data": {
      "text/plain": [
       "Ttest_indResult(statistic=-2.3396594175430017, pvalue=0.041363571647133453)"
      ]
     },
     "execution_count": 32,
     "metadata": {},
     "output_type": "execute_result"
    }
   ],
   "source": [
    "from scipy.stats import ttest_ind\n",
    "ttest_ind(df.query('prep == \"Unfragmented\"')['value'].values,\n",
    "         df.query('prep == \"High salt\"')['value'].values)"
   ]
  },
  {
   "cell_type": "code",
   "execution_count": null,
   "metadata": {
    "collapsed": true
   },
   "outputs": [],
   "source": []
  }
 ],
 "metadata": {
  "kernelspec": {
   "display_name": "miniconda3",
   "language": "python",
   "name": "python3"
  },
  "language_info": {
   "codemirror_mode": {
    "name": "ipython",
    "version": 3
   },
   "file_extension": ".py",
   "mimetype": "text/x-python",
   "name": "python",
   "nbconvert_exporter": "python",
   "pygments_lexer": "ipython3",
   "version": "3.6.3"
  }
 },
 "nbformat": 4,
 "nbformat_minor": 2
}
