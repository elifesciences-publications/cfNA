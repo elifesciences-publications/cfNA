{
 "cells": [
  {
   "cell_type": "code",
   "execution_count": 29,
   "metadata": {
    "collapsed": false
   },
   "outputs": [
    {
     "name": "stdout",
     "output_type": "stream",
     "text": [
      "The autoreload extension is already loaded. To reload it, use:\n",
      "  %reload_ext autoreload\n"
     ]
    }
   ],
   "source": [
    "%matplotlib inline\n",
    "%load_ext autoreload\n",
    "%autoreload 2\n",
    "\n",
    "import pandas as pd\n",
    "import numpy as np\n",
    "import matplotlib.pyplot as plt\n",
    "import seaborn as sns\n",
    "from pybedtools import BedTool\n",
    "import pysam\n",
    "import glob\n",
    "from operator import itemgetter\n",
    "from collections import defaultdict\n",
    "import os\n",
    "from plotting_utils import label_sample\n",
    "from multiprocessing import Pool"
   ]
  },
  {
   "cell_type": "code",
   "execution_count": 9,
   "metadata": {
    "collapsed": true
   },
   "outputs": [],
   "source": [
    "#%%bash\n",
    "#\n",
    "#REF_PATH=/stor/work/Lambowitz/ref/hg19\n",
    "#zcat $REF_PATH/genome/rmsk.bed.gz | grep 'TTAGGG\\|CCCTAA' > $REF_PATH/new_genes/TERRA.bed"
   ]
  },
  {
   "cell_type": "code",
   "execution_count": 51,
   "metadata": {
    "collapsed": false
   },
   "outputs": [],
   "source": [
    "def define_strand(terra_strand, aln):\n",
    "    strand = ''\n",
    "    sense_terra_positive = not aln.is_reverse and terra_strand == \"forward\"\n",
    "    sense_terra_negative = aln.is_reverse and terra_strand == '-'\n",
    "    \n",
    "    if sense_terra_positive or sense_terra_negative:\n",
    "        strand = 'Sense'\n",
    "    else:\n",
    "        strand = \"Antisense\"\n",
    "    return strand\n",
    "    \n",
    "def dict_to_df(terra_dict):\n",
    "    ds = []\n",
    "    for terra_strand, d1 in terra_dict.items():\n",
    "        for express_strand, d2 in d1.items():\n",
    "            ds.append(pd.DataFrame({'isize': list(d2.keys()),\n",
    "                         'count': list(d2.values())}) \\\n",
    "                        .assign(express_strand = express_strand,\n",
    "                               terra_strand = terra_strand))\n",
    "    return pd.concat(ds)\n",
    "    \n",
    "def extract_terra_length(bam):\n",
    "    samplename = os.path.basename(bam)\n",
    "    print('Running %s' %samplename)\n",
    "    \n",
    "    terra_bed = '/stor/work/Lambowitz/ref/hg19/new_genes/TERRA.bed'\n",
    "    terra_dict = defaultdict(lambda: defaultdict(lambda: defaultdict(int)))\n",
    "    pair_count = 0\n",
    "    with open(terra_bed) as bed, pysam.Samfile(bam,'rb') as bam:\n",
    "        for terra in bed:\n",
    "            fields = terra.split('\\t')\n",
    "            chrom, start, end, name = itemgetter(0,1,2,3)(fields)\n",
    "            terra_strand = 'forward' if 'TTAGGG' in name else 'reverse'\n",
    "            start, end = int(start), int(end)\n",
    "            \n",
    "            for aln in bam.fetch(chrom, start, end):\n",
    "                if aln.is_read1:\n",
    "                    express_strand = define_strand(terra_strand, aln)\n",
    "                    isize = aln.template_length\n",
    "                    terra_dict[terra_strand + '_' + name][express_strand][abs(isize)] += 1\n",
    "                pair_count += 1\n",
    "    print('%s: %i TERRA fragments' %(samplename, pair_count))\n",
    "    return dict_to_df(terra_dict) \\\n",
    "        .assign(samplename = samplename)"
   ]
  },
  {
   "cell_type": "code",
   "execution_count": 52,
   "metadata": {
    "collapsed": false
   },
   "outputs": [
    {
     "name": "stdout",
     "output_type": "stream",
     "text": [
      "Running unfragmented.bam\n",
      "Running alkaline_hydrolysis.bam\n",
      "Running untreated.bam\n",
      "unfragmented.bam: 2503 TERRA fragments\n",
      "untreated.bam: 2467 TERRA fragments\n",
      "alkaline_hydrolysis.bam: 2646 TERRA fragments\n"
     ]
    }
   ],
   "source": [
    "project_path = '/stor/work/Lambowitz/cdw2854/cell_Free_nucleotides/tgirt_map'\n",
    "bam_path = project_path + '/merged_bam'\n",
    "bam_files = map(lambda x: bam_path + '/' + x, ['unfragmented.bam',\n",
    "                                               'alkaline_hydrolysis.bam',\n",
    "                                               'untreated.bam'])\n",
    "p = Pool(24)\n",
    "dfs = p.map(extract_terra_length, bam_files)\n",
    "p.close()\n",
    "p.join()"
   ]
  },
  {
   "cell_type": "code",
   "execution_count": 53,
   "metadata": {
    "collapsed": false
   },
   "outputs": [
    {
     "name": "stderr",
     "output_type": "stream",
     "text": [
      "/stor/work/Lambowitz/cdw2854/src/miniconda3/lib/python3.6/site-packages/matplotlib/font_manager.py:1328: UserWarning: findfont: Font family ['sans-serif'] not found. Falling back to DejaVu Sans\n",
      "  (prop.get_family(), self.defaultFamily[fontext]))\n"
     ]
    },
    {
     "data": {
      "image/png": "[encoded data removed]",
      "text/plain": [
       "<Figure size 720x360 with 2 Axes>"
      ]
     },
     "metadata": {},
     "output_type": "display_data"
    }
   ],
   "source": [
    "terra_df = pd.concat(dfs) \\\n",
    "    .assign(isize = lambda d: np.where(d.isize > 75, 75, d.isize))\\\n",
    "    .assign(samplename = lambda d: d.samplename.str.replace('.bam','').map(label_sample))\\\n",
    "    .groupby(['samplename','express_strand','isize'], as_index=False)\\\n",
    "    .agg({'count': 'sum'})\\\n",
    "    .sort_values('isize')\n",
    "\n",
    "fig = plt.figure(figsize=(10,5))\n",
    "\n",
    "for i, (strand, strand_df) in enumerate(terra_df.groupby('express_strand')):\n",
    "    ax = fig.add_subplot(1,2,i+1)\n",
    "    for sample, sample_df in strand_df.groupby('samplename'):\n",
    "        ax.hist(sample_df.isize, \n",
    "                weights = sample_df['count'], \n",
    "                label = sample,\n",
    "                bins=20,\n",
    "               alpha = 0.6)\n",
    "        \n",
    "    if i == 0:\n",
    "        ax.set_ylabel('Number of fragment')\n",
    "    ax.set_title(strand)\n",
    "ax.legend(title='')\n",
    "sns.despine()"
   ]
  },
  {
   "cell_type": "code",
   "execution_count": null,
   "metadata": {
    "collapsed": true
   },
   "outputs": [],
   "source": []
  }
 ],
 "metadata": {
  "kernelspec": {
   "display_name": "miniconda3",
   "language": "python",
   "name": "python3"
  },
  "language_info": {
   "codemirror_mode": {
    "name": "ipython",
    "version": 3
   },
   "file_extension": ".py",
   "mimetype": "text/x-python",
   "name": "python",
   "nbconvert_exporter": "python",
   "pygments_lexer": "ipython3",
   "version": "3.6.3"
  }
 },
 "nbformat": 4,
 "nbformat_minor": 2
}
