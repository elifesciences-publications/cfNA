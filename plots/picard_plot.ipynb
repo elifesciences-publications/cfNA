{
 "cells": [
  {
   "cell_type": "code",
   "execution_count": null,
   "metadata": {
    "collapsed": false
   },
   "outputs": [],
   "source": [
    "%matplotlib inline\n",
    "%load_ext autoreload\n",
    "%autoreload 2\n",
    "\n",
    "from sequencing_tools.viz_tools import RNA_base_from_picard, \\\n",
    "                            RNA_cov_from_picard, color_encoder, \\\n",
    "                            okabeito_palette, simpsons_palette\n",
    "import pandas as pd\n",
    "import matplotlib.pyplot as plt\n",
    "import seaborn as sns\n",
    "import numpy as np\n",
    "import glob\n",
    "import re\n",
    "from plotting_utils import *\n",
    "from matplotlib import rcParams\n",
    "rcParams['font.family'] = 'sans-serif'\n",
    "rcParams['font.sans-serif'] = ['Arial']\n",
    "\n",
    "plt.rc('axes', labelsize=15)\n",
    "plt.rc('xtick', labelsize = 15)\n",
    "plt.rc('ytick', labelsize = 15)\n",
    "plt.rc('legend', fontsize = 15)\n",
    "\n",
    "def label_sample(x):\n",
    "    if 'HS' in x:\n",
    "        return 'High salt'\n",
    "    elif 'Frag' in x:\n",
    "        return 'Fragmented'\n",
    "    elif re.search('N[aA]', x):\n",
    "        return 'Alkaline hydrolysis'\n",
    "    elif re.search('L[12]',x):\n",
    "        return 'PolyA-selected'\n",
    "    elif re.search('Exo|ED|DE', x):\n",
    "        return 'Exonuclease I'\n",
    "    elif 'All' in x:\n",
    "        return 'Untreated'\n",
    "    else:\n",
    "        return 'Unfragmented'"
   ]
  },
  {
   "cell_type": "code",
   "execution_count": null,
   "metadata": {
    "collapsed": true
   },
   "outputs": [],
   "source": [
    "metrics_path = '/stor/work/Lambowitz/cdw2854/cfNA/tgirt_map/picard_qc_all/'\n",
    "metrics = glob.glob(metrics_path + '/*sense.RNA_Metrics')"
   ]
  },
  {
   "cell_type": "code",
   "execution_count": null,
   "metadata": {
    "collapsed": false
   },
   "outputs": [],
   "source": [
    "plot_df = RNA_base_from_picard(metrics) \\\n",
    "    .assign(samplename = lambda d: d.samplename.str.replace('.RNA_Metrics','')) \\\n",
    "    .assign(treatment = lambda d: d.samplename)\\\n",
    "    .sort_values('treatment') \\\n",
    "    .assign(var_count = lambda d: d.var_count * 100)\\\n",
    "    .assign(label = lambda d: d.treatment.map(label_sample))\n",
    "\n",
    "fig = plt.figure()\n",
    "ax = fig.add_subplot(111)\n",
    "plot_df\\\n",
    "    .pipe(pd.pivot_table, columns = 'variable', \n",
    "          index = 'samplename', values = 'var_count')\\\n",
    "    .plot.bar(stacked=True, color = simpsons_palette(), \n",
    "              ax= ax)\n",
    "ax.legend(bbox_to_anchor = (1,1), fontsize = 15)\n",
    "ax.set_ylabel('% of bases\\n(protein-coding genes)')\n",
    "ax.set_xlabel(' ')"
   ]
  },
  {
   "cell_type": "code",
   "execution_count": null,
   "metadata": {
    "collapsed": false
   },
   "outputs": [],
   "source": [
    "plot_df.query('variable == \"Intronic bases\"').groupby('label', as_index=False).agg({'var_count':['min','max']})"
   ]
  },
  {
   "cell_type": "code",
   "execution_count": null,
   "metadata": {
    "collapsed": false
   },
   "outputs": [],
   "source": [
    "plot_df.query('variable == \"Coding bases\"').groupby('label', as_index=False).agg({'var_count':['min','max']})"
   ]
  },
  {
   "cell_type": "code",
   "execution_count": null,
   "metadata": {
    "collapsed": false
   },
   "outputs": [],
   "source": [
    "metrics_path = '/stor/work/Lambowitz/cdw2854/cell_Free_nucleotides/tgirt_map/picard_qc'\n",
    "metrics = glob.glob(metrics_path + '/*.filtered.RNA_Metrics')\n",
    "\n",
    "cov_df = RNA_cov_from_picard(metrics)\\\n",
    "    .assign(samplename = lambda d: d.samplename.str.replace('.sense.RNA_Metrics',''))\\\n",
    "    .assign(treatment = lambda d: d.samplename)\\\n",
    "    .groupby(['normalized_position','treatment'], as_index=False)\\\n",
    "    .agg({'All_Reads.normalized_coverage': 'mean'}) \\\n",
    "    .assign(treatment = lambda d: d.treatment.str.replace('.filtered.RNA_Metrics','')) \n",
    "cov_df.head()"
   ]
  },
  {
   "cell_type": "code",
   "execution_count": null,
   "metadata": {
    "collapsed": true
   },
   "outputs": [],
   "source": []
  },
  {
   "cell_type": "code",
   "execution_count": null,
   "metadata": {
    "collapsed": false
   },
   "outputs": [],
   "source": [
    "ax = plt.subplot(111)\n",
    "for (t, t_df), color in zip(cov_df.groupby('treatment'), okabeito_palette()):\n",
    "    if not 'untrea' in t and 'high' not in t:\n",
    "        ax.plot(t_df['normalized_position'], t_df['All_Reads.normalized_coverage'],\n",
    "           color = color, label = t,\n",
    "           linewidth=3)\n",
    "ax.legend(bbox_to_anchor = (1,1), fontsize = 15)\n",
    "ax.hlines(y = 1, xmin= -10, xmax = 110, color = 'red')\n",
    "ax.set_xlim(0,100)\n",
    "ax.set_xlabel('Normalized gene length')\n",
    "ax.set_ylabel('Normalized coverage')"
   ]
  },
  {
   "cell_type": "code",
   "execution_count": null,
   "metadata": {
    "collapsed": false
   },
   "outputs": [],
   "source": [
    "import os\n",
    "\n",
    "ax = plt.subplot(111)\n",
    "def read_metric(metric):\n",
    "    return pd.read_table(metric, skiprows=6, nrows=1)\\\n",
    "        .pipe(pd.melt) \\\n",
    "        .pipe(lambda d: d[d.variable.str.contains('TRANSCRIPT_STRAND_')])\\\n",
    "        .pipe(lambda d: d[d.variable.str.contains('PCT')]) \n",
    "\n",
    "metrics_path = '/stor/work/Lambowitz/cdw2854/cell_Free_nucleotides/tgirt_map/picard_qc/'\n",
    "metrics = glob.glob(metrics_path + '/*.filtered.RNA_Metrics')\n",
    "\n",
    "strand_df = {os.path.basename(metric).split('.')[0]: read_metric(metric) for metric in metrics}\n",
    "strand_df = pd.concat([d.assign(samplename = k) for k, d in strand_df.items()])\\\n",
    "    .assign(variable = lambda d: np.where(d.variable.str.contains('R1'), 'Sense strand','Antisense-strand'))\\\n",
    "    .assign(value = lambda d: d['value'] * 100)\\\n",
    "    .pipe(pd.pivot_table, index='samplename', columns = 'variable', values = 'value')\n",
    "strand_df.plot.bar(stacked=True, ax = ax, width = 0.8)\n",
    "ax.legend(bbox_to_anchor = (1,1), fontsize = 15)\n",
    "ax.set_xlabel(' ')\n",
    "ax.set_ylabel('% of bases')"
   ]
  },
  {
   "cell_type": "code",
   "execution_count": null,
   "metadata": {
    "collapsed": false
   },
   "outputs": [],
   "source": [
    "strand_df\\\n",
    "    .reset_index()\\\n",
    "    .assign(label = lambda d: d.samplename.map(label_sample))\\\n",
    "    .groupby('label')\\\n",
    "    .agg({'Sense strand':['min','max']})"
   ]
  },
  {
   "cell_type": "code",
   "execution_count": null,
   "metadata": {
    "collapsed": false
   },
   "outputs": [],
   "source": [
    "long_picard = glob.glob('/stor/work/Lambowitz/cdw2854/cell_Free_nucleotides/tgirt_map/Qcf_L*')\n",
    "long_picard_metric = map(lambda x: x + '/Combined/primary_no_sncRNA_tRNA_rRNA.RNA_Metrics', long_picard)\n",
    "\n",
    "\n",
    "cov_df = pd.concat(map(lambda x: pd.read_table(x, skiprows=10)\\\n",
    "            .assign(samplename = re.findall('L[12]', x)[0]), \n",
    "        long_picard_metric)) \\\n",
    "    .assign(samplename = lambda d: np.where(d.samplename == \"L1\", 'PolyA-selected 1', 'PolyA-selected 2'))\n",
    "\n",
    "\n",
    "p = sns.FacetGrid(data = cov_df, hue='samplename', size = 4)\n",
    "p.map(plt.plot, \n",
    "      'normalized_position', \n",
    "      'All_Reads.normalized_coverage', \n",
    "      linewidth=5)\n",
    "p.fig.axes[0].hlines(y=1, xmin = -10,xmax = 110, linestyle=\":\")\n",
    "p.set(xlim = (0,100))\n",
    "p.set_axis_labels('Normalized position',\n",
    "                  'Normalized coverage')\n",
    "p.add_legend(title = '', frameon=False, fontsize = 15)"
   ]
  },
  {
   "cell_type": "code",
   "execution_count": null,
   "metadata": {
    "collapsed": false
   },
   "outputs": [],
   "source": [
    "insert_path = '/stor/work/Lambowitz/cdw2854/cell_Free_nucleotides/tgirt_map/fragment_sizes'\n",
    "data_files = glob.glob(insert_path + '/*.tsv')\n",
    "df = {os.path.basename(data_file):pd.read_table(data_file) for data_file in data_files}\n",
    "df = pd.concat([val.assign(label = key) for key, val in df.items()]) \\\n",
    "    .assign(label = lambda d: d.label.str.replace('.tsv','').str.capitalize())\\\n",
    "    .assign(label = lambda d: np.where(d.label == 'Polya','PolyA-selected', d.label))\\\n",
    "    .sort_values('isize') \\\n",
    "    .query('isize < 400') \\\n",
    "    .assign(size_fraction = lambda d: d.groupby('label')['size_count'].transform(lambda x: 100* x/ x.sum()))\n",
    "df.head()"
   ]
  },
  {
   "cell_type": "code",
   "execution_count": null,
   "metadata": {
    "collapsed": false
   },
   "outputs": [],
   "source": [
    "p = sns.FacetGrid(data = df,#.pipe(lambda d: d[d.label.str.contains('Pol|rag')]),\n",
    "             hue = 'label',\n",
    "             size = 6)\n",
    "p.map(plt.plot, 'isize', 'size_fraction', linewidth=3)\n",
    "p.add_legend(title= ' ', fontsize = 15, frameon=False, bbox_to_anchor = (0.6,0.8))\n",
    "p.set_axis_labels('Fragment size (nt)', '% fragments')"
   ]
  },
  {
   "cell_type": "code",
   "execution_count": null,
   "metadata": {
    "collapsed": false
   },
   "outputs": [],
   "source": [
    "def read_cov(file):\n",
    "    samplename = re.sub('\\.High|\\.Low|\\.Medium','',os.path.basename(file).replace('.geneBodyCoverage.txt',''))\n",
    "    return pd.read_table(file,  index_col=0)\\\n",
    "        .transpose()\\\n",
    "        .reset_index() \\\n",
    "        .rename(columns = {samplename:'coverage'}) \\\n",
    "        .assign(expr = re.search('(High|Low|Medium)', os.path.basename(file)).group(0))\\\n",
    "        .assign(samplename = samplename)\n",
    "\n",
    "\n",
    "path = '/stor/work/Lambowitz/cdw2854/cell_Free_nucleotides/tgirt_map/merged_bam/filtered_bam'\n",
    "files = glob.glob(path + '/polyA.*.geneBodyCoverage.txt')\n",
    "files = filter(lambda x: os.stat(x).st_size > 0 , files)\n",
    "files = filter(lambda x: not re.search('plus|minus|anti',x), files)\n",
    "files = filter(lambda x: not re.search('sense',x), files)\n",
    "files = list(files)\n",
    "cov_df = pd.concat(map(read_cov, files)) \\\n",
    "    .assign(norm_cov = lambda d: d.groupby(['expr','samplename'])['coverage']\\\n",
    "                            .transform(lambda x: (x - x.min()) / (x.max() - x.min()))) \\\n",
    "    .assign(index = lambda d: d['index'].astype(int))\n",
    "cov_df.head()"
   ]
  },
  {
   "cell_type": "code",
   "execution_count": null,
   "metadata": {
    "collapsed": false
   },
   "outputs": [],
   "source": [
    "p = sns.FacetGrid(data = cov_df,#.pipe(lambda d: d[d.samplename.str.contains('frag|pol')]), \n",
    "                 hue = 'expr',\n",
    "                  size = 5,\n",
    "                 hue_order=['High','Medium','Low'])\n",
    "p.map(plt.plot, 'index','norm_cov', linewidth=4)\n",
    "ax = p.fig.axes[0]\n",
    "\n",
    "ax.legend(title= 'Expression level\\n(Bone marrow)',\n",
    "             frameon=False, fontsize = 15, \n",
    "          bbox_to_anchor = (1,1))\n",
    "plt.setp(ax.get_legend().get_title(), fontsize='15')\n",
    "p.set_titles('{col_name}')\n",
    "p.set_axis_labels('Normalized position','Normalized coverage')"
   ]
  },
  {
   "cell_type": "code",
   "execution_count": 2,
   "metadata": {
    "collapsed": false
   },
   "outputs": [],
   "source": [
    "picard_path = '/stor/work/Lambowitz/cdw2854/cfNA/tgirt_map/merged_bam/full_length_mRNA'\n",
    "metrics = glob.glob(picard_path + '/*RNA_metric')\n",
    "d = RNA_cov_from_picard(metrics) \\\n",
    "    .assign(samplename = lambda d: np.where(d.samplename.str.contains('polyA'), 'SMART-seq', 'TGIRT-seq'))\n",
    "    \n",
    "p = sns.FacetGrid(data = d, hue = 'samplename', size = 4)\n",
    "p.map(plt.plot, 'normalized_position', 'All_Reads.normalized_coverage')\n",
    "p.set_axis_labels('Normalized position', 'Normalized coverage')\n",
    "p.fig.axes[0].legend(title = '', frameon=False, loc = 'upper center')\n",
    "figurename = figure_path + '/rna_coverage.pdf'\n",
    "p.savefig(figurename, bbox_inches = 'tight')\n",
    "print('Written %s' %figurename)"
   ]
  },
  {
   "cell_type": "code",
   "execution_count": null,
   "metadata": {
    "collapsed": false
   },
   "outputs": [],
   "source": [
    "def normalize_coverage(x):\n",
    "    diff = x-x.min()\n",
    "    diff_range = x.max()-x.min()\n",
    "    return diff/diff_range\n",
    "\n",
    "d = pd.concat(map(pd.read_table,glob.glob(picard_path + '/*.geneBodyCoverage.txt')))\\\n",
    "    .pipe(pd.melt, var_name = 'normalized_position', \n",
    "          value_name = 'cov', \n",
    "          id_vars='Percentile') \\\n",
    "    .assign(normalized_coverage = lambda d: d.groupby('Percentile')['cov'].transform(normalize_coverage))\n",
    "p = sns.FacetGrid(data = d, hue = 'Percentile', size = 4)\n",
    "p.map(plt.plot, 'normalized_position', 'normalized_coverage')\n",
    "p.add_legend()"
   ]
  },
  {
   "cell_type": "code",
   "execution_count": null,
   "metadata": {
    "collapsed": true
   },
   "outputs": [],
   "source": []
  }
 ],
 "metadata": {
  "kernelspec": {
   "display_name": "miniconda3",
   "language": "python",
   "name": "python3"
  },
  "language_info": {
   "codemirror_mode": {
    "name": "ipython",
    "version": 3
   },
   "file_extension": ".py",
   "mimetype": "text/x-python",
   "name": "python",
   "nbconvert_exporter": "python",
   "pygments_lexer": "ipython3",
   "version": "3.6.3"
  }
 },
 "nbformat": 4,
 "nbformat_minor": 2
}
