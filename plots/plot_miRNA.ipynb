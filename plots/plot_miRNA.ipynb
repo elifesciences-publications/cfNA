{
 "cells": [
  {
   "cell_type": "code",
   "execution_count": 23,
   "metadata": {
    "collapsed": false
   },
   "outputs": [
    {
     "name": "stdout",
     "output_type": "stream",
     "text": [
      "The autoreload extension is already loaded. To reload it, use:\n",
      "  %reload_ext autoreload\n"
     ]
    }
   ],
   "source": [
    "%matplotlib inline\n",
    "%load_ext autoreload\n",
    "%autoreload 2\n",
    "\n",
    "from pybedtools import BedTool\n",
    "import pandas as pd\n",
    "import matplotlib.pyplot as plt\n",
    "import seaborn as sns\n",
    "import numpy as np\n",
    "from collections import Counter, defaultdict, deque\n",
    "from functools import reduce, partial, lru_cache\n",
    "import re\n",
    "import os\n",
    "from xopen import xopen\n",
    "import glob\n",
    "from plotting_utils import figure_path, label_sample\n",
    "from multiprocessing import Pool\n",
    "\n",
    "plt.rc('axes', labelsize=15)\n",
    "plt.rc('xtick', labelsize = 15)\n",
    "plt.rc('ytick', labelsize = 15)\n",
    "plt.rc('font', **{'family':'sans-serif',\n",
    "                'sans-serif':'Arial'})"
   ]
  },
  {
   "cell_type": "code",
   "execution_count": 24,
   "metadata": {
    "collapsed": false
   },
   "outputs": [
    {
     "data": {
      "text/html": [
       "<div>\n",
       "<style scoped>\n",
       "    .dataframe tbody tr th:only-of-type {\n",
       "        vertical-align: middle;\n",
       "    }\n",
       "\n",
       "    .dataframe tbody tr th {\n",
       "        vertical-align: top;\n",
       "    }\n",
       "\n",
       "    .dataframe thead th {\n",
       "        text-align: right;\n",
       "    }\n",
       "</style>\n",
       "<table border=\"1\" class=\"dataframe\">\n",
       "  <thead>\n",
       "    <tr style=\"text-align: right;\">\n",
       "      <th></th>\n",
       "      <th>is_plasma</th>\n",
       "      <th>name</th>\n",
       "    </tr>\n",
       "  </thead>\n",
       "  <tbody>\n",
       "    <tr>\n",
       "      <th>0</th>\n",
       "      <td>red</td>\n",
       "      <td>MIRLET7A-</td>\n",
       "    </tr>\n",
       "    <tr>\n",
       "      <th>1</th>\n",
       "      <td>red</td>\n",
       "      <td>MIRLET7A-</td>\n",
       "    </tr>\n",
       "    <tr>\n",
       "      <th>2</th>\n",
       "      <td>red</td>\n",
       "      <td>MIRLET7A</td>\n",
       "    </tr>\n",
       "    <tr>\n",
       "      <th>3</th>\n",
       "      <td>red</td>\n",
       "      <td>MIR148A</td>\n",
       "    </tr>\n",
       "    <tr>\n",
       "      <th>4</th>\n",
       "      <td>red</td>\n",
       "      <td>MIR221</td>\n",
       "    </tr>\n",
       "  </tbody>\n",
       "</table>\n",
       "</div>"
      ],
      "text/plain": [
       "  is_plasma       name\n",
       "0       red  MIRLET7A-\n",
       "1       red  MIRLET7A-\n",
       "2       red   MIRLET7A\n",
       "3       red    MIR148A\n",
       "4       red     MIR221"
      ]
     },
     "execution_count": 24,
     "metadata": {},
     "output_type": "execute_result"
    }
   ],
   "source": [
    "plasma_miRNA = \\\n",
    "\"\"\"hsa-let-7a-1\thsa-let-7a-2\thsa-let-7a\thsa-miR-148a\n",
    "hsa-miR-221\thsa-miR-338-3p\thsa-miR-103a-1\n",
    "hsa-let-7b\thsa-miR-148b\thsa-miR-222\thsa-miR-339-3p\n",
    "hsa-let-7b∗\thsa-miR-150\thsa-miR-223\thsa-miR-342-3p\n",
    "hsa-let-7d\thsa-miR-151-5p\thsa-miR-223∗\thsa-miR-363\n",
    "hsa-let-7d∗\thsa-miR-152\thsa-miR-23a\thsa-miR-374b\n",
    "hsa-let-7f-1\thsa-let-7f\thsa-miR-15a\thsa-miR-23b\thsa-miR-375\n",
    "hsa-let-7g\thsa-miR-15b\thsa-miR-24\thsa-miR-378\thsa-miR-24-1\n",
    "hsa-let-7i\thsa-miR-15b∗\thsa-miR-25\thsa-miR-423-3p\thsa-miR-423\n",
    "hsa-miR-101\thsa-miR-16-1\thsa-miR-26b\thsa-miR-423-5p\n",
    "hsa-miR-103\thsa-miR-16-2∗\thsa-miR-27a\thsa-miR-424\n",
    "hsa-miR-106a\thsa-miR-17\thsa-miR-27b\thsa-miR-425\n",
    "hsa-miR-106b\thsa-miR-181a\thsa-miR-28-3p\thsa-miR-425∗\n",
    "hsa-miR-107\thsa-miR-185\thsa-miR-28-5p\thsa-miR-451\n",
    "hsa-miR-122\thsa-miR-186\thsa-miR-29a\thsa-miR-484\n",
    "hsa-miR-125a-5p\thsa-miR-18a\thsa-miR-29b\thsa-miR-486-5p\n",
    "hsa-miR-125b\thsa-miR-18b\thsa-miR-29c\thsa-miR-495\n",
    "hsa-miR-126\thsa-miR-191\thsa-miR-301a\thsa-miR-502-3p\n",
    "hsa-miR-128\thsa-miR-192\thsa-miR-30b\thsa-miR-505\n",
    "hsa-miR-130a\thsa-miR-195\thsa-miR-30c\thsa-miR-532-3p\n",
    "hsa-miR-133a\thsa-miR-199a-3p\thsa-miR-30d\thsa-miR-532-5p\n",
    "hsa-miR-139-5p\thsa-miR-199a-5p\thsa-miR-30e\thsa-miR-574-3p\n",
    "hsa-miR-140-3p\thsa-miR-19a\thsa-miR-30e∗\thsa-miR-584\n",
    "hsa-miR-140-5p\thsa-miR-19b\thsa-miR-32\thsa-miR-629\thsa-miR-142\n",
    "hsa-miR-142-3p\thsa-miR-20a\thsa-miR-320a\thsa-miR-652\n",
    "hsa-miR-142-5p\thsa-miR-20b\thsa-miR-320b\thsa-miR-92a\n",
    "hsa-miR-143\thsa-miR-21\thsa-miR-324-3p\thsa-miR-93\n",
    "hsa-miR-144\thsa-miR-210\thsa-miR-324-5p\thsa-miR-93∗\n",
    "hsa-miR-144∗\thsa-miR-215\thsa-miR-328\thsa-miR-99a\n",
    "hsa-miR-145\thsa-miR-22\thsa-miR-331-3p\thsa-miR-99b\n",
    "hsa-miR-146a\thsa-miR-22∗\thsa-miR-335\"\"\"\n",
    "\n",
    "miRNA_list = plasma_miRNA.split()\n",
    "miRNA_list = map(lambda x: re.sub('^hsa-|miR-|-[35]p$','', x), miRNA_list)\n",
    "miRNA_list = map(lambda x: 'MIR' + x.upper().replace('T-7','T7').rstrip('∗'), miRNA_list)\n",
    "plasma_miRNA_list = pd.DataFrame({'name': list(miRNA_list),\n",
    "                                  'is_plasma':'red'}) \\\n",
    "    .assign(name = lambda d: np.where(d.name.str.contains('LET'),\n",
    "                                     d.name.str.replace('[0-9]$',''),\n",
    "                                     d.name))\n",
    "miRNA_list = plasma_miRNA.split()\n",
    "miRNA_list = list(map(lambda x: x.strip('∗').lower(), miRNA_list))\n",
    "plasma_miRNA_list.head()\n"
   ]
  },
  {
   "cell_type": "code",
   "execution_count": 25,
   "metadata": {
    "collapsed": false
   },
   "outputs": [],
   "source": [
    "def genome_miRNA_bed_counting(miRNA_bed, mature, fragment_bed):\n",
    "    if mature:\n",
    "        fragment_bed = BedTool(fragment_bed)\\\n",
    "            .filter(lambda x: x.end - x.start < 30)\n",
    "            \n",
    "            \n",
    "    fragments = BedTool(fragment_bed)\n",
    "    \n",
    "    \n",
    "    miRNA_cov = BedTool().coverage(a = miRNA_bed,\n",
    "              b = fragments,\n",
    "             s = True, \n",
    "             f = 0.1,\n",
    "             F = 0.8,\n",
    "             counts=True)\n",
    "    \n",
    "    return miRNA_cov\\\n",
    "        .to_dataframe()\\\n",
    "        .sort_values('itemRgb', ascending=False)\n",
    "\n",
    "clipped = re.compile('([0-9]+)S')\n",
    "def find_clip(cigar):\n",
    "    return sum(map(int, clipped.findall(cigar)))\n",
    "        \n",
    "def miRNA_bed_counting(mature, fragment_bed):\n",
    "    miRNA_counter = defaultdict(set)\n",
    "    with xopen(fragment_bed) as bed:\n",
    "        for line in bed:\n",
    "            fields = line.strip().split('\\t')\n",
    "            cigar = fields[6]\n",
    "            clipped_bases = find_clip(cigar)\n",
    "            isize = int(fields[2]) - int(fields[1])\n",
    "            umi = fields[3].split('_')[0]\n",
    "            transcript_id = fields[0]\n",
    "            \n",
    "            is_mir = transcript_id.startswith('hsa')\n",
    "            is_sense = fields[5] == \"+\"\n",
    "            is_valid_aln = isize * 0.2 > clipped_bases\n",
    "            if is_sense and is_mir and is_valid_aln:\n",
    "                if isize < 30 or not mature:\n",
    "                    frag_id = fields[1] + fields[2] + cigar+umi\n",
    "                    miRNA_counter[transcript_id].add(frag_id)\n",
    "    miR_count = Counter({key: len(c) for key, c in miRNA_counter.items()})\n",
    "    return miR_count\n",
    "                \n",
    "@lru_cache(maxsize=128)    \n",
    "def count_miRNA(mature=True):\n",
    "    sample_path = '/stor/work/Lambowitz/cdw2854/cfNA/tgirt_map'\n",
    "    sample_files = glob.glob(sample_path + '/*001')\n",
    "    sample_files = filter(lambda x: re.search('[Qq][cC][fF][0-9]+', os.path.basename(x)), sample_files)\n",
    "    sample_files = map(lambda x: x+'/count_temp/small_RNA.bed.gz' , sample_files)\n",
    "    sample_files = deque(sample_files)\n",
    "    #print(sample_files)\n",
    "    count_func = partial(miRNA_bed_counting, mature)\n",
    "    p = Pool(24)\n",
    "    miRNA_counts = p.map(count_func, sample_files)\n",
    "    p.close()\n",
    "    p.join()\n",
    "    \n",
    "    miRNA_counts = reduce(lambda x,y: x+y, miRNA_counts)\n",
    "    return pd.DataFrame().from_dict(miRNA_counts, orient='index')\\\n",
    "        .reset_index()\\\n",
    "        .rename(columns={'index':'miRNA',\n",
    "                        0:'miRNA_count'})\\\n",
    "        .sort_values('miRNA_count', ascending=False)\n",
    "\n",
    "def merge_dfs(x,y):\n",
    "    return x.merge(y, how='outer')\n",
    "\n",
    "def make_cpm(df):\n",
    "    for col in df.columns:\n",
    "        df[col] = df[col]/df[col].sum() * 1e6\n",
    "    return df"
   ]
  },
  {
   "cell_type": "code",
   "execution_count": 26,
   "metadata": {
    "collapsed": false
   },
   "outputs": [
    {
     "data": {
      "text/html": [
       "<div>\n",
       "<style scoped>\n",
       "    .dataframe tbody tr th:only-of-type {\n",
       "        vertical-align: middle;\n",
       "    }\n",
       "\n",
       "    .dataframe tbody tr th {\n",
       "        vertical-align: top;\n",
       "    }\n",
       "\n",
       "    .dataframe thead th {\n",
       "        text-align: right;\n",
       "    }\n",
       "</style>\n",
       "<table border=\"1\" class=\"dataframe\">\n",
       "  <thead>\n",
       "    <tr style=\"text-align: right;\">\n",
       "      <th></th>\n",
       "      <th>miRNA</th>\n",
       "      <th>miRNA_count</th>\n",
       "    </tr>\n",
       "  </thead>\n",
       "  <tbody>\n",
       "    <tr>\n",
       "      <th>10</th>\n",
       "      <td>hsa-mir-223</td>\n",
       "      <td>108</td>\n",
       "    </tr>\n",
       "    <tr>\n",
       "      <th>1</th>\n",
       "      <td>hsa-let-7c</td>\n",
       "      <td>49</td>\n",
       "    </tr>\n",
       "    <tr>\n",
       "      <th>4</th>\n",
       "      <td>hsa-mir-142</td>\n",
       "      <td>35</td>\n",
       "    </tr>\n",
       "    <tr>\n",
       "      <th>9</th>\n",
       "      <td>hsa-mir-21</td>\n",
       "      <td>34</td>\n",
       "    </tr>\n",
       "    <tr>\n",
       "      <th>49</th>\n",
       "      <td>hsa-mir-196b</td>\n",
       "      <td>26</td>\n",
       "    </tr>\n",
       "  </tbody>\n",
       "</table>\n",
       "</div>"
      ],
      "text/plain": [
       "           miRNA  miRNA_count\n",
       "10   hsa-mir-223          108\n",
       "1     hsa-let-7c           49\n",
       "4    hsa-mir-142           35\n",
       "9     hsa-mir-21           34\n",
       "49  hsa-mir-196b           26"
      ]
     },
     "execution_count": 26,
     "metadata": {},
     "output_type": "execute_result"
    }
   ],
   "source": [
    "mature_count = count_miRNA(mature=True)\n",
    "mature_count.head()"
   ]
  },
  {
   "cell_type": "code",
   "execution_count": 27,
   "metadata": {
    "collapsed": false
   },
   "outputs": [
    {
     "data": {
      "text/html": [
       "<div>\n",
       "<style scoped>\n",
       "    .dataframe tbody tr th:only-of-type {\n",
       "        vertical-align: middle;\n",
       "    }\n",
       "\n",
       "    .dataframe tbody tr th {\n",
       "        vertical-align: top;\n",
       "    }\n",
       "\n",
       "    .dataframe thead th {\n",
       "        text-align: right;\n",
       "    }\n",
       "</style>\n",
       "<table border=\"1\" class=\"dataframe\">\n",
       "  <thead>\n",
       "    <tr style=\"text-align: right;\">\n",
       "      <th></th>\n",
       "      <th>miRNA</th>\n",
       "      <th>miRNA_count</th>\n",
       "    </tr>\n",
       "  </thead>\n",
       "  <tbody>\n",
       "    <tr>\n",
       "      <th>19</th>\n",
       "      <td>hsa-mir-223</td>\n",
       "      <td>114</td>\n",
       "    </tr>\n",
       "    <tr>\n",
       "      <th>5</th>\n",
       "      <td>hsa-let-7f-1</td>\n",
       "      <td>58</td>\n",
       "    </tr>\n",
       "    <tr>\n",
       "      <th>11</th>\n",
       "      <td>hsa-mir-142</td>\n",
       "      <td>52</td>\n",
       "    </tr>\n",
       "    <tr>\n",
       "      <th>4</th>\n",
       "      <td>hsa-let-7c</td>\n",
       "      <td>49</td>\n",
       "    </tr>\n",
       "    <tr>\n",
       "      <th>6</th>\n",
       "      <td>hsa-let-7g</td>\n",
       "      <td>42</td>\n",
       "    </tr>\n",
       "  </tbody>\n",
       "</table>\n",
       "</div>"
      ],
      "text/plain": [
       "           miRNA  miRNA_count\n",
       "19   hsa-mir-223          114\n",
       "5   hsa-let-7f-1           58\n",
       "11   hsa-mir-142           52\n",
       "4     hsa-let-7c           49\n",
       "6     hsa-let-7g           42"
      ]
     },
     "execution_count": 27,
     "metadata": {},
     "output_type": "execute_result"
    }
   ],
   "source": [
    "all_count = count_miRNA(mature=False)\n",
    "all_count.head()"
   ]
  },
  {
   "cell_type": "code",
   "execution_count": 28,
   "metadata": {
    "collapsed": true
   },
   "outputs": [],
   "source": [
    "def plot_miRNA(ax,miRNA_df, title, top_n = 30, cpm=False):        \n",
    "    colored_df = miRNA_df\\\n",
    "            .assign(cpm = lambda d: d.miRNA_count.transform(lambda x: 1e6*x/x.sum()))\\\n",
    "            .nlargest(top_n, 'miRNA_count')\\\n",
    "            .assign(plasma = lambda d: np.where(d.miRNA.isin(miRNA_list),\n",
    "                                               'red','black')) \n",
    "        \n",
    "    y = 'miRNA_count' if not cpm else 'cpm'\n",
    "    ylab = 'Read count' if not cpm else 'CPM'\n",
    "    colored_df.plot.bar('miRNA', y, \n",
    "                  color='steelblue',\n",
    "                 ax = ax)\n",
    "    ax.set_title(title, size = 15)\n",
    "    ax.set_xlabel('')\n",
    "    ax.set_ylabel(ylab)\n",
    "    for xt, color in zip(ax.get_xticklabels(),colored_df.plasma):\n",
    "        xt.set_color(color)\n",
    "    ax.legend().set_visible(False)\n",
    "    ax.set_xticklabels(ax.get_xticklabels(), rotation=70, rotation_mode = 'anchor', ha = 'right')\n",
    "    if not cpm:\n",
    "        ax.set_ylim(0,120)"
   ]
  },
  {
   "cell_type": "code",
   "execution_count": 29,
   "metadata": {
    "collapsed": false
   },
   "outputs": [
    {
     "name": "stdout",
     "output_type": "stream",
     "text": [
      "Written /stor/work/Lambowitz/cdw2854/cfNA/tgirt_map/figure/miRNA_counts.pdf\n"
     ]
    },
    {
     "data": {
      "image/png": "[encoded data removed]",
      "text/plain": [
       "<Figure size 864x360 with 2 Axes>"
      ]
     },
     "metadata": {
      "needs_background": "light"
     },
     "output_type": "display_data"
    }
   ],
   "source": [
    "fig = plt.figure(figsize=(12,5))\n",
    "ax_mature = fig.add_subplot(121)\n",
    "plot_miRNA(ax_mature, mature_count, 'Mature', top_n=20, cpm=False)\n",
    "\n",
    "ax_all = fig.add_subplot(122)\n",
    "plot_miRNA(ax_all, all_count, 'All', top_n=20, cpm=False)\n",
    "sns.despine()\n",
    "figurename = figure_path + '/miRNA_counts.pdf'\n",
    "fig.savefig(figurename, bbox_inches = 'tight')\n",
    "print('Written %s' %figurename)"
   ]
  },
  {
   "cell_type": "code",
   "execution_count": 30,
   "metadata": {
    "collapsed": false
   },
   "outputs": [
    {
     "data": {
      "text/html": [
       "<div>\n",
       "<style scoped>\n",
       "    .dataframe tbody tr th:only-of-type {\n",
       "        vertical-align: middle;\n",
       "    }\n",
       "\n",
       "    .dataframe tbody tr th {\n",
       "        vertical-align: top;\n",
       "    }\n",
       "\n",
       "    .dataframe thead th {\n",
       "        text-align: right;\n",
       "    }\n",
       "</style>\n",
       "<table border=\"1\" class=\"dataframe\">\n",
       "  <thead>\n",
       "    <tr style=\"text-align: right;\">\n",
       "      <th></th>\n",
       "      <th>miRNA</th>\n",
       "      <th>miRNA_count</th>\n",
       "    </tr>\n",
       "  </thead>\n",
       "  <tbody>\n",
       "    <tr>\n",
       "      <th>21</th>\n",
       "      <td>hsa-mir-27a</td>\n",
       "      <td>7</td>\n",
       "    </tr>\n",
       "    <tr>\n",
       "      <th>12</th>\n",
       "      <td>hsa-mir-144</td>\n",
       "      <td>6</td>\n",
       "    </tr>\n",
       "    <tr>\n",
       "      <th>75</th>\n",
       "      <td>hsa-mir-27b</td>\n",
       "      <td>3</td>\n",
       "    </tr>\n",
       "  </tbody>\n",
       "</table>\n",
       "</div>"
      ],
      "text/plain": [
       "          miRNA  miRNA_count\n",
       "21  hsa-mir-27a            7\n",
       "12  hsa-mir-144            6\n",
       "75  hsa-mir-27b            3"
      ]
     },
     "execution_count": 30,
     "metadata": {},
     "output_type": "execute_result"
    }
   ],
   "source": [
    "all_count \\\n",
    "    .pipe(lambda d: d[d.miRNA.str.contains('-451|-144|-27')])"
   ]
  },
  {
   "cell_type": "code",
   "execution_count": 31,
   "metadata": {
    "collapsed": false
   },
   "outputs": [
    {
     "data": {
      "text/plain": [
       "(74, 2)"
      ]
     },
     "execution_count": 31,
     "metadata": {},
     "output_type": "execute_result"
    }
   ],
   "source": [
    "all_count.query('miRNA_count>5').shape"
   ]
  },
  {
   "cell_type": "code",
   "execution_count": null,
   "metadata": {
    "collapsed": true
   },
   "outputs": [],
   "source": []
  }
 ],
 "metadata": {
  "kernelspec": {
   "display_name": "miniconda3",
   "language": "python",
   "name": "miniconda3"
  },
  "language_info": {
   "codemirror_mode": {
    "name": "ipython",
    "version": 3
   },
   "file_extension": ".py",
   "mimetype": "text/x-python",
   "name": "python",
   "nbconvert_exporter": "python",
   "pygments_lexer": "ipython3",
   "version": "3.6.8"
  }
 },
 "nbformat": 4,
 "nbformat_minor": 2
}
