{
 "cells": [
  {
   "cell_type": "code",
   "execution_count": 21,
   "metadata": {
    "collapsed": false
   },
   "outputs": [],
   "source": [
    "%matplotlib inline\n",
    "\n",
    "import torch\n",
    "import matplotlib.pyplot as plt\n",
    "import seaborn as sns\n",
    "import pandas as pd\n",
    "from io import StringIO\n",
    "from sklearn.metrics import mean_squared_error\n",
    "import glob\n",
    "import os\n",
    "from functools import reduce\n",
    "import numpy as np\n",
    "import re"
   ]
  },
  {
   "cell_type": "code",
   "execution_count": 22,
   "metadata": {
    "collapsed": true
   },
   "outputs": [],
   "source": [
    "def spike_conc(x):\n",
    "    conc = ''\n",
    "    if 'LE01' in x:\n",
    "        conc = '0.1 pg'\n",
    "    elif re.search('LE1$', x):\n",
    "        conc = '1 pg'\n",
    "    elif 'LE100' in x:\n",
    "        conc = '100 pg'\n",
    "    elif 'LE1K' in x:\n",
    "        conc = '1000 pg'\n",
    "    return conc\n",
    "\n",
    "def published():\n",
    "    gene_expr = '/stor/work/Lambowitz/cdw2854/EV_polyA/published_expr/rna_tissue.tsv'\n",
    "    expr_df = pd.read_table(gene_expr) \\\n",
    "        .pipe(pd.pivot_table, columns = 'Sample', \n",
    "              index = ['Gene','Gene name'], values = 'Value')\\\n",
    "        .reset_index()\n",
    "    return expr_df\n",
    "\n",
    "\n",
    "def read_salmon(filename, column = 'NumReads'):\n",
    "    samplename = os.path.basename(os.path.dirname(filename))\n",
    "    assert(column in ['NumReads','TPM'])\n",
    "    return pd.read_table(filename)\\\n",
    "        .rename(columns = {column:samplename}) \\\n",
    "        .filter(['Name', samplename])"
   ]
  },
  {
   "cell_type": "code",
   "execution_count": 23,
   "metadata": {
    "collapsed": false
   },
   "outputs": [
    {
     "data": {
      "text/html": [
       "<div>\n",
       "<style scoped>\n",
       "    .dataframe tbody tr th:only-of-type {\n",
       "        vertical-align: middle;\n",
       "    }\n",
       "\n",
       "    .dataframe tbody tr th {\n",
       "        vertical-align: top;\n",
       "    }\n",
       "\n",
       "    .dataframe thead th {\n",
       "        text-align: right;\n",
       "    }\n",
       "</style>\n",
       "<table border=\"1\" class=\"dataframe\">\n",
       "  <thead>\n",
       "    <tr style=\"text-align: right;\">\n",
       "      <th></th>\n",
       "      <th>Name</th>\n",
       "      <th>Qcf_LE1K</th>\n",
       "      <th>Qcf_LE100</th>\n",
       "      <th>Qcf_LE01</th>\n",
       "      <th>Qcf_LE1</th>\n",
       "    </tr>\n",
       "  </thead>\n",
       "  <tbody>\n",
       "    <tr>\n",
       "      <th>0</th>\n",
       "      <td>ERCC-00171</td>\n",
       "      <td>170.0</td>\n",
       "      <td>221.0</td>\n",
       "      <td>0.0</td>\n",
       "      <td>1.0</td>\n",
       "    </tr>\n",
       "    <tr>\n",
       "      <th>1</th>\n",
       "      <td>ERCC-00158</td>\n",
       "      <td>0.0</td>\n",
       "      <td>0.0</td>\n",
       "      <td>0.0</td>\n",
       "      <td>0.0</td>\n",
       "    </tr>\n",
       "    <tr>\n",
       "      <th>2</th>\n",
       "      <td>ERCC-00156</td>\n",
       "      <td>0.0</td>\n",
       "      <td>0.0</td>\n",
       "      <td>0.0</td>\n",
       "      <td>0.0</td>\n",
       "    </tr>\n",
       "    <tr>\n",
       "      <th>3</th>\n",
       "      <td>ERCC-00150</td>\n",
       "      <td>2.0</td>\n",
       "      <td>1.0</td>\n",
       "      <td>0.0</td>\n",
       "      <td>0.0</td>\n",
       "    </tr>\n",
       "    <tr>\n",
       "      <th>4</th>\n",
       "      <td>ERCC-00143</td>\n",
       "      <td>0.0</td>\n",
       "      <td>0.0</td>\n",
       "      <td>0.0</td>\n",
       "      <td>0.0</td>\n",
       "    </tr>\n",
       "  </tbody>\n",
       "</table>\n",
       "</div>"
      ],
      "text/plain": [
       "         Name  Qcf_LE1K  Qcf_LE100  Qcf_LE01  Qcf_LE1\n",
       "0  ERCC-00171     170.0      221.0       0.0      1.0\n",
       "1  ERCC-00158       0.0        0.0       0.0      0.0\n",
       "2  ERCC-00156       0.0        0.0       0.0      0.0\n",
       "3  ERCC-00150       2.0        1.0       0.0      0.0\n",
       "4  ERCC-00143       0.0        0.0       0.0      0.0"
      ]
     },
     "execution_count": 23,
     "metadata": {},
     "output_type": "execute_result"
    }
   ],
   "source": [
    "def salmon_df(quant = 'TPM'):\n",
    "    assert(quant in ['TPM', 'CPM'])\n",
    "    column = 'NumReads' if quant == 'CPM' else 'TPM'\n",
    "    salmon_path = '/stor/work/Lambowitz/cdw2854/cell_Free_nucleotides/tgirt_map/salmon_result'\n",
    "    sample_folders = glob.glob(salmon_path + '/Q*LE*')\n",
    "    gene_sf = map(lambda x: x + '/quant.genes.sf', sample_folders)\n",
    "    df = list(map(lambda f: read_salmon(f, column = column), gene_sf))\n",
    "    df = reduce(lambda x,y: x.merge(y, how = 'outer', on = ['Name']), df)\n",
    "    return df\n",
    "\n",
    "cpm_df = salmon_df(quant='CPM')\n",
    "cpm_df.head()"
   ]
  },
  {
   "cell_type": "code",
   "execution_count": 24,
   "metadata": {
    "collapsed": false
   },
   "outputs": [
    {
     "data": {
      "text/html": [
       "<div>\n",
       "<style scoped>\n",
       "    .dataframe tbody tr th:only-of-type {\n",
       "        vertical-align: middle;\n",
       "    }\n",
       "\n",
       "    .dataframe tbody tr th {\n",
       "        vertical-align: top;\n",
       "    }\n",
       "\n",
       "    .dataframe thead th {\n",
       "        text-align: right;\n",
       "    }\n",
       "</style>\n",
       "<table border=\"1\" class=\"dataframe\">\n",
       "  <thead>\n",
       "    <tr style=\"text-align: right;\">\n",
       "      <th></th>\n",
       "      <th>samplename</th>\n",
       "      <th>ercc</th>\n",
       "      <th>cpm</th>\n",
       "      <th>ercc_fraction</th>\n",
       "      <th>conc_label</th>\n",
       "      <th>conc</th>\n",
       "      <th>log_cpm</th>\n",
       "      <th>log_conc</th>\n",
       "      <th>mRNA_conc</th>\n",
       "      <th>log_mRNA</th>\n",
       "      <th>log_mRNA_cpm</th>\n",
       "    </tr>\n",
       "  </thead>\n",
       "  <tbody>\n",
       "    <tr>\n",
       "      <th>0</th>\n",
       "      <td>Qcf_LE01</td>\n",
       "      <td>ERCC</td>\n",
       "      <td>113.120031</td>\n",
       "      <td>0.000113</td>\n",
       "      <td>0.1 pg</td>\n",
       "      <td>0.1</td>\n",
       "      <td>2.057362</td>\n",
       "      <td>-1.0</td>\n",
       "      <td>883.916734</td>\n",
       "      <td>2.946411</td>\n",
       "      <td>5.999951</td>\n",
       "    </tr>\n",
       "    <tr>\n",
       "      <th>2</th>\n",
       "      <td>Qcf_LE1</td>\n",
       "      <td>ERCC</td>\n",
       "      <td>1015.545986</td>\n",
       "      <td>0.001016</td>\n",
       "      <td>1 pg</td>\n",
       "      <td>1.0</td>\n",
       "      <td>3.007127</td>\n",
       "      <td>0.0</td>\n",
       "      <td>983.691992</td>\n",
       "      <td>2.992859</td>\n",
       "      <td>5.999559</td>\n",
       "    </tr>\n",
       "    <tr>\n",
       "      <th>4</th>\n",
       "      <td>Qcf_LE100</td>\n",
       "      <td>ERCC</td>\n",
       "      <td>151688.468149</td>\n",
       "      <td>0.151688</td>\n",
       "      <td>100 pg</td>\n",
       "      <td>100.0</td>\n",
       "      <td>5.180955</td>\n",
       "      <td>2.0</td>\n",
       "      <td>559.245895</td>\n",
       "      <td>2.747603</td>\n",
       "      <td>5.928555</td>\n",
       "    </tr>\n",
       "    <tr>\n",
       "      <th>6</th>\n",
       "      <td>Qcf_LE1K</td>\n",
       "      <td>ERCC</td>\n",
       "      <td>409206.086859</td>\n",
       "      <td>0.409206</td>\n",
       "      <td>1000 pg</td>\n",
       "      <td>1000.0</td>\n",
       "      <td>5.611943</td>\n",
       "      <td>3.0</td>\n",
       "      <td>1443.756415</td>\n",
       "      <td>3.159494</td>\n",
       "      <td>5.771436</td>\n",
       "    </tr>\n",
       "  </tbody>\n",
       "</table>\n",
       "</div>"
      ],
      "text/plain": [
       "  samplename  ercc            cpm  ercc_fraction conc_label    conc   log_cpm  \\\n",
       "0   Qcf_LE01  ERCC     113.120031       0.000113     0.1 pg     0.1  2.057362   \n",
       "2    Qcf_LE1  ERCC    1015.545986       0.001016       1 pg     1.0  3.007127   \n",
       "4  Qcf_LE100  ERCC  151688.468149       0.151688     100 pg   100.0  5.180955   \n",
       "6   Qcf_LE1K  ERCC  409206.086859       0.409206    1000 pg  1000.0  5.611943   \n",
       "\n",
       "   log_conc    mRNA_conc  log_mRNA  log_mRNA_cpm  \n",
       "0      -1.0   883.916734  2.946411      5.999951  \n",
       "2       0.0   983.691992  2.992859      5.999559  \n",
       "4       2.0   559.245895  2.747603      5.928555  \n",
       "6       3.0  1443.756415  3.159494      5.771436  "
      ]
     },
     "execution_count": 24,
     "metadata": {},
     "output_type": "execute_result"
    }
   ],
   "source": [
    "spike_df = cpm_df\\\n",
    "    .assign(ercc = lambda d: np.where(d.Name.str.contains('ERCC'),\n",
    "                                       'ERCC',\n",
    "                                        'Not ERCC')) \\\n",
    "    .pipe(pd.melt, \n",
    "          id_vars = ['Name', 'ercc'],\n",
    "         var_name = 'samplename',\n",
    "         value_name = 'cpm') \\\n",
    "    .assign(cpm = lambda d: d.groupby('samplename').cpm.transform(lambda x: 1e6*x/x.sum()))\\\n",
    "    .groupby(['samplename','ercc'], as_index=False)\\\n",
    "    .agg({'cpm':'sum'}) \\\n",
    "    .assign(ercc_fraction = lambda d: d.groupby('samplename')['cpm'].transform(lambda x: x/x.sum()))  \\\n",
    "    .query('ercc == \"ERCC\"') \\\n",
    "    .assign(conc_label = lambda d: d.samplename.map(spike_conc)) \\\n",
    "    .assign(conc = lambda d: d.conc_label.str.replace(' pg','').astype(float)) \\\n",
    "    .assign(log_cpm = lambda d: np.log10(d.cpm+1))\\\n",
    "    .assign(log_conc = lambda d: np.log10(d.conc)) \\\n",
    "    .assign(mRNA_conc = lambda d: d.conc/d.ercc_fraction - d.conc ) \\\n",
    "    .assign(log_mRNA = lambda d: np.log10(d.mRNA_conc)) \\\n",
    "    .assign(log_mRNA_cpm = lambda d: np.log10((1-d.ercc_fraction) * 1e6))\n",
    "spike_df"
   ]
  },
  {
   "cell_type": "code",
   "execution_count": 27,
   "metadata": {
    "collapsed": true
   },
   "outputs": [],
   "source": [
    "def forward(x, m_m):\n",
    "    return torch.log(x) + torch.log(m_m)"
   ]
  },
  {
   "cell_type": "markdown",
   "metadata": {},
   "source": [
    "$\\pi_{ercc} = \\frac{m_e}{m_e+m_m}$\n",
    "\n",
    "$ (1-\\pi_{ercc} )(m_e) = \\pi_{ercc} m_m $\n",
    "\n",
    "Take $log$ and add a error term ($\\epsilon$) for optimization:\n",
    "\n",
    "$ log(1-\\pi_{ercc}) + log(m_e) = log(\\pi_{ercc}) + log(m_m) + \\epsilon$\n",
    "\n",
    "$ \\epsilon(m_m) = log(1-\\pi_{ercc}) + log(m_e) - log(\\pi_{ercc}) - log(m_m) $\n",
    "\n",
    "$ L(m_m) = MSE(m_m) = \\sum_{i\\in(0.1,1,100,1000)} \\epsilon(i; m_m)   $\n",
    "\n",
    "where $\\pi_{ercc}$ is the fraction ERCC read count, $m_e$ is the amount (pg/4-ml plasma) of ERCC spike-ins and $m_m$ is the amount (pg/4-ml plasma) of mRNA"
   ]
  },
  {
   "cell_type": "code",
   "execution_count": 41,
   "metadata": {
    "collapsed": false
   },
   "outputs": [],
   "source": [
    "ercc_fraction = torch.tensor(spike_df.ercc_fraction.values)\n",
    "ercc_conc = torch.tensor(spike_df.conc.values)\n",
    "y = torch.log(1-ercc_fraction) + torch.log(ercc_conc)\n",
    "m_m = torch.rand(1, requires_grad=True)\n",
    "loss_function = torch.nn.MSELoss()\n",
    "lr = 0.05\n",
    "optimizer = torch.optim.Adam([m_m], lr = lr)\n",
    "losses = []\n",
    "mRNA = []\n",
    "\n",
    "for epoch in range(100000):\n",
    "    pred_y = forward(ercc_fraction.float(), m_m)\n",
    "    loss = loss_function(pred_y.float(), y.float())\n",
    "    loss.backward()\n",
    "    optimizer.step()\n",
    "    optimizer.zero_grad()\n",
    "    \n",
    "    # record\n",
    "    loss_value = float(loss.data)\n",
    "    mRNA.append(float(m_m.data[0]))\n",
    "    losses.append(loss_value)"
   ]
  },
  {
   "cell_type": "code",
   "execution_count": 42,
   "metadata": {
    "collapsed": false
   },
   "outputs": [
    {
     "name": "stderr",
     "output_type": "stream",
     "text": [
      "/stor/work/Lambowitz/cdw2854/src/miniconda3/envs/tensorflow/lib/python3.6/site-packages/matplotlib/font_manager.py:1328: UserWarning: findfont: Font family ['sans-serif'] not found. Falling back to DejaVu Sans\n",
      "  (prop.get_family(), self.defaultFamily[fontext]))\n"
     ]
    },
    {
     "data": {
      "image/png": "[encoded data removed]",
      "text/plain": [
       "<Figure size 432x288 with 2 Axes>"
      ]
     },
     "metadata": {},
     "output_type": "display_data"
    }
   ],
   "source": [
    "plt.rc('axes', labelsize=15)\n",
    "plt.rc('xtick', labelsize=15)\n",
    "plt.rc('ytick', labelsize=15)\n",
    "ax = plt.subplot(211)\n",
    "ax.plot(losses)\n",
    "ax.set_ylabel('Loss (MSE)')\n",
    "ax.xaxis.set_visible(False)\n",
    "ax = plt.subplot(212)\n",
    "ax.plot(mRNA)\n",
    "ax.text(x = len(mRNA) + 100, \n",
    "        y = mRNA[-1] + 10, \n",
    "        s = '[mRNA] = %.1f pg/4-ml' %(mRNA[-1]), color = 'red',\n",
    "       ha = 'right', fontsize=15)\n",
    "ax.set_ylabel('mRNA conc (pg/4-ml)')\n",
    "ax.set_xlabel('Epoch')\n",
    "sns.despine()"
   ]
  },
  {
   "cell_type": "code",
   "execution_count": null,
   "metadata": {
    "collapsed": true
   },
   "outputs": [],
   "source": []
  }
 ],
 "metadata": {
  "kernelspec": {
   "display_name": "tensorflow",
   "language": "python",
   "name": "myenv"
  },
  "language_info": {
   "codemirror_mode": {
    "name": "ipython",
    "version": 3
   },
   "file_extension": ".py",
   "mimetype": "text/x-python",
   "name": "python",
   "nbconvert_exporter": "python",
   "pygments_lexer": "ipython3",
   "version": "3.6.5"
  }
 },
 "nbformat": 4,
 "nbformat_minor": 2
}
