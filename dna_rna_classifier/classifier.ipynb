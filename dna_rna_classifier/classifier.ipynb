{
 "cells": [
  {
   "cell_type": "code",
   "execution_count": 4,
   "metadata": {
    "collapsed": false
   },
   "outputs": [],
   "source": [
    "%matplotlib inline\n",
    "\n",
    "import tensorflow as tf\n",
    "import pysam\n",
    "from operator import itemgetter\n",
    "from sequencing_tools.fastq_tools import reverse_complement, kmer_bag, onehot_sequence_encoder\n",
    "import pandas as pd\n",
    "from sklearn.ensemble import RandomForestClassifier\n",
    "from sklearn.svm import SVC\n",
    "from sklearn.model_selection import train_test_split, GridSearchCV\n",
    "from sklearn.metrics import f1_score, precision_score, recall_score, roc_auc_score\n",
    "from sklearn.preprocessing import Binarizer, label_binarize\n",
    "import seaborn as sns\n",
    "import matplotlib.pyplot as plt\n",
    "import numpy as np\n",
    "from keras.models import Sequential\n",
    "from keras.layers import Dense, Conv1D,\\\n",
    "                    Flatten, MaxPool1D,  \\\n",
    "                    Dropout, LSTM, \\\n",
    "                    Bidirectional\n",
    "from keras import optimizers"
   ]
  },
  {
   "cell_type": "code",
   "execution_count": 6,
   "metadata": {
    "collapsed": true
   },
   "outputs": [],
   "source": [
    "test_bed = '/stor/work/Lambowitz/cdw2854/cell_Free_nucleotides/tgirt_map/classifier/test.bed'\n",
    "fa_file = '/stor/work/Lambowitz/ref/hg19/genome/hg19_genome.fa'"
   ]
  },
  {
   "cell_type": "code",
   "execution_count": 8,
   "metadata": {
    "collapsed": false
   },
   "outputs": [],
   "source": [
    "acceptable_chrom = list(range(1,23))\n",
    "acceptable_chrom.extend(['X','Y'])\n",
    "acceptable_chrom = ['chr' + str(chrom) for chrom in acceptable_chrom]\n",
    "\n",
    "def get_seq(bed_file, fasta):\n",
    "    genome_fa = pysam.Fastafile(fasta)\n",
    "    for line in open(bed_file):\n",
    "        fields = line.rstrip('\\n').split('\\t')\n",
    "        chrom, start, end, strand, label = itemgetter(0,1,2,5, -1)(fields)\n",
    "        if chrom in acceptable_chrom:\n",
    "            seq = genome_fa.fetch(chrom, int(start), int(end))\n",
    "            seq = reverse_complement(seq) if seq == \"-\" else seq\n",
    "            seq = seq.upper() \n",
    "            yield seq, label"
   ]
  },
  {
   "cell_type": "markdown",
   "metadata": {},
   "source": [
    "# A random forest classifier with kmer-bag method#"
   ]
  },
  {
   "cell_type": "code",
   "execution_count": 10,
   "metadata": {
    "collapsed": false
   },
   "outputs": [],
   "source": [
    "def extract_data(bed_file, fasta):\n",
    "    for i, (seq, label) in enumerate(get_seq(bed_file, fasta)):\n",
    "        kmers = kmer_bag(seq, k_start =  2, k_end = 6)\n",
    "        outid = 'read%i' %(i+1)\n",
    "        for kmer, kmer_count in kmers.items():\n",
    "            yield(outid, kmer, kmer_count, label)"
   ]
  },
  {
   "cell_type": "code",
   "execution_count": 12,
   "metadata": {
    "collapsed": false
   },
   "outputs": [
    {
     "data": {
      "text/html": [
       "<div>\n",
       "<style scoped>\n",
       "    .dataframe tbody tr th:only-of-type {\n",
       "        vertical-align: middle;\n",
       "    }\n",
       "\n",
       "    .dataframe tbody tr th {\n",
       "        vertical-align: top;\n",
       "    }\n",
       "\n",
       "    .dataframe thead th {\n",
       "        text-align: right;\n",
       "    }\n",
       "</style>\n",
       "<table border=\"1\" class=\"dataframe\">\n",
       "  <thead>\n",
       "    <tr style=\"text-align: right;\">\n",
       "      <th></th>\n",
       "      <th>read_id</th>\n",
       "      <th>kmer</th>\n",
       "      <th>kmer_count</th>\n",
       "      <th>label</th>\n",
       "    </tr>\n",
       "  </thead>\n",
       "  <tbody>\n",
       "    <tr>\n",
       "      <th>0</th>\n",
       "      <td>read1</td>\n",
       "      <td>TG</td>\n",
       "      <td>2</td>\n",
       "      <td>DNA</td>\n",
       "    </tr>\n",
       "    <tr>\n",
       "      <th>1</th>\n",
       "      <td>read1</td>\n",
       "      <td>GA</td>\n",
       "      <td>6</td>\n",
       "      <td>DNA</td>\n",
       "    </tr>\n",
       "    <tr>\n",
       "      <th>2</th>\n",
       "      <td>read1</td>\n",
       "      <td>AG</td>\n",
       "      <td>5</td>\n",
       "      <td>DNA</td>\n",
       "    </tr>\n",
       "    <tr>\n",
       "      <th>3</th>\n",
       "      <td>read1</td>\n",
       "      <td>GG</td>\n",
       "      <td>2</td>\n",
       "      <td>DNA</td>\n",
       "    </tr>\n",
       "    <tr>\n",
       "      <th>4</th>\n",
       "      <td>read1</td>\n",
       "      <td>AA</td>\n",
       "      <td>8</td>\n",
       "      <td>DNA</td>\n",
       "    </tr>\n",
       "  </tbody>\n",
       "</table>\n",
       "</div>"
      ],
      "text/plain": [
       "  read_id kmer  kmer_count label\n",
       "0   read1   TG           2   DNA\n",
       "1   read1   GA           6   DNA\n",
       "2   read1   AG           5   DNA\n",
       "3   read1   GG           2   DNA\n",
       "4   read1   AA           8   DNA"
      ]
     },
     "execution_count": 12,
     "metadata": {},
     "output_type": "execute_result"
    }
   ],
   "source": [
    "data_generator = extract_data(test_bed, fa_file)\n",
    "kdf = pd.DataFrame(data_generator,\n",
    "                  columns = ['read_id','kmer','kmer_count','label'])\n",
    "kdf.head()"
   ]
  },
  {
   "cell_type": "code",
   "execution_count": 14,
   "metadata": {
    "collapsed": false
   },
   "outputs": [
    {
     "data": {
      "text/html": [
       "<div>\n",
       "<style scoped>\n",
       "    .dataframe tbody tr th:only-of-type {\n",
       "        vertical-align: middle;\n",
       "    }\n",
       "\n",
       "    .dataframe tbody tr th {\n",
       "        vertical-align: top;\n",
       "    }\n",
       "\n",
       "    .dataframe thead th {\n",
       "        text-align: right;\n",
       "    }\n",
       "</style>\n",
       "<table border=\"1\" class=\"dataframe\">\n",
       "  <thead>\n",
       "    <tr style=\"text-align: right;\">\n",
       "      <th>kmer</th>\n",
       "      <th>read_id</th>\n",
       "      <th>label</th>\n",
       "      <th>AA</th>\n",
       "      <th>AAA</th>\n",
       "      <th>AAAA</th>\n",
       "      <th>AAAAA</th>\n",
       "      <th>AAAAC</th>\n",
       "      <th>AAAAG</th>\n",
       "      <th>AAAAT</th>\n",
       "      <th>AAAC</th>\n",
       "      <th>...</th>\n",
       "      <th>TTTG</th>\n",
       "      <th>TTTGA</th>\n",
       "      <th>TTTGC</th>\n",
       "      <th>TTTGG</th>\n",
       "      <th>TTTGT</th>\n",
       "      <th>TTTT</th>\n",
       "      <th>TTTTA</th>\n",
       "      <th>TTTTC</th>\n",
       "      <th>TTTTG</th>\n",
       "      <th>TTTTT</th>\n",
       "    </tr>\n",
       "  </thead>\n",
       "  <tbody>\n",
       "    <tr>\n",
       "      <th>0</th>\n",
       "      <td>read1</td>\n",
       "      <td>DNA</td>\n",
       "      <td>8</td>\n",
       "      <td>2</td>\n",
       "      <td>0</td>\n",
       "      <td>0</td>\n",
       "      <td>0</td>\n",
       "      <td>0</td>\n",
       "      <td>0</td>\n",
       "      <td>1</td>\n",
       "      <td>...</td>\n",
       "      <td>0</td>\n",
       "      <td>0</td>\n",
       "      <td>0</td>\n",
       "      <td>0</td>\n",
       "      <td>0</td>\n",
       "      <td>1</td>\n",
       "      <td>0</td>\n",
       "      <td>1</td>\n",
       "      <td>0</td>\n",
       "      <td>0</td>\n",
       "    </tr>\n",
       "    <tr>\n",
       "      <th>1</th>\n",
       "      <td>read10</td>\n",
       "      <td>DNA</td>\n",
       "      <td>1</td>\n",
       "      <td>0</td>\n",
       "      <td>0</td>\n",
       "      <td>0</td>\n",
       "      <td>0</td>\n",
       "      <td>0</td>\n",
       "      <td>0</td>\n",
       "      <td>0</td>\n",
       "      <td>...</td>\n",
       "      <td>1</td>\n",
       "      <td>1</td>\n",
       "      <td>0</td>\n",
       "      <td>0</td>\n",
       "      <td>0</td>\n",
       "      <td>0</td>\n",
       "      <td>0</td>\n",
       "      <td>0</td>\n",
       "      <td>0</td>\n",
       "      <td>0</td>\n",
       "    </tr>\n",
       "    <tr>\n",
       "      <th>2</th>\n",
       "      <td>read100</td>\n",
       "      <td>DNA</td>\n",
       "      <td>12</td>\n",
       "      <td>3</td>\n",
       "      <td>0</td>\n",
       "      <td>0</td>\n",
       "      <td>0</td>\n",
       "      <td>0</td>\n",
       "      <td>0</td>\n",
       "      <td>1</td>\n",
       "      <td>...</td>\n",
       "      <td>2</td>\n",
       "      <td>0</td>\n",
       "      <td>0</td>\n",
       "      <td>0</td>\n",
       "      <td>2</td>\n",
       "      <td>3</td>\n",
       "      <td>0</td>\n",
       "      <td>0</td>\n",
       "      <td>2</td>\n",
       "      <td>1</td>\n",
       "    </tr>\n",
       "    <tr>\n",
       "      <th>3</th>\n",
       "      <td>read1000</td>\n",
       "      <td>DNA</td>\n",
       "      <td>16</td>\n",
       "      <td>5</td>\n",
       "      <td>3</td>\n",
       "      <td>1</td>\n",
       "      <td>0</td>\n",
       "      <td>1</td>\n",
       "      <td>1</td>\n",
       "      <td>0</td>\n",
       "      <td>...</td>\n",
       "      <td>0</td>\n",
       "      <td>0</td>\n",
       "      <td>0</td>\n",
       "      <td>0</td>\n",
       "      <td>0</td>\n",
       "      <td>2</td>\n",
       "      <td>1</td>\n",
       "      <td>0</td>\n",
       "      <td>0</td>\n",
       "      <td>1</td>\n",
       "    </tr>\n",
       "    <tr>\n",
       "      <th>4</th>\n",
       "      <td>read10000</td>\n",
       "      <td>DNA</td>\n",
       "      <td>11</td>\n",
       "      <td>4</td>\n",
       "      <td>1</td>\n",
       "      <td>0</td>\n",
       "      <td>0</td>\n",
       "      <td>1</td>\n",
       "      <td>0</td>\n",
       "      <td>1</td>\n",
       "      <td>...</td>\n",
       "      <td>0</td>\n",
       "      <td>0</td>\n",
       "      <td>0</td>\n",
       "      <td>0</td>\n",
       "      <td>0</td>\n",
       "      <td>1</td>\n",
       "      <td>1</td>\n",
       "      <td>0</td>\n",
       "      <td>0</td>\n",
       "      <td>0</td>\n",
       "    </tr>\n",
       "  </tbody>\n",
       "</table>\n",
       "<p>5 rows × 1375 columns</p>\n",
       "</div>"
      ],
      "text/plain": [
       "kmer    read_id label  AA  AAA  AAAA  AAAAA  AAAAC  AAAAG  AAAAT  AAAC  ...    \\\n",
       "0         read1   DNA   8    2     0      0      0      0      0     1  ...     \n",
       "1        read10   DNA   1    0     0      0      0      0      0     0  ...     \n",
       "2       read100   DNA  12    3     0      0      0      0      0     1  ...     \n",
       "3      read1000   DNA  16    5     3      1      0      1      1     0  ...     \n",
       "4     read10000   DNA  11    4     1      0      0      1      0     1  ...     \n",
       "\n",
       "kmer  TTTG  TTTGA  TTTGC  TTTGG  TTTGT  TTTT  TTTTA  TTTTC  TTTTG  TTTTT  \n",
       "0        0      0      0      0      0     1      0      1      0      0  \n",
       "1        1      1      0      0      0     0      0      0      0      0  \n",
       "2        2      0      0      0      2     3      0      0      2      1  \n",
       "3        0      0      0      0      0     2      1      0      0      1  \n",
       "4        0      0      0      0      0     1      1      0      0      0  \n",
       "\n",
       "[5 rows x 1375 columns]"
      ]
     },
     "execution_count": 14,
     "metadata": {},
     "output_type": "execute_result"
    }
   ],
   "source": [
    "sdf = kdf\\\n",
    "    .pipe(pd.pivot_table, \n",
    "        index = ['read_id','label'],\n",
    "        columns = 'kmer',\n",
    "        values = 'kmer_count',\n",
    "        fill_value = 0) \\\n",
    "    .reset_index()\n",
    "sdf.head()"
   ]
  },
  {
   "cell_type": "code",
   "execution_count": 16,
   "metadata": {
    "collapsed": false
   },
   "outputs": [],
   "source": [
    "X = sdf.filter(regex = '[ACTG]')\n",
    "Y = sdf.label"
   ]
  },
  {
   "cell_type": "code",
   "execution_count": 18,
   "metadata": {
    "collapsed": false
   },
   "outputs": [],
   "source": [
    "X_train, X_test, y_train, y_test = train_test_split(X, Y, \n",
    "                                                    test_size=0.2, \n",
    "                                                    random_state=0)"
   ]
  },
  {
   "cell_type": "code",
   "execution_count": null,
   "metadata": {
    "collapsed": false
   },
   "outputs": [],
   "source": [
    "rf = RandomForestClassifier(oob_score=False)\n",
    "rf_cv = GridSearchCV(rf, \n",
    "                     n_jobs = 24,\n",
    "                     param_grid = {'n_estimators': np.arange(10,30)})\n",
    "rf_cv.fit(X_train, y_train)"
   ]
  },
  {
   "cell_type": "code",
   "execution_count": null,
   "metadata": {
    "collapsed": false
   },
   "outputs": [],
   "source": [
    "y_pred = rf_cv.best_estimator_.predict_proba(X_test)[:, 1].round()\n",
    "y_test_code = y_test.astype('category').cat.codes\n",
    "\n",
    "print(\"Precision: %1.3f\" % precision_score(y_test_code, y_pred))\n",
    "print(\"Recall: %1.3f\" % recall_score(y_test_code, y_pred))\n",
    "print(\"F1: %1.3f\" % f1_score(y_test_code, y_pred))\n",
    "print(\"AUROC: %1.3f\" % roc_auc_score(y_test_code, y_pred))"
   ]
  },
  {
   "cell_type": "code",
   "execution_count": null,
   "metadata": {
    "collapsed": false
   },
   "outputs": [],
   "source": [
    "ax = plt.subplot(111)\n",
    "sns.barplot(data = pd.DataFrame({'features':X.columns,\n",
    "                      'importance': rf_cv.best_estimator_.feature_importances_\n",
    "                     }) \\\n",
    "                .sort_values('importance', ascending=False)\\\n",
    "                .head(30),\n",
    "            x = 'features',\n",
    "            y = 'importance', \n",
    "            color = 'steelblue',\n",
    "            ax = ax)\n",
    "xt = ax.set_xticklabels(ax.get_xticklabels(), rotation = 90)\n",
    "sns.despine()"
   ]
  },
  {
   "cell_type": "markdown",
   "metadata": {},
   "source": [
    "# Try tensorflow neuralnet #"
   ]
  },
  {
   "cell_type": "code",
   "execution_count": 13,
   "metadata": {
    "collapsed": false
   },
   "outputs": [],
   "source": [
    "frag_size = 600\n",
    "acceptable_chrom = list(range(1,23))\n",
    "acceptable_chrom.append(['X','Y'])\n",
    "dna_encoder = onehot_sequence_encoder('ACTGN')\n",
    "\n",
    "\n",
    "def get_unpadded_seq(bed_file, fasta):\n",
    "    genome_fa = pysam.Fastafile(fasta)\n",
    "    for line in open(bed_file):\n",
    "        fields = line.rstrip('\\n').split('\\t')\n",
    "        chrom, start, end, strand, label = itemgetter(0,1,2,5, -1)(fields)\n",
    "        center = (int(end) + int(start)) / 2\n",
    "        if chrom != 'chrM':\n",
    "            seq = genome_fa.fetch(chrom, int(center) - frag_size/2, int(center) + frag_size/2)\n",
    "            seq = reverse_complement(seq) if seq == \"-\" else seq\n",
    "            seq = seq.upper() \n",
    "            yield seq, label\n",
    "\n",
    "\n",
    "def generate_data(bed_file, fasta):\n",
    "    for i, (seq, label) in enumerate(get_unpadded_seq(bed_file, fasta)):\n",
    "        yield(dna_encoder.transform(seq), label)\n",
    "            \n",
    "    \n",
    "def get_padded_seq(bed_file, fasta):\n",
    "    genome_fa = pysam.Fastafile(fasta)\n",
    "    for line in open(bed_file):\n",
    "        fields = line.rstrip('\\n').split('\\t')\n",
    "        chrom, start, end, strand, label = itemgetter(0,1,2,5, -1)(fields)\n",
    "        if chrom != 'chrM':\n",
    "            seq_length = int(end) - int(start)\n",
    "            if seq_length < frag_size:\n",
    "                padding_base = frag_size - seq_length\n",
    "                half_padding = int(padding_base/2)\n",
    "                seq = genome_fa.fetch(chrom, int(start), int(end))\n",
    "                seq = half_padding * 'N' + seq + (half_padding + 1) * 'N'\n",
    "\n",
    "            else:\n",
    "                center = (int(end) + int(start)) / 2\n",
    "                seq = genome_fa.fetch(chrom, int(center) - frag_size/2, int(center) + frag_size/2)\n",
    "                seq = reverse_complement(seq) if seq == \"-\" else seq\n",
    "                seq = seq.upper() \n",
    "            yield seq[:frag_size], label\n",
    "\n",
    "\n",
    "acceptable_nuc = set('ACTGN')\n",
    "def generate_padded_data(bed_file, fasta):\n",
    "    for i, (seq, label) in enumerate(get_padded_seq(bed_file, fasta)):\n",
    "        if set(seq).issubset(acceptable_nuc):\n",
    "            yield(dna_encoder.transform(seq), label)"
   ]
  },
  {
   "cell_type": "code",
   "execution_count": 14,
   "metadata": {
    "collapsed": false
   },
   "outputs": [
    {
     "name": "stdout",
     "output_type": "stream",
     "text": [
      "Help on class onehot_sequence_encoder in module sequencing_tools.fastq_tools._fastq_tools:\n",
      "\n",
      "class onehot_sequence_encoder(builtins.object)\n",
      " |  A onehot encoder for DNA sequence\n",
      " |  \n",
      " |  usage:\n",
      " |      dna_encoder = onehot_sequence_encoder()\n",
      " |      onehot_encoded_matrix = dna_encoder.fit_transform(sequence)\n",
      " |      dna_encoder.base_encoder  # check which base each column represents\n",
      " |  \n",
      " |  Methods defined here:\n",
      " |  \n",
      " |  __init__(self, bases='ACTGN')\n",
      " |  \n",
      " |  fit(self, bases='ACTGN')\n",
      " |  \n",
      " |  fit_transform(self, sequence)\n",
      " |      One hot sequence encoder\n",
      " |      \n",
      " |      Parameter:\n",
      " |          sequence: a string of sequence, only accept 'ACTGN'\n",
      " |      \n",
      " |      return:\n",
      " |          onehot encoded array:  len(sequence)-by-distinct(base) matrix\n",
      " |                                  columns represent each base\n",
      " |                                  rows represent each position along the sequence\n",
      " |  \n",
      " |  transform(self, sequence)\n",
      " |      One hot sequence encoder\n",
      " |      \n",
      " |      Parameter:\n",
      " |          sequence: a string of sequence, only accept 'ACTGN'\n",
      " |      \n",
      " |      return:\n",
      " |          onehot encoded array:  len(sequence)-by-distinct(base) matrix\n",
      " |                                  columns represent each base\n",
      " |                                  rows represent each position along the sequence\n",
      " |  \n",
      " |  ----------------------------------------------------------------------\n",
      " |  Data descriptors defined here:\n",
      " |  \n",
      " |  __dict__\n",
      " |      dictionary for instance variables (if defined)\n",
      " |  \n",
      " |  __weakref__\n",
      " |      list of weak references to the object (if defined)\n",
      "\n"
     ]
    }
   ],
   "source": [
    "help(onehot_sequence_encoder)"
   ]
  },
  {
   "cell_type": "code",
   "execution_count": 15,
   "metadata": {
    "collapsed": false
   },
   "outputs": [],
   "source": [
    "data = [(seq, lab) for seq, lab in generate_padded_data(test_bed, fa_file)]\n",
    "seqs, labels = zip(*data)"
   ]
  },
  {
   "cell_type": "code",
   "execution_count": 16,
   "metadata": {
    "collapsed": false
   },
   "outputs": [],
   "source": [
    "seqs = np.array(seqs)\n",
    "labels = np.array(labels)\n",
    "encoded_label = np.where(labels == \"DNA\", 1, 0)"
   ]
  },
  {
   "cell_type": "code",
   "execution_count": 17,
   "metadata": {
    "collapsed": true
   },
   "outputs": [],
   "source": [
    "X_train, X_test, y_train, y_test = train_test_split(seqs, encoded_label, \n",
    "                                                    test_size=0.2, \n",
    "                                                    random_state=0)"
   ]
  },
  {
   "cell_type": "code",
   "execution_count": 18,
   "metadata": {
    "collapsed": false
   },
   "outputs": [
    {
     "data": {
      "text/plain": [
       "(26545, 600, 5)"
      ]
     },
     "execution_count": 18,
     "metadata": {},
     "output_type": "execute_result"
    }
   ],
   "source": [
    "X_train.shape"
   ]
  },
  {
   "cell_type": "code",
   "execution_count": 19,
   "metadata": {
    "collapsed": false,
    "scrolled": true
   },
   "outputs": [
    {
     "name": "stdout",
     "output_type": "stream",
     "text": [
      "WARNING:tensorflow:From /stor/work/Lambowitz/cdw2854/src/miniconda3/envs/tensorflow/lib/python3.6/site-packages/tensorflow/python/util/deprecation.py:497: calling conv1d (from tensorflow.python.ops.nn_ops) with data_format=NHWC is deprecated and will be removed in a future version.\n",
      "Instructions for updating:\n",
      "`NHWC` for data_format is deprecated, use `NWC` instead\n",
      "_________________________________________________________________\n",
      "Layer (type)                 Output Shape              Param #   \n",
      "=================================================================\n",
      "conv1d_1 (Conv1D)            (None, 575, 160)          20960     \n",
      "_________________________________________________________________\n",
      "max_pooling1d_1 (MaxPooling1 (None, 41, 160)           0         \n",
      "_________________________________________________________________\n",
      "dropout_1 (Dropout)          (None, 41, 160)           0         \n",
      "_________________________________________________________________\n",
      "bidirectional_1 (Bidirection (None, 128)               115200    \n",
      "_________________________________________________________________\n",
      "dropout_2 (Dropout)          (None, 128)               0         \n",
      "_________________________________________________________________\n",
      "dense_1 (Dense)              (None, 25)                3225      \n",
      "_________________________________________________________________\n",
      "dense_2 (Dense)              (None, 1)                 26        \n",
      "=================================================================\n",
      "Total params: 139,411\n",
      "Trainable params: 139,411\n",
      "Non-trainable params: 0\n",
      "_________________________________________________________________\n"
     ]
    }
   ],
   "source": [
    "# from DanQ\n",
    "'''\n",
    "model = Sequential()\n",
    "model.add(Convolution1D(input_dim=4,\n",
    "                        input_length=1000,\n",
    "                        nb_filter=320,\n",
    "                        filter_length=26,\n",
    "                        border_mode=\"valid\",\n",
    "                        activation=\"relu\",\n",
    "                        subsample_length=1))\n",
    "model.add(MaxPooling1D(pool_length=13, stride=13))\n",
    "model.add(Dropout(0.2))\n",
    "model.add(brnn)\n",
    "model.add(Dropout(0.5))\n",
    "model.add(Flatten())\n",
    "model.add(Dense(input_dim=75*640, output_dim=925))\n",
    "model.add(Activation('relu'))\n",
    "model.add(Dense(input_dim=925, output_dim=919))\n",
    "model.add(Activation('sigmoid'))\n",
    "print 'compiling model'\n",
    "model.compile(loss='binary_crossentropy', optimizer='rmsprop', class_mode=\"binary\")\n",
    "'''\n",
    "\n",
    "model = Sequential()\n",
    "model.add(Conv1D(filters=160, \n",
    "                 kernel_size = 26,\n",
    "                 strides = 1,\n",
    "                 padding = 'valid',\n",
    "                 input_shape = (frag_size, 5),\n",
    "                 activation = 'relu'))\n",
    "model.add(MaxPool1D(pool_size=50, strides=13))\n",
    "model.add(Dropout(0.2))\n",
    "model.add(Bidirectional(LSTM(64)))\n",
    "#model.add(Flatten())\n",
    "model.add(Dropout(0.5))\n",
    "model.add(Dense(25, activation='relu'))\n",
    "model.add(Dense(1, activation='sigmoid'))\n",
    "model.compile(loss='binary_crossentropy', \n",
    "              optimizer='rmsprop', \n",
    "              metrics=['binary_accuracy'])\n",
    "model.summary()"
   ]
  },
  {
   "cell_type": "code",
   "execution_count": 25,
   "metadata": {
    "collapsed": false
   },
   "outputs": [
    {
     "name": "stdout",
     "output_type": "stream",
     "text": [
      "Train on 23890 samples, validate on 2655 samples\n",
      "Epoch 1/25\n",
      "23890/23890 [==============================] - 51s 2ms/step - loss: 0.0815 - binary_accuracy: 0.9704 - val_loss: 0.6969 - val_binary_accuracy: 0.8512\n",
      "Epoch 2/25\n",
      "23890/23890 [==============================] - 51s 2ms/step - loss: 0.0800 - binary_accuracy: 0.9707 - val_loss: 0.4445 - val_binary_accuracy: 0.8719\n",
      "Epoch 3/25\n",
      "23890/23890 [==============================] - 51s 2ms/step - loss: 0.0813 - binary_accuracy: 0.9716 - val_loss: 0.4709 - val_binary_accuracy: 0.8731\n",
      "Epoch 4/25\n",
      "23890/23890 [==============================] - 52s 2ms/step - loss: 0.0749 - binary_accuracy: 0.9729 - val_loss: 0.5060 - val_binary_accuracy: 0.8648\n",
      "Epoch 5/25\n",
      "23890/23890 [==============================] - 51s 2ms/step - loss: 0.0750 - binary_accuracy: 0.9742 - val_loss: 0.6623 - val_binary_accuracy: 0.8738\n",
      "Epoch 6/25\n",
      "23890/23890 [==============================] - 51s 2ms/step - loss: 0.0759 - binary_accuracy: 0.9740 - val_loss: 0.4443 - val_binary_accuracy: 0.8561\n",
      "Epoch 7/25\n",
      "23890/23890 [==============================] - 51s 2ms/step - loss: 0.0702 - binary_accuracy: 0.9772 - val_loss: 0.4942 - val_binary_accuracy: 0.8693\n",
      "Epoch 8/25\n",
      "23890/23890 [==============================] - 51s 2ms/step - loss: 0.0686 - binary_accuracy: 0.9766 - val_loss: 0.4549 - val_binary_accuracy: 0.8742\n",
      "Epoch 9/25\n",
      "23890/23890 [==============================] - 51s 2ms/step - loss: 0.0679 - binary_accuracy: 0.9775 - val_loss: 0.5858 - val_binary_accuracy: 0.8655\n",
      "Epoch 10/25\n",
      "23890/23890 [==============================] - 51s 2ms/step - loss: 0.0648 - binary_accuracy: 0.9777 - val_loss: 0.5568 - val_binary_accuracy: 0.8742\n",
      "Epoch 11/25\n",
      "23890/23890 [==============================] - 51s 2ms/step - loss: 0.0627 - binary_accuracy: 0.9782 - val_loss: 0.6569 - val_binary_accuracy: 0.8580\n",
      "Epoch 12/25\n",
      "23890/23890 [==============================] - 51s 2ms/step - loss: 0.0645 - binary_accuracy: 0.9776 - val_loss: 0.4982 - val_binary_accuracy: 0.8731\n",
      "Epoch 13/25\n",
      "23890/23890 [==============================] - 51s 2ms/step - loss: 0.0593 - binary_accuracy: 0.9792 - val_loss: 0.5958 - val_binary_accuracy: 0.8659\n",
      "Epoch 14/25\n",
      "23890/23890 [==============================] - 51s 2ms/step - loss: 0.0554 - binary_accuracy: 0.9821 - val_loss: 0.6277 - val_binary_accuracy: 0.8674\n",
      "Epoch 15/25\n",
      "23890/23890 [==============================] - 51s 2ms/step - loss: 0.0577 - binary_accuracy: 0.9802 - val_loss: 0.7433 - val_binary_accuracy: 0.8685\n",
      "Epoch 16/25\n",
      "23890/23890 [==============================] - 51s 2ms/step - loss: 0.0549 - binary_accuracy: 0.9817 - val_loss: 0.5535 - val_binary_accuracy: 0.8731\n",
      "Epoch 17/25\n",
      "23890/23890 [==============================] - 51s 2ms/step - loss: 0.0544 - binary_accuracy: 0.9808 - val_loss: 0.4935 - val_binary_accuracy: 0.8697\n",
      "Epoch 18/25\n",
      "23890/23890 [==============================] - 51s 2ms/step - loss: 0.0572 - binary_accuracy: 0.9804 - val_loss: 0.7838 - val_binary_accuracy: 0.8768\n",
      "Epoch 19/25\n",
      "23890/23890 [==============================] - 51s 2ms/step - loss: 0.0543 - binary_accuracy: 0.9825 - val_loss: 0.6019 - val_binary_accuracy: 0.8663\n",
      "Epoch 20/25\n",
      "23890/23890 [==============================] - 51s 2ms/step - loss: 0.0542 - binary_accuracy: 0.9828 - val_loss: 0.8015 - val_binary_accuracy: 0.8659\n",
      "Epoch 21/25\n",
      "23890/23890 [==============================] - 51s 2ms/step - loss: 0.0534 - binary_accuracy: 0.9822 - val_loss: 0.5951 - val_binary_accuracy: 0.8719\n",
      "Epoch 22/25\n",
      "23890/23890 [==============================] - 51s 2ms/step - loss: 0.0512 - binary_accuracy: 0.9831 - val_loss: 0.5100 - val_binary_accuracy: 0.8712\n",
      "Epoch 23/25\n",
      "23890/23890 [==============================] - 51s 2ms/step - loss: 0.0504 - binary_accuracy: 0.9826 - val_loss: 0.5911 - val_binary_accuracy: 0.8659\n",
      "Epoch 24/25\n",
      "23890/23890 [==============================] - 51s 2ms/step - loss: 0.0525 - binary_accuracy: 0.9829 - val_loss: 0.5853 - val_binary_accuracy: 0.8573\n",
      "Epoch 25/25\n",
      "23890/23890 [==============================] - 51s 2ms/step - loss: 0.0487 - binary_accuracy: 0.9847 - val_loss: 0.7797 - val_binary_accuracy: 0.8685\n"
     ]
    }
   ],
   "source": [
    "history = model.fit(X_train, y_train, \n",
    "                    validation_split = 0.1,\n",
    "                    epochs = 25)"
   ]
  },
  {
   "cell_type": "code",
   "execution_count": 26,
   "metadata": {
    "collapsed": false
   },
   "outputs": [
    {
     "data": {
      "text/plain": [
       "<matplotlib.legend.Legend at 0x7efec7aa4e80>"
      ]
     },
     "execution_count": 26,
     "metadata": {},
     "output_type": "execute_result"
    },
    {
     "data": {
      "image/png": "[encoded data removed]",
      "text/plain": [
       "<Figure size 432x288 with 1 Axes>"
      ]
     },
     "metadata": {},
     "output_type": "display_data"
    }
   ],
   "source": [
    "ax = plt.subplot(111)\n",
    "for key, vals in history.history.items():\n",
    "    ax.plot(np.arange(len(vals)), vals, '-o',  label = key)\n",
    "ax.legend()"
   ]
  },
  {
   "cell_type": "code",
   "execution_count": 27,
   "metadata": {
    "collapsed": false
   },
   "outputs": [
    {
     "name": "stdout",
     "output_type": "stream",
     "text": [
      "Precision: 0.902\n",
      "Recall: 0.869\n",
      "F1: 0.885\n",
      "AUROC: 0.869\n"
     ]
    }
   ],
   "source": [
    "y_pred = model.predict_classes(X_test)\n",
    "y_pred = y_pred.flatten()\n",
    "\n",
    "print(\"Precision: %1.3f\" % precision_score(y_test, y_pred))\n",
    "print(\"Recall: %1.3f\" % recall_score(y_test, y_pred))\n",
    "print(\"F1: %1.3f\" % f1_score(y_test, y_pred))\n",
    "print(\"AUROC: %1.3f\" % roc_auc_score(y_test, y_pred))"
   ]
  },
  {
   "cell_type": "code",
   "execution_count": 28,
   "metadata": {
    "collapsed": false
   },
   "outputs": [
    {
     "data": {
      "image/svg+xml": [
       "<svg height=\"564pt\" viewBox=\"0.00 0.00 276.00 564.00\" width=\"276pt\" xmlns=\"http://www.w3.org/2000/svg\" xmlns:xlink=\"http://www.w3.org/1999/xlink\">\n",
       "<g class=\"graph\" id=\"graph0\" transform=\"scale(1 1) rotate(0) translate(4 560)\">\n",
       "<title>G</title>\n",
       "<polygon fill=\"white\" points=\"-4,4 -4,-560 272,-560 272,4 -4,4\" stroke=\"none\"/>\n",
       "<!-- 139632745230744 -->\n",
       "<g class=\"node\" id=\"node1\"><title>139632745230744</title>\n",
       "<polygon fill=\"none\" points=\"48,-519 48,-555 220,-555 220,-519 48,-519\" stroke=\"black\"/>\n",
       "<text font-family=\"Times,serif\" font-size=\"14.00\" text-anchor=\"middle\" x=\"134\" y=\"-533.3\">conv1d_1_input: InputLayer</text>\n",
       "</g>\n",
       "<!-- 139632745230688 -->\n",
       "<g class=\"node\" id=\"node2\"><title>139632745230688</title>\n",
       "<polygon fill=\"none\" points=\"72.5,-445 72.5,-481 195.5,-481 195.5,-445 72.5,-445\" stroke=\"black\"/>\n",
       "<text font-family=\"Times,serif\" font-size=\"14.00\" text-anchor=\"middle\" x=\"134\" y=\"-459.3\">conv1d_1: Conv1D</text>\n",
       "</g>\n",
       "<!-- 139632745230744&#45;&gt;139632745230688 -->\n",
       "<g class=\"edge\" id=\"edge1\"><title>139632745230744-&gt;139632745230688</title>\n",
       "<path d=\"M134,-518.937C134,-510.807 134,-500.876 134,-491.705\" fill=\"none\" stroke=\"black\"/>\n",
       "<polygon fill=\"black\" points=\"137.5,-491.441 134,-481.441 130.5,-491.441 137.5,-491.441\" stroke=\"black\"/>\n",
       "</g>\n",
       "<!-- 139632163206368 -->\n",
       "<g class=\"node\" id=\"node3\"><title>139632163206368</title>\n",
       "<polygon fill=\"none\" points=\"30.5,-371 30.5,-407 237.5,-407 237.5,-371 30.5,-371\" stroke=\"black\"/>\n",
       "<text font-family=\"Times,serif\" font-size=\"14.00\" text-anchor=\"middle\" x=\"134\" y=\"-385.3\">max_pooling1d_1: MaxPooling1D</text>\n",
       "</g>\n",
       "<!-- 139632745230688&#45;&gt;139632163206368 -->\n",
       "<g class=\"edge\" id=\"edge2\"><title>139632745230688-&gt;139632163206368</title>\n",
       "<path d=\"M134,-444.937C134,-436.807 134,-426.876 134,-417.705\" fill=\"none\" stroke=\"black\"/>\n",
       "<polygon fill=\"black\" points=\"137.5,-417.441 134,-407.441 130.5,-417.441 137.5,-417.441\" stroke=\"black\"/>\n",
       "</g>\n",
       "<!-- 139632745231136 -->\n",
       "<g class=\"node\" id=\"node4\"><title>139632745231136</title>\n",
       "<polygon fill=\"none\" points=\"71.5,-297 71.5,-333 196.5,-333 196.5,-297 71.5,-297\" stroke=\"black\"/>\n",
       "<text font-family=\"Times,serif\" font-size=\"14.00\" text-anchor=\"middle\" x=\"134\" y=\"-311.3\">dropout_1: Dropout</text>\n",
       "</g>\n",
       "<!-- 139632163206368&#45;&gt;139632745231136 -->\n",
       "<g class=\"edge\" id=\"edge3\"><title>139632163206368-&gt;139632745231136</title>\n",
       "<path d=\"M134,-370.937C134,-362.807 134,-352.876 134,-343.705\" fill=\"none\" stroke=\"black\"/>\n",
       "<polygon fill=\"black\" points=\"137.5,-343.441 134,-333.441 130.5,-343.441 137.5,-343.441\" stroke=\"black\"/>\n",
       "</g>\n",
       "<!-- 139632651209752 -->\n",
       "<g class=\"node\" id=\"node5\"><title>139632651209752</title>\n",
       "<polygon fill=\"none\" points=\"-0.5,-223 -0.5,-259 268.5,-259 268.5,-223 -0.5,-223\" stroke=\"black\"/>\n",
       "<text font-family=\"Times,serif\" font-size=\"14.00\" text-anchor=\"middle\" x=\"134\" y=\"-237.3\">bidirectional_1(lstm_1): Bidirectional(LSTM)</text>\n",
       "</g>\n",
       "<!-- 139632745231136&#45;&gt;139632651209752 -->\n",
       "<g class=\"edge\" id=\"edge4\"><title>139632745231136-&gt;139632651209752</title>\n",
       "<path d=\"M134,-296.937C134,-288.807 134,-278.876 134,-269.705\" fill=\"none\" stroke=\"black\"/>\n",
       "<polygon fill=\"black\" points=\"137.5,-269.441 134,-259.441 130.5,-269.441 137.5,-269.441\" stroke=\"black\"/>\n",
       "</g>\n",
       "<!-- 139632745231360 -->\n",
       "<g class=\"node\" id=\"node6\"><title>139632745231360</title>\n",
       "<polygon fill=\"none\" points=\"71.5,-149 71.5,-185 196.5,-185 196.5,-149 71.5,-149\" stroke=\"black\"/>\n",
       "<text font-family=\"Times,serif\" font-size=\"14.00\" text-anchor=\"middle\" x=\"134\" y=\"-163.3\">dropout_2: Dropout</text>\n",
       "</g>\n",
       "<!-- 139632651209752&#45;&gt;139632745231360 -->\n",
       "<g class=\"edge\" id=\"edge5\"><title>139632651209752-&gt;139632745231360</title>\n",
       "<path d=\"M134,-222.937C134,-214.807 134,-204.876 134,-195.705\" fill=\"none\" stroke=\"black\"/>\n",
       "<polygon fill=\"black\" points=\"137.5,-195.441 134,-185.441 130.5,-195.441 137.5,-195.441\" stroke=\"black\"/>\n",
       "</g>\n",
       "<!-- 139632595060608 -->\n",
       "<g class=\"node\" id=\"node7\"><title>139632595060608</title>\n",
       "<polygon fill=\"none\" points=\"83,-75 83,-111 185,-111 185,-75 83,-75\" stroke=\"black\"/>\n",
       "<text font-family=\"Times,serif\" font-size=\"14.00\" text-anchor=\"middle\" x=\"134\" y=\"-89.3\">dense_1: Dense</text>\n",
       "</g>\n",
       "<!-- 139632745231360&#45;&gt;139632595060608 -->\n",
       "<g class=\"edge\" id=\"edge6\"><title>139632745231360-&gt;139632595060608</title>\n",
       "<path d=\"M134,-148.937C134,-140.807 134,-130.876 134,-121.705\" fill=\"none\" stroke=\"black\"/>\n",
       "<polygon fill=\"black\" points=\"137.5,-121.441 134,-111.441 130.5,-121.441 137.5,-121.441\" stroke=\"black\"/>\n",
       "</g>\n",
       "<!-- 139632755065184 -->\n",
       "<g class=\"node\" id=\"node8\"><title>139632755065184</title>\n",
       "<polygon fill=\"none\" points=\"83,-1 83,-37 185,-37 185,-1 83,-1\" stroke=\"black\"/>\n",
       "<text font-family=\"Times,serif\" font-size=\"14.00\" text-anchor=\"middle\" x=\"134\" y=\"-15.3\">dense_2: Dense</text>\n",
       "</g>\n",
       "<!-- 139632595060608&#45;&gt;139632755065184 -->\n",
       "<g class=\"edge\" id=\"edge7\"><title>139632595060608-&gt;139632755065184</title>\n",
       "<path d=\"M134,-74.937C134,-66.8072 134,-56.8761 134,-47.7047\" fill=\"none\" stroke=\"black\"/>\n",
       "<polygon fill=\"black\" points=\"137.5,-47.4406 134,-37.4407 130.5,-47.4407 137.5,-47.4406\" stroke=\"black\"/>\n",
       "</g>\n",
       "</g>\n",
       "</svg>"
      ],
      "text/plain": [
       "<IPython.core.display.SVG object>"
      ]
     },
     "execution_count": 28,
     "metadata": {},
     "output_type": "execute_result"
    }
   ],
   "source": [
    "from IPython.display import SVG\n",
    "from keras.utils.vis_utils import model_to_dot\n",
    "\n",
    "SVG(model_to_dot(model).create(prog='dot', format='svg'))"
   ]
  },
  {
   "cell_type": "code",
   "execution_count": null,
   "metadata": {
    "collapsed": false
   },
   "outputs": [],
   "source": [
    "set('aaacct').issubset(set('act'))"
   ]
  }
 ],
 "metadata": {
  "kernelspec": {
   "display_name": "tensorflow",
   "language": "python",
   "name": "myenv"
  },
  "language_info": {
   "codemirror_mode": {
    "name": "ipython",
    "version": 3
   },
   "file_extension": ".py",
   "mimetype": "text/x-python",
   "name": "python",
   "nbconvert_exporter": "python",
   "pygments_lexer": "ipython3",
   "version": "3.6.5"
  }
 },
 "nbformat": 4,
 "nbformat_minor": 2
}
